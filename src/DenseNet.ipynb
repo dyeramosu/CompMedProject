{
  "nbformat": 4,
  "nbformat_minor": 0,
  "metadata": {
    "colab": {
      "name": "DenseNet.ipynb",
      "provenance": [],
      "collapsed_sections": []
    },
    "kernelspec": {
      "name": "python3",
      "display_name": "Python 3"
    },
    "language_info": {
      "name": "python"
    },
    "accelerator": "GPU"
  },
  "cells": [
    {
      "cell_type": "code",
      "metadata": {
        "id": "Kq7RuuvyqOfZ",
        "colab": {
          "base_uri": "https://localhost:8080/"
        },
        "outputId": "8216744d-26cf-4286-d3ba-19e01db922ac"
      },
      "source": [
        "import tensorflow as tf\n",
        "device_name = tf.test.gpu_device_name()\n",
        "if device_name != '/device:GPU:0':\n",
        "  raise SystemError('GPU device not found')\n",
        "print('Found GPU at: {}'.format(device_name))"
      ],
      "execution_count": 61,
      "outputs": [
        {
          "output_type": "stream",
          "name": "stdout",
          "text": [
            "Found GPU at: /device:GPU:0\n"
          ]
        }
      ]
    },
    {
      "cell_type": "code",
      "metadata": {
        "id": "wdOmhgQAq72P"
      },
      "source": [
        "import numpy as np\n",
        "import pandas as pd\n",
        "import matplotlib.pyplot as plt\n",
        "%matplotlib inline\n",
        "\n",
        "import tensorflow as tf\n"
      ],
      "execution_count": 62,
      "outputs": []
    },
    {
      "cell_type": "code",
      "metadata": {
        "id": "DtB9_hUsrMom",
        "colab": {
          "base_uri": "https://localhost:8080/"
        },
        "outputId": "97d2bb0b-82a5-4f5a-ca7a-9b58f1394939"
      },
      "source": [
        "from google.colab import drive\n",
        "drive.mount('/content/drive')"
      ],
      "execution_count": 63,
      "outputs": [
        {
          "output_type": "stream",
          "name": "stdout",
          "text": [
            "Drive already mounted at /content/drive; to attempt to forcibly remount, call drive.mount(\"/content/drive\", force_remount=True).\n"
          ]
        }
      ]
    },
    {
      "cell_type": "code",
      "metadata": {
        "id": "P23SSiMYrXcP",
        "colab": {
          "base_uri": "https://localhost:8080/"
        },
        "outputId": "d40d54fa-bf37-4068-a037-b5235bc8e4c3"
      },
      "source": [
        "%cd /content/drive/My Drive/Colab Notebooks/"
      ],
      "execution_count": 64,
      "outputs": [
        {
          "output_type": "stream",
          "name": "stdout",
          "text": [
            "/content/drive/My Drive/Colab Notebooks\n"
          ]
        }
      ]
    },
    {
      "cell_type": "markdown",
      "metadata": {
        "id": "kkNNsouxvzBP"
      },
      "source": [
        "#Load Images"
      ]
    },
    {
      "cell_type": "code",
      "metadata": {
        "id": "BpqL6VPsvuuv"
      },
      "source": [
        "images = np.load('pathmnist.npz')"
      ],
      "execution_count": 65,
      "outputs": []
    },
    {
      "cell_type": "code",
      "metadata": {
        "id": "vIErw_fWv-XC"
      },
      "source": [
        "x_train = images['train_images']\n",
        "x_val = images['val_images']\n",
        "x_test = images['test_images']\n",
        "\n",
        "y_train = images['train_labels']\n",
        "y_val = images['val_labels']\n",
        "y_test = images['test_labels']"
      ],
      "execution_count": 66,
      "outputs": []
    },
    {
      "cell_type": "code",
      "metadata": {
        "id": "E-RpuuRWwLJf",
        "colab": {
          "base_uri": "https://localhost:8080/"
        },
        "outputId": "a0b9a5a2-6f44-4119-ee1d-634c35134e85"
      },
      "source": [
        "x_train.shape"
      ],
      "execution_count": 67,
      "outputs": [
        {
          "output_type": "execute_result",
          "data": {
            "text/plain": [
              "(89996, 28, 28, 3)"
            ]
          },
          "metadata": {},
          "execution_count": 67
        }
      ]
    },
    {
      "cell_type": "code",
      "metadata": {
        "id": "8PIBfNDKwZq6",
        "colab": {
          "base_uri": "https://localhost:8080/"
        },
        "outputId": "bf734c45-c927-4cfe-85c0-f1ab3952fded"
      },
      "source": [
        "y_train.shape"
      ],
      "execution_count": 68,
      "outputs": [
        {
          "output_type": "execute_result",
          "data": {
            "text/plain": [
              "(89996, 1)"
            ]
          },
          "metadata": {},
          "execution_count": 68
        }
      ]
    },
    {
      "cell_type": "code",
      "metadata": {
        "id": "UB9Ln4_MxEkB",
        "colab": {
          "base_uri": "https://localhost:8080/"
        },
        "outputId": "d0d343af-af09-454c-9d6c-e0f4d9985293"
      },
      "source": [
        "x_train.max()"
      ],
      "execution_count": 69,
      "outputs": [
        {
          "output_type": "execute_result",
          "data": {
            "text/plain": [
              "255"
            ]
          },
          "metadata": {},
          "execution_count": 69
        }
      ]
    },
    {
      "cell_type": "code",
      "metadata": {
        "id": "sQbWDYzWxM8w",
        "colab": {
          "base_uri": "https://localhost:8080/"
        },
        "outputId": "90f877a1-89c0-4465-87c2-dda4cee362c1"
      },
      "source": [
        "y_train.max()"
      ],
      "execution_count": 70,
      "outputs": [
        {
          "output_type": "execute_result",
          "data": {
            "text/plain": [
              "8"
            ]
          },
          "metadata": {},
          "execution_count": 70
        }
      ]
    },
    {
      "cell_type": "markdown",
      "metadata": {
        "id": "6pmkvzO3xUbO"
      },
      "source": [
        "#Preprocess Data"
      ]
    },
    {
      "cell_type": "code",
      "metadata": {
        "id": "y6Ccz9oqxOmu"
      },
      "source": [
        "x_train = x_train/255\n",
        "x_test = x_test/255\n",
        "x_val = x_val/255"
      ],
      "execution_count": 71,
      "outputs": []
    },
    {
      "cell_type": "code",
      "metadata": {
        "id": "HKZzfaeRxf3e"
      },
      "source": [
        "from tensorflow.keras.utils import to_categorical"
      ],
      "execution_count": 72,
      "outputs": []
    },
    {
      "cell_type": "code",
      "metadata": {
        "id": "L5blVrTLxjkI"
      },
      "source": [
        "#one hot encoding\n",
        "\n",
        "y_cat_train = to_categorical(y_train)\n",
        "y_cat_val = to_categorical(y_val)\n",
        "y_cat_test = to_categorical(y_test)"
      ],
      "execution_count": 73,
      "outputs": []
    },
    {
      "cell_type": "code",
      "metadata": {
        "id": "IpLdgJWHxuCc",
        "colab": {
          "base_uri": "https://localhost:8080/"
        },
        "outputId": "1044ab79-ec99-4a5b-c9bc-343c5f3b801c"
      },
      "source": [
        "y_cat_train.shape"
      ],
      "execution_count": 74,
      "outputs": [
        {
          "output_type": "execute_result",
          "data": {
            "text/plain": [
              "(89996, 9)"
            ]
          },
          "metadata": {},
          "execution_count": 74
        }
      ]
    },
    {
      "cell_type": "code",
      "metadata": {
        "id": "39dHt3E1xu8P",
        "colab": {
          "base_uri": "https://localhost:8080/"
        },
        "outputId": "d83f0501-009a-4f54-d813-3742766b9f92"
      },
      "source": [
        "y_cat_test.shape"
      ],
      "execution_count": 75,
      "outputs": [
        {
          "output_type": "execute_result",
          "data": {
            "text/plain": [
              "(7180, 9)"
            ]
          },
          "metadata": {},
          "execution_count": 75
        }
      ]
    },
    {
      "cell_type": "code",
      "metadata": {
        "id": "qufF_baLiZNf"
      },
      "source": [
        ""
      ],
      "execution_count": 76,
      "outputs": []
    },
    {
      "cell_type": "markdown",
      "metadata": {
        "id": "ci8ev2w11IlZ"
      },
      "source": [
        "#Build Model"
      ]
    },
    {
      "cell_type": "code",
      "metadata": {
        "id": "x9G0MpXj1K9a"
      },
      "source": [
        "from tensorflow.keras.layers import Input, Conv2D, BatchNormalization, Dense\n",
        "from tensorflow.keras.layers import AvgPool2D, GlobalAveragePooling2D, MaxPool2D\n",
        "from tensorflow.keras.models import Model\n",
        "from tensorflow.keras.layers import ReLU, concatenate\n",
        "import tensorflow.keras.backend as K"
      ],
      "execution_count": 77,
      "outputs": []
    },
    {
      "cell_type": "code",
      "metadata": {
        "id": "4pLC8aQO1ZK_",
        "colab": {
          "base_uri": "https://localhost:8080/"
        },
        "outputId": "2e4d66b0-88a6-48bb-ff66-fded5f2afdb6"
      },
      "source": [
        "shape = 28, 28, 3\n",
        "num_classes = 9\n",
        "filters = 32\n",
        "\n",
        "# Batch normalization, ReLU, and 2D conversion function\n",
        "def ConvolutionalBlock(x, filters, kernel=1, strides=1):\n",
        "  x = BatchNormalization()(x)\n",
        "  x = ReLU()(x)\n",
        "  x = Conv2D(filters, kernel, strides=strides, padding = 'same')(x)\n",
        "\n",
        "  return x\n",
        "\n",
        "def DenseBlock(x, num_repeats):\n",
        "  for _ in range(num_repeats):\n",
        "    y = ConvolutionalBlock(x, 4*filters)\n",
        "    y = ConvolutionalBlock(y, filters, 3)\n",
        "    x = concatenate([y, x])\n",
        "  return x\n",
        "\n",
        "def TransitionLayer(x):\n",
        "  x = ConvolutionalBlock(x, K.int_shape(x)[-1] //2)\n",
        "  x = AvgPool2D(2, strides=2, padding='same')(x)\n",
        "  return x\n",
        "\n",
        "input = Input(shape)\n",
        "x = Conv2D(64, 7, strides=2, padding='same')(input)\n",
        "x = MaxPool2D(3, strides=2, padding='same')(x)\n",
        "\n",
        "for num_repeats in [6, 12, 24, 16]:\n",
        "  d = DenseBlock(x, num_repeats)\n",
        "  x = TransitionLayer(d)\n",
        "\n",
        "x = GlobalAveragePooling2D()(d)\n",
        "out = Dense(num_classes, activation='softmax', kernel_regularizer='l1')(x)\n",
        "#tf.keras.layers.Dropout(0.5)\n",
        "model = Model(input, out)\n",
        "\n",
        "model.summary()"
      ],
      "execution_count": 78,
      "outputs": [
        {
          "output_type": "stream",
          "name": "stdout",
          "text": [
            "Model: \"model_1\"\n",
            "__________________________________________________________________________________________________\n",
            " Layer (type)                   Output Shape         Param #     Connected to                     \n",
            "==================================================================================================\n",
            " input_2 (InputLayer)           [(None, 28, 28, 3)]  0           []                               \n",
            "                                                                                                  \n",
            " conv2d_121 (Conv2D)            (None, 14, 14, 64)   9472        ['input_2[0][0]']                \n",
            "                                                                                                  \n",
            " max_pooling2d_1 (MaxPooling2D)  (None, 7, 7, 64)    0           ['conv2d_121[0][0]']             \n",
            "                                                                                                  \n",
            " batch_normalization_120 (Batch  (None, 7, 7, 64)    256         ['max_pooling2d_1[0][0]']        \n",
            " Normalization)                                                                                   \n",
            "                                                                                                  \n",
            " re_lu_120 (ReLU)               (None, 7, 7, 64)     0           ['batch_normalization_120[0][0]']\n",
            "                                                                                                  \n",
            " conv2d_122 (Conv2D)            (None, 7, 7, 128)    8320        ['re_lu_120[0][0]']              \n",
            "                                                                                                  \n",
            " batch_normalization_121 (Batch  (None, 7, 7, 128)   512         ['conv2d_122[0][0]']             \n",
            " Normalization)                                                                                   \n",
            "                                                                                                  \n",
            " re_lu_121 (ReLU)               (None, 7, 7, 128)    0           ['batch_normalization_121[0][0]']\n",
            "                                                                                                  \n",
            " conv2d_123 (Conv2D)            (None, 7, 7, 32)     36896       ['re_lu_121[0][0]']              \n",
            "                                                                                                  \n",
            " concatenate_58 (Concatenate)   (None, 7, 7, 96)     0           ['conv2d_123[0][0]',             \n",
            "                                                                  'max_pooling2d_1[0][0]']        \n",
            "                                                                                                  \n",
            " batch_normalization_122 (Batch  (None, 7, 7, 96)    384         ['concatenate_58[0][0]']         \n",
            " Normalization)                                                                                   \n",
            "                                                                                                  \n",
            " re_lu_122 (ReLU)               (None, 7, 7, 96)     0           ['batch_normalization_122[0][0]']\n",
            "                                                                                                  \n",
            " conv2d_124 (Conv2D)            (None, 7, 7, 128)    12416       ['re_lu_122[0][0]']              \n",
            "                                                                                                  \n",
            " batch_normalization_123 (Batch  (None, 7, 7, 128)   512         ['conv2d_124[0][0]']             \n",
            " Normalization)                                                                                   \n",
            "                                                                                                  \n",
            " re_lu_123 (ReLU)               (None, 7, 7, 128)    0           ['batch_normalization_123[0][0]']\n",
            "                                                                                                  \n",
            " conv2d_125 (Conv2D)            (None, 7, 7, 32)     36896       ['re_lu_123[0][0]']              \n",
            "                                                                                                  \n",
            " concatenate_59 (Concatenate)   (None, 7, 7, 128)    0           ['conv2d_125[0][0]',             \n",
            "                                                                  'concatenate_58[0][0]']         \n",
            "                                                                                                  \n",
            " batch_normalization_124 (Batch  (None, 7, 7, 128)   512         ['concatenate_59[0][0]']         \n",
            " Normalization)                                                                                   \n",
            "                                                                                                  \n",
            " re_lu_124 (ReLU)               (None, 7, 7, 128)    0           ['batch_normalization_124[0][0]']\n",
            "                                                                                                  \n",
            " conv2d_126 (Conv2D)            (None, 7, 7, 128)    16512       ['re_lu_124[0][0]']              \n",
            "                                                                                                  \n",
            " batch_normalization_125 (Batch  (None, 7, 7, 128)   512         ['conv2d_126[0][0]']             \n",
            " Normalization)                                                                                   \n",
            "                                                                                                  \n",
            " re_lu_125 (ReLU)               (None, 7, 7, 128)    0           ['batch_normalization_125[0][0]']\n",
            "                                                                                                  \n",
            " conv2d_127 (Conv2D)            (None, 7, 7, 32)     36896       ['re_lu_125[0][0]']              \n",
            "                                                                                                  \n",
            " concatenate_60 (Concatenate)   (None, 7, 7, 160)    0           ['conv2d_127[0][0]',             \n",
            "                                                                  'concatenate_59[0][0]']         \n",
            "                                                                                                  \n",
            " batch_normalization_126 (Batch  (None, 7, 7, 160)   640         ['concatenate_60[0][0]']         \n",
            " Normalization)                                                                                   \n",
            "                                                                                                  \n",
            " re_lu_126 (ReLU)               (None, 7, 7, 160)    0           ['batch_normalization_126[0][0]']\n",
            "                                                                                                  \n",
            " conv2d_128 (Conv2D)            (None, 7, 7, 128)    20608       ['re_lu_126[0][0]']              \n",
            "                                                                                                  \n",
            " batch_normalization_127 (Batch  (None, 7, 7, 128)   512         ['conv2d_128[0][0]']             \n",
            " Normalization)                                                                                   \n",
            "                                                                                                  \n",
            " re_lu_127 (ReLU)               (None, 7, 7, 128)    0           ['batch_normalization_127[0][0]']\n",
            "                                                                                                  \n",
            " conv2d_129 (Conv2D)            (None, 7, 7, 32)     36896       ['re_lu_127[0][0]']              \n",
            "                                                                                                  \n",
            " concatenate_61 (Concatenate)   (None, 7, 7, 192)    0           ['conv2d_129[0][0]',             \n",
            "                                                                  'concatenate_60[0][0]']         \n",
            "                                                                                                  \n",
            " batch_normalization_128 (Batch  (None, 7, 7, 192)   768         ['concatenate_61[0][0]']         \n",
            " Normalization)                                                                                   \n",
            "                                                                                                  \n",
            " re_lu_128 (ReLU)               (None, 7, 7, 192)    0           ['batch_normalization_128[0][0]']\n",
            "                                                                                                  \n",
            " conv2d_130 (Conv2D)            (None, 7, 7, 128)    24704       ['re_lu_128[0][0]']              \n",
            "                                                                                                  \n",
            " batch_normalization_129 (Batch  (None, 7, 7, 128)   512         ['conv2d_130[0][0]']             \n",
            " Normalization)                                                                                   \n",
            "                                                                                                  \n",
            " re_lu_129 (ReLU)               (None, 7, 7, 128)    0           ['batch_normalization_129[0][0]']\n",
            "                                                                                                  \n",
            " conv2d_131 (Conv2D)            (None, 7, 7, 32)     36896       ['re_lu_129[0][0]']              \n",
            "                                                                                                  \n",
            " concatenate_62 (Concatenate)   (None, 7, 7, 224)    0           ['conv2d_131[0][0]',             \n",
            "                                                                  'concatenate_61[0][0]']         \n",
            "                                                                                                  \n",
            " batch_normalization_130 (Batch  (None, 7, 7, 224)   896         ['concatenate_62[0][0]']         \n",
            " Normalization)                                                                                   \n",
            "                                                                                                  \n",
            " re_lu_130 (ReLU)               (None, 7, 7, 224)    0           ['batch_normalization_130[0][0]']\n",
            "                                                                                                  \n",
            " conv2d_132 (Conv2D)            (None, 7, 7, 128)    28800       ['re_lu_130[0][0]']              \n",
            "                                                                                                  \n",
            " batch_normalization_131 (Batch  (None, 7, 7, 128)   512         ['conv2d_132[0][0]']             \n",
            " Normalization)                                                                                   \n",
            "                                                                                                  \n",
            " re_lu_131 (ReLU)               (None, 7, 7, 128)    0           ['batch_normalization_131[0][0]']\n",
            "                                                                                                  \n",
            " conv2d_133 (Conv2D)            (None, 7, 7, 32)     36896       ['re_lu_131[0][0]']              \n",
            "                                                                                                  \n",
            " concatenate_63 (Concatenate)   (None, 7, 7, 256)    0           ['conv2d_133[0][0]',             \n",
            "                                                                  'concatenate_62[0][0]']         \n",
            "                                                                                                  \n",
            " batch_normalization_132 (Batch  (None, 7, 7, 256)   1024        ['concatenate_63[0][0]']         \n",
            " Normalization)                                                                                   \n",
            "                                                                                                  \n",
            " re_lu_132 (ReLU)               (None, 7, 7, 256)    0           ['batch_normalization_132[0][0]']\n",
            "                                                                                                  \n",
            " conv2d_134 (Conv2D)            (None, 7, 7, 128)    32896       ['re_lu_132[0][0]']              \n",
            "                                                                                                  \n",
            " average_pooling2d_4 (AveragePo  (None, 4, 4, 128)   0           ['conv2d_134[0][0]']             \n",
            " oling2D)                                                                                         \n",
            "                                                                                                  \n",
            " batch_normalization_133 (Batch  (None, 4, 4, 128)   512         ['average_pooling2d_4[0][0]']    \n",
            " Normalization)                                                                                   \n",
            "                                                                                                  \n",
            " re_lu_133 (ReLU)               (None, 4, 4, 128)    0           ['batch_normalization_133[0][0]']\n",
            "                                                                                                  \n",
            " conv2d_135 (Conv2D)            (None, 4, 4, 128)    16512       ['re_lu_133[0][0]']              \n",
            "                                                                                                  \n",
            " batch_normalization_134 (Batch  (None, 4, 4, 128)   512         ['conv2d_135[0][0]']             \n",
            " Normalization)                                                                                   \n",
            "                                                                                                  \n",
            " re_lu_134 (ReLU)               (None, 4, 4, 128)    0           ['batch_normalization_134[0][0]']\n",
            "                                                                                                  \n",
            " conv2d_136 (Conv2D)            (None, 4, 4, 32)     36896       ['re_lu_134[0][0]']              \n",
            "                                                                                                  \n",
            " concatenate_64 (Concatenate)   (None, 4, 4, 160)    0           ['conv2d_136[0][0]',             \n",
            "                                                                  'average_pooling2d_4[0][0]']    \n",
            "                                                                                                  \n",
            " batch_normalization_135 (Batch  (None, 4, 4, 160)   640         ['concatenate_64[0][0]']         \n",
            " Normalization)                                                                                   \n",
            "                                                                                                  \n",
            " re_lu_135 (ReLU)               (None, 4, 4, 160)    0           ['batch_normalization_135[0][0]']\n",
            "                                                                                                  \n",
            " conv2d_137 (Conv2D)            (None, 4, 4, 128)    20608       ['re_lu_135[0][0]']              \n",
            "                                                                                                  \n",
            " batch_normalization_136 (Batch  (None, 4, 4, 128)   512         ['conv2d_137[0][0]']             \n",
            " Normalization)                                                                                   \n",
            "                                                                                                  \n",
            " re_lu_136 (ReLU)               (None, 4, 4, 128)    0           ['batch_normalization_136[0][0]']\n",
            "                                                                                                  \n",
            " conv2d_138 (Conv2D)            (None, 4, 4, 32)     36896       ['re_lu_136[0][0]']              \n",
            "                                                                                                  \n",
            " concatenate_65 (Concatenate)   (None, 4, 4, 192)    0           ['conv2d_138[0][0]',             \n",
            "                                                                  'concatenate_64[0][0]']         \n",
            "                                                                                                  \n",
            " batch_normalization_137 (Batch  (None, 4, 4, 192)   768         ['concatenate_65[0][0]']         \n",
            " Normalization)                                                                                   \n",
            "                                                                                                  \n",
            " re_lu_137 (ReLU)               (None, 4, 4, 192)    0           ['batch_normalization_137[0][0]']\n",
            "                                                                                                  \n",
            " conv2d_139 (Conv2D)            (None, 4, 4, 128)    24704       ['re_lu_137[0][0]']              \n",
            "                                                                                                  \n",
            " batch_normalization_138 (Batch  (None, 4, 4, 128)   512         ['conv2d_139[0][0]']             \n",
            " Normalization)                                                                                   \n",
            "                                                                                                  \n",
            " re_lu_138 (ReLU)               (None, 4, 4, 128)    0           ['batch_normalization_138[0][0]']\n",
            "                                                                                                  \n",
            " conv2d_140 (Conv2D)            (None, 4, 4, 32)     36896       ['re_lu_138[0][0]']              \n",
            "                                                                                                  \n",
            " concatenate_66 (Concatenate)   (None, 4, 4, 224)    0           ['conv2d_140[0][0]',             \n",
            "                                                                  'concatenate_65[0][0]']         \n",
            "                                                                                                  \n",
            " batch_normalization_139 (Batch  (None, 4, 4, 224)   896         ['concatenate_66[0][0]']         \n",
            " Normalization)                                                                                   \n",
            "                                                                                                  \n",
            " re_lu_139 (ReLU)               (None, 4, 4, 224)    0           ['batch_normalization_139[0][0]']\n",
            "                                                                                                  \n",
            " conv2d_141 (Conv2D)            (None, 4, 4, 128)    28800       ['re_lu_139[0][0]']              \n",
            "                                                                                                  \n",
            " batch_normalization_140 (Batch  (None, 4, 4, 128)   512         ['conv2d_141[0][0]']             \n",
            " Normalization)                                                                                   \n",
            "                                                                                                  \n",
            " re_lu_140 (ReLU)               (None, 4, 4, 128)    0           ['batch_normalization_140[0][0]']\n",
            "                                                                                                  \n",
            " conv2d_142 (Conv2D)            (None, 4, 4, 32)     36896       ['re_lu_140[0][0]']              \n",
            "                                                                                                  \n",
            " concatenate_67 (Concatenate)   (None, 4, 4, 256)    0           ['conv2d_142[0][0]',             \n",
            "                                                                  'concatenate_66[0][0]']         \n",
            "                                                                                                  \n",
            " batch_normalization_141 (Batch  (None, 4, 4, 256)   1024        ['concatenate_67[0][0]']         \n",
            " Normalization)                                                                                   \n",
            "                                                                                                  \n",
            " re_lu_141 (ReLU)               (None, 4, 4, 256)    0           ['batch_normalization_141[0][0]']\n",
            "                                                                                                  \n",
            " conv2d_143 (Conv2D)            (None, 4, 4, 128)    32896       ['re_lu_141[0][0]']              \n",
            "                                                                                                  \n",
            " batch_normalization_142 (Batch  (None, 4, 4, 128)   512         ['conv2d_143[0][0]']             \n",
            " Normalization)                                                                                   \n",
            "                                                                                                  \n",
            " re_lu_142 (ReLU)               (None, 4, 4, 128)    0           ['batch_normalization_142[0][0]']\n",
            "                                                                                                  \n",
            " conv2d_144 (Conv2D)            (None, 4, 4, 32)     36896       ['re_lu_142[0][0]']              \n",
            "                                                                                                  \n",
            " concatenate_68 (Concatenate)   (None, 4, 4, 288)    0           ['conv2d_144[0][0]',             \n",
            "                                                                  'concatenate_67[0][0]']         \n",
            "                                                                                                  \n",
            " batch_normalization_143 (Batch  (None, 4, 4, 288)   1152        ['concatenate_68[0][0]']         \n",
            " Normalization)                                                                                   \n",
            "                                                                                                  \n",
            " re_lu_143 (ReLU)               (None, 4, 4, 288)    0           ['batch_normalization_143[0][0]']\n",
            "                                                                                                  \n",
            " conv2d_145 (Conv2D)            (None, 4, 4, 128)    36992       ['re_lu_143[0][0]']              \n",
            "                                                                                                  \n",
            " batch_normalization_144 (Batch  (None, 4, 4, 128)   512         ['conv2d_145[0][0]']             \n",
            " Normalization)                                                                                   \n",
            "                                                                                                  \n",
            " re_lu_144 (ReLU)               (None, 4, 4, 128)    0           ['batch_normalization_144[0][0]']\n",
            "                                                                                                  \n",
            " conv2d_146 (Conv2D)            (None, 4, 4, 32)     36896       ['re_lu_144[0][0]']              \n",
            "                                                                                                  \n",
            " concatenate_69 (Concatenate)   (None, 4, 4, 320)    0           ['conv2d_146[0][0]',             \n",
            "                                                                  'concatenate_68[0][0]']         \n",
            "                                                                                                  \n",
            " batch_normalization_145 (Batch  (None, 4, 4, 320)   1280        ['concatenate_69[0][0]']         \n",
            " Normalization)                                                                                   \n",
            "                                                                                                  \n",
            " re_lu_145 (ReLU)               (None, 4, 4, 320)    0           ['batch_normalization_145[0][0]']\n",
            "                                                                                                  \n",
            " conv2d_147 (Conv2D)            (None, 4, 4, 128)    41088       ['re_lu_145[0][0]']              \n",
            "                                                                                                  \n",
            " batch_normalization_146 (Batch  (None, 4, 4, 128)   512         ['conv2d_147[0][0]']             \n",
            " Normalization)                                                                                   \n",
            "                                                                                                  \n",
            " re_lu_146 (ReLU)               (None, 4, 4, 128)    0           ['batch_normalization_146[0][0]']\n",
            "                                                                                                  \n",
            " conv2d_148 (Conv2D)            (None, 4, 4, 32)     36896       ['re_lu_146[0][0]']              \n",
            "                                                                                                  \n",
            " concatenate_70 (Concatenate)   (None, 4, 4, 352)    0           ['conv2d_148[0][0]',             \n",
            "                                                                  'concatenate_69[0][0]']         \n",
            "                                                                                                  \n",
            " batch_normalization_147 (Batch  (None, 4, 4, 352)   1408        ['concatenate_70[0][0]']         \n",
            " Normalization)                                                                                   \n",
            "                                                                                                  \n",
            " re_lu_147 (ReLU)               (None, 4, 4, 352)    0           ['batch_normalization_147[0][0]']\n",
            "                                                                                                  \n",
            " conv2d_149 (Conv2D)            (None, 4, 4, 128)    45184       ['re_lu_147[0][0]']              \n",
            "                                                                                                  \n",
            " batch_normalization_148 (Batch  (None, 4, 4, 128)   512         ['conv2d_149[0][0]']             \n",
            " Normalization)                                                                                   \n",
            "                                                                                                  \n",
            " re_lu_148 (ReLU)               (None, 4, 4, 128)    0           ['batch_normalization_148[0][0]']\n",
            "                                                                                                  \n",
            " conv2d_150 (Conv2D)            (None, 4, 4, 32)     36896       ['re_lu_148[0][0]']              \n",
            "                                                                                                  \n",
            " concatenate_71 (Concatenate)   (None, 4, 4, 384)    0           ['conv2d_150[0][0]',             \n",
            "                                                                  'concatenate_70[0][0]']         \n",
            "                                                                                                  \n",
            " batch_normalization_149 (Batch  (None, 4, 4, 384)   1536        ['concatenate_71[0][0]']         \n",
            " Normalization)                                                                                   \n",
            "                                                                                                  \n",
            " re_lu_149 (ReLU)               (None, 4, 4, 384)    0           ['batch_normalization_149[0][0]']\n",
            "                                                                                                  \n",
            " conv2d_151 (Conv2D)            (None, 4, 4, 128)    49280       ['re_lu_149[0][0]']              \n",
            "                                                                                                  \n",
            " batch_normalization_150 (Batch  (None, 4, 4, 128)   512         ['conv2d_151[0][0]']             \n",
            " Normalization)                                                                                   \n",
            "                                                                                                  \n",
            " re_lu_150 (ReLU)               (None, 4, 4, 128)    0           ['batch_normalization_150[0][0]']\n",
            "                                                                                                  \n",
            " conv2d_152 (Conv2D)            (None, 4, 4, 32)     36896       ['re_lu_150[0][0]']              \n",
            "                                                                                                  \n",
            " concatenate_72 (Concatenate)   (None, 4, 4, 416)    0           ['conv2d_152[0][0]',             \n",
            "                                                                  'concatenate_71[0][0]']         \n",
            "                                                                                                  \n",
            " batch_normalization_151 (Batch  (None, 4, 4, 416)   1664        ['concatenate_72[0][0]']         \n",
            " Normalization)                                                                                   \n",
            "                                                                                                  \n",
            " re_lu_151 (ReLU)               (None, 4, 4, 416)    0           ['batch_normalization_151[0][0]']\n",
            "                                                                                                  \n",
            " conv2d_153 (Conv2D)            (None, 4, 4, 128)    53376       ['re_lu_151[0][0]']              \n",
            "                                                                                                  \n",
            " batch_normalization_152 (Batch  (None, 4, 4, 128)   512         ['conv2d_153[0][0]']             \n",
            " Normalization)                                                                                   \n",
            "                                                                                                  \n",
            " re_lu_152 (ReLU)               (None, 4, 4, 128)    0           ['batch_normalization_152[0][0]']\n",
            "                                                                                                  \n",
            " conv2d_154 (Conv2D)            (None, 4, 4, 32)     36896       ['re_lu_152[0][0]']              \n",
            "                                                                                                  \n",
            " concatenate_73 (Concatenate)   (None, 4, 4, 448)    0           ['conv2d_154[0][0]',             \n",
            "                                                                  'concatenate_72[0][0]']         \n",
            "                                                                                                  \n",
            " batch_normalization_153 (Batch  (None, 4, 4, 448)   1792        ['concatenate_73[0][0]']         \n",
            " Normalization)                                                                                   \n",
            "                                                                                                  \n",
            " re_lu_153 (ReLU)               (None, 4, 4, 448)    0           ['batch_normalization_153[0][0]']\n",
            "                                                                                                  \n",
            " conv2d_155 (Conv2D)            (None, 4, 4, 128)    57472       ['re_lu_153[0][0]']              \n",
            "                                                                                                  \n",
            " batch_normalization_154 (Batch  (None, 4, 4, 128)   512         ['conv2d_155[0][0]']             \n",
            " Normalization)                                                                                   \n",
            "                                                                                                  \n",
            " re_lu_154 (ReLU)               (None, 4, 4, 128)    0           ['batch_normalization_154[0][0]']\n",
            "                                                                                                  \n",
            " conv2d_156 (Conv2D)            (None, 4, 4, 32)     36896       ['re_lu_154[0][0]']              \n",
            "                                                                                                  \n",
            " concatenate_74 (Concatenate)   (None, 4, 4, 480)    0           ['conv2d_156[0][0]',             \n",
            "                                                                  'concatenate_73[0][0]']         \n",
            "                                                                                                  \n",
            " batch_normalization_155 (Batch  (None, 4, 4, 480)   1920        ['concatenate_74[0][0]']         \n",
            " Normalization)                                                                                   \n",
            "                                                                                                  \n",
            " re_lu_155 (ReLU)               (None, 4, 4, 480)    0           ['batch_normalization_155[0][0]']\n",
            "                                                                                                  \n",
            " conv2d_157 (Conv2D)            (None, 4, 4, 128)    61568       ['re_lu_155[0][0]']              \n",
            "                                                                                                  \n",
            " batch_normalization_156 (Batch  (None, 4, 4, 128)   512         ['conv2d_157[0][0]']             \n",
            " Normalization)                                                                                   \n",
            "                                                                                                  \n",
            " re_lu_156 (ReLU)               (None, 4, 4, 128)    0           ['batch_normalization_156[0][0]']\n",
            "                                                                                                  \n",
            " conv2d_158 (Conv2D)            (None, 4, 4, 32)     36896       ['re_lu_156[0][0]']              \n",
            "                                                                                                  \n",
            " concatenate_75 (Concatenate)   (None, 4, 4, 512)    0           ['conv2d_158[0][0]',             \n",
            "                                                                  'concatenate_74[0][0]']         \n",
            "                                                                                                  \n",
            " batch_normalization_157 (Batch  (None, 4, 4, 512)   2048        ['concatenate_75[0][0]']         \n",
            " Normalization)                                                                                   \n",
            "                                                                                                  \n",
            " re_lu_157 (ReLU)               (None, 4, 4, 512)    0           ['batch_normalization_157[0][0]']\n",
            "                                                                                                  \n",
            " conv2d_159 (Conv2D)            (None, 4, 4, 256)    131328      ['re_lu_157[0][0]']              \n",
            "                                                                                                  \n",
            " average_pooling2d_5 (AveragePo  (None, 2, 2, 256)   0           ['conv2d_159[0][0]']             \n",
            " oling2D)                                                                                         \n",
            "                                                                                                  \n",
            " batch_normalization_158 (Batch  (None, 2, 2, 256)   1024        ['average_pooling2d_5[0][0]']    \n",
            " Normalization)                                                                                   \n",
            "                                                                                                  \n",
            " re_lu_158 (ReLU)               (None, 2, 2, 256)    0           ['batch_normalization_158[0][0]']\n",
            "                                                                                                  \n",
            " conv2d_160 (Conv2D)            (None, 2, 2, 128)    32896       ['re_lu_158[0][0]']              \n",
            "                                                                                                  \n",
            " batch_normalization_159 (Batch  (None, 2, 2, 128)   512         ['conv2d_160[0][0]']             \n",
            " Normalization)                                                                                   \n",
            "                                                                                                  \n",
            " re_lu_159 (ReLU)               (None, 2, 2, 128)    0           ['batch_normalization_159[0][0]']\n",
            "                                                                                                  \n",
            " conv2d_161 (Conv2D)            (None, 2, 2, 32)     36896       ['re_lu_159[0][0]']              \n",
            "                                                                                                  \n",
            " concatenate_76 (Concatenate)   (None, 2, 2, 288)    0           ['conv2d_161[0][0]',             \n",
            "                                                                  'average_pooling2d_5[0][0]']    \n",
            "                                                                                                  \n",
            " batch_normalization_160 (Batch  (None, 2, 2, 288)   1152        ['concatenate_76[0][0]']         \n",
            " Normalization)                                                                                   \n",
            "                                                                                                  \n",
            " re_lu_160 (ReLU)               (None, 2, 2, 288)    0           ['batch_normalization_160[0][0]']\n",
            "                                                                                                  \n",
            " conv2d_162 (Conv2D)            (None, 2, 2, 128)    36992       ['re_lu_160[0][0]']              \n",
            "                                                                                                  \n",
            " batch_normalization_161 (Batch  (None, 2, 2, 128)   512         ['conv2d_162[0][0]']             \n",
            " Normalization)                                                                                   \n",
            "                                                                                                  \n",
            " re_lu_161 (ReLU)               (None, 2, 2, 128)    0           ['batch_normalization_161[0][0]']\n",
            "                                                                                                  \n",
            " conv2d_163 (Conv2D)            (None, 2, 2, 32)     36896       ['re_lu_161[0][0]']              \n",
            "                                                                                                  \n",
            " concatenate_77 (Concatenate)   (None, 2, 2, 320)    0           ['conv2d_163[0][0]',             \n",
            "                                                                  'concatenate_76[0][0]']         \n",
            "                                                                                                  \n",
            " batch_normalization_162 (Batch  (None, 2, 2, 320)   1280        ['concatenate_77[0][0]']         \n",
            " Normalization)                                                                                   \n",
            "                                                                                                  \n",
            " re_lu_162 (ReLU)               (None, 2, 2, 320)    0           ['batch_normalization_162[0][0]']\n",
            "                                                                                                  \n",
            " conv2d_164 (Conv2D)            (None, 2, 2, 128)    41088       ['re_lu_162[0][0]']              \n",
            "                                                                                                  \n",
            " batch_normalization_163 (Batch  (None, 2, 2, 128)   512         ['conv2d_164[0][0]']             \n",
            " Normalization)                                                                                   \n",
            "                                                                                                  \n",
            " re_lu_163 (ReLU)               (None, 2, 2, 128)    0           ['batch_normalization_163[0][0]']\n",
            "                                                                                                  \n",
            " conv2d_165 (Conv2D)            (None, 2, 2, 32)     36896       ['re_lu_163[0][0]']              \n",
            "                                                                                                  \n",
            " concatenate_78 (Concatenate)   (None, 2, 2, 352)    0           ['conv2d_165[0][0]',             \n",
            "                                                                  'concatenate_77[0][0]']         \n",
            "                                                                                                  \n",
            " batch_normalization_164 (Batch  (None, 2, 2, 352)   1408        ['concatenate_78[0][0]']         \n",
            " Normalization)                                                                                   \n",
            "                                                                                                  \n",
            " re_lu_164 (ReLU)               (None, 2, 2, 352)    0           ['batch_normalization_164[0][0]']\n",
            "                                                                                                  \n",
            " conv2d_166 (Conv2D)            (None, 2, 2, 128)    45184       ['re_lu_164[0][0]']              \n",
            "                                                                                                  \n",
            " batch_normalization_165 (Batch  (None, 2, 2, 128)   512         ['conv2d_166[0][0]']             \n",
            " Normalization)                                                                                   \n",
            "                                                                                                  \n",
            " re_lu_165 (ReLU)               (None, 2, 2, 128)    0           ['batch_normalization_165[0][0]']\n",
            "                                                                                                  \n",
            " conv2d_167 (Conv2D)            (None, 2, 2, 32)     36896       ['re_lu_165[0][0]']              \n",
            "                                                                                                  \n",
            " concatenate_79 (Concatenate)   (None, 2, 2, 384)    0           ['conv2d_167[0][0]',             \n",
            "                                                                  'concatenate_78[0][0]']         \n",
            "                                                                                                  \n",
            " batch_normalization_166 (Batch  (None, 2, 2, 384)   1536        ['concatenate_79[0][0]']         \n",
            " Normalization)                                                                                   \n",
            "                                                                                                  \n",
            " re_lu_166 (ReLU)               (None, 2, 2, 384)    0           ['batch_normalization_166[0][0]']\n",
            "                                                                                                  \n",
            " conv2d_168 (Conv2D)            (None, 2, 2, 128)    49280       ['re_lu_166[0][0]']              \n",
            "                                                                                                  \n",
            " batch_normalization_167 (Batch  (None, 2, 2, 128)   512         ['conv2d_168[0][0]']             \n",
            " Normalization)                                                                                   \n",
            "                                                                                                  \n",
            " re_lu_167 (ReLU)               (None, 2, 2, 128)    0           ['batch_normalization_167[0][0]']\n",
            "                                                                                                  \n",
            " conv2d_169 (Conv2D)            (None, 2, 2, 32)     36896       ['re_lu_167[0][0]']              \n",
            "                                                                                                  \n",
            " concatenate_80 (Concatenate)   (None, 2, 2, 416)    0           ['conv2d_169[0][0]',             \n",
            "                                                                  'concatenate_79[0][0]']         \n",
            "                                                                                                  \n",
            " batch_normalization_168 (Batch  (None, 2, 2, 416)   1664        ['concatenate_80[0][0]']         \n",
            " Normalization)                                                                                   \n",
            "                                                                                                  \n",
            " re_lu_168 (ReLU)               (None, 2, 2, 416)    0           ['batch_normalization_168[0][0]']\n",
            "                                                                                                  \n",
            " conv2d_170 (Conv2D)            (None, 2, 2, 128)    53376       ['re_lu_168[0][0]']              \n",
            "                                                                                                  \n",
            " batch_normalization_169 (Batch  (None, 2, 2, 128)   512         ['conv2d_170[0][0]']             \n",
            " Normalization)                                                                                   \n",
            "                                                                                                  \n",
            " re_lu_169 (ReLU)               (None, 2, 2, 128)    0           ['batch_normalization_169[0][0]']\n",
            "                                                                                                  \n",
            " conv2d_171 (Conv2D)            (None, 2, 2, 32)     36896       ['re_lu_169[0][0]']              \n",
            "                                                                                                  \n",
            " concatenate_81 (Concatenate)   (None, 2, 2, 448)    0           ['conv2d_171[0][0]',             \n",
            "                                                                  'concatenate_80[0][0]']         \n",
            "                                                                                                  \n",
            " batch_normalization_170 (Batch  (None, 2, 2, 448)   1792        ['concatenate_81[0][0]']         \n",
            " Normalization)                                                                                   \n",
            "                                                                                                  \n",
            " re_lu_170 (ReLU)               (None, 2, 2, 448)    0           ['batch_normalization_170[0][0]']\n",
            "                                                                                                  \n",
            " conv2d_172 (Conv2D)            (None, 2, 2, 128)    57472       ['re_lu_170[0][0]']              \n",
            "                                                                                                  \n",
            " batch_normalization_171 (Batch  (None, 2, 2, 128)   512         ['conv2d_172[0][0]']             \n",
            " Normalization)                                                                                   \n",
            "                                                                                                  \n",
            " re_lu_171 (ReLU)               (None, 2, 2, 128)    0           ['batch_normalization_171[0][0]']\n",
            "                                                                                                  \n",
            " conv2d_173 (Conv2D)            (None, 2, 2, 32)     36896       ['re_lu_171[0][0]']              \n",
            "                                                                                                  \n",
            " concatenate_82 (Concatenate)   (None, 2, 2, 480)    0           ['conv2d_173[0][0]',             \n",
            "                                                                  'concatenate_81[0][0]']         \n",
            "                                                                                                  \n",
            " batch_normalization_172 (Batch  (None, 2, 2, 480)   1920        ['concatenate_82[0][0]']         \n",
            " Normalization)                                                                                   \n",
            "                                                                                                  \n",
            " re_lu_172 (ReLU)               (None, 2, 2, 480)    0           ['batch_normalization_172[0][0]']\n",
            "                                                                                                  \n",
            " conv2d_174 (Conv2D)            (None, 2, 2, 128)    61568       ['re_lu_172[0][0]']              \n",
            "                                                                                                  \n",
            " batch_normalization_173 (Batch  (None, 2, 2, 128)   512         ['conv2d_174[0][0]']             \n",
            " Normalization)                                                                                   \n",
            "                                                                                                  \n",
            " re_lu_173 (ReLU)               (None, 2, 2, 128)    0           ['batch_normalization_173[0][0]']\n",
            "                                                                                                  \n",
            " conv2d_175 (Conv2D)            (None, 2, 2, 32)     36896       ['re_lu_173[0][0]']              \n",
            "                                                                                                  \n",
            " concatenate_83 (Concatenate)   (None, 2, 2, 512)    0           ['conv2d_175[0][0]',             \n",
            "                                                                  'concatenate_82[0][0]']         \n",
            "                                                                                                  \n",
            " batch_normalization_174 (Batch  (None, 2, 2, 512)   2048        ['concatenate_83[0][0]']         \n",
            " Normalization)                                                                                   \n",
            "                                                                                                  \n",
            " re_lu_174 (ReLU)               (None, 2, 2, 512)    0           ['batch_normalization_174[0][0]']\n",
            "                                                                                                  \n",
            " conv2d_176 (Conv2D)            (None, 2, 2, 128)    65664       ['re_lu_174[0][0]']              \n",
            "                                                                                                  \n",
            " batch_normalization_175 (Batch  (None, 2, 2, 128)   512         ['conv2d_176[0][0]']             \n",
            " Normalization)                                                                                   \n",
            "                                                                                                  \n",
            " re_lu_175 (ReLU)               (None, 2, 2, 128)    0           ['batch_normalization_175[0][0]']\n",
            "                                                                                                  \n",
            " conv2d_177 (Conv2D)            (None, 2, 2, 32)     36896       ['re_lu_175[0][0]']              \n",
            "                                                                                                  \n",
            " concatenate_84 (Concatenate)   (None, 2, 2, 544)    0           ['conv2d_177[0][0]',             \n",
            "                                                                  'concatenate_83[0][0]']         \n",
            "                                                                                                  \n",
            " batch_normalization_176 (Batch  (None, 2, 2, 544)   2176        ['concatenate_84[0][0]']         \n",
            " Normalization)                                                                                   \n",
            "                                                                                                  \n",
            " re_lu_176 (ReLU)               (None, 2, 2, 544)    0           ['batch_normalization_176[0][0]']\n",
            "                                                                                                  \n",
            " conv2d_178 (Conv2D)            (None, 2, 2, 128)    69760       ['re_lu_176[0][0]']              \n",
            "                                                                                                  \n",
            " batch_normalization_177 (Batch  (None, 2, 2, 128)   512         ['conv2d_178[0][0]']             \n",
            " Normalization)                                                                                   \n",
            "                                                                                                  \n",
            " re_lu_177 (ReLU)               (None, 2, 2, 128)    0           ['batch_normalization_177[0][0]']\n",
            "                                                                                                  \n",
            " conv2d_179 (Conv2D)            (None, 2, 2, 32)     36896       ['re_lu_177[0][0]']              \n",
            "                                                                                                  \n",
            " concatenate_85 (Concatenate)   (None, 2, 2, 576)    0           ['conv2d_179[0][0]',             \n",
            "                                                                  'concatenate_84[0][0]']         \n",
            "                                                                                                  \n",
            " batch_normalization_178 (Batch  (None, 2, 2, 576)   2304        ['concatenate_85[0][0]']         \n",
            " Normalization)                                                                                   \n",
            "                                                                                                  \n",
            " re_lu_178 (ReLU)               (None, 2, 2, 576)    0           ['batch_normalization_178[0][0]']\n",
            "                                                                                                  \n",
            " conv2d_180 (Conv2D)            (None, 2, 2, 128)    73856       ['re_lu_178[0][0]']              \n",
            "                                                                                                  \n",
            " batch_normalization_179 (Batch  (None, 2, 2, 128)   512         ['conv2d_180[0][0]']             \n",
            " Normalization)                                                                                   \n",
            "                                                                                                  \n",
            " re_lu_179 (ReLU)               (None, 2, 2, 128)    0           ['batch_normalization_179[0][0]']\n",
            "                                                                                                  \n",
            " conv2d_181 (Conv2D)            (None, 2, 2, 32)     36896       ['re_lu_179[0][0]']              \n",
            "                                                                                                  \n",
            " concatenate_86 (Concatenate)   (None, 2, 2, 608)    0           ['conv2d_181[0][0]',             \n",
            "                                                                  'concatenate_85[0][0]']         \n",
            "                                                                                                  \n",
            " batch_normalization_180 (Batch  (None, 2, 2, 608)   2432        ['concatenate_86[0][0]']         \n",
            " Normalization)                                                                                   \n",
            "                                                                                                  \n",
            " re_lu_180 (ReLU)               (None, 2, 2, 608)    0           ['batch_normalization_180[0][0]']\n",
            "                                                                                                  \n",
            " conv2d_182 (Conv2D)            (None, 2, 2, 128)    77952       ['re_lu_180[0][0]']              \n",
            "                                                                                                  \n",
            " batch_normalization_181 (Batch  (None, 2, 2, 128)   512         ['conv2d_182[0][0]']             \n",
            " Normalization)                                                                                   \n",
            "                                                                                                  \n",
            " re_lu_181 (ReLU)               (None, 2, 2, 128)    0           ['batch_normalization_181[0][0]']\n",
            "                                                                                                  \n",
            " conv2d_183 (Conv2D)            (None, 2, 2, 32)     36896       ['re_lu_181[0][0]']              \n",
            "                                                                                                  \n",
            " concatenate_87 (Concatenate)   (None, 2, 2, 640)    0           ['conv2d_183[0][0]',             \n",
            "                                                                  'concatenate_86[0][0]']         \n",
            "                                                                                                  \n",
            " batch_normalization_182 (Batch  (None, 2, 2, 640)   2560        ['concatenate_87[0][0]']         \n",
            " Normalization)                                                                                   \n",
            "                                                                                                  \n",
            " re_lu_182 (ReLU)               (None, 2, 2, 640)    0           ['batch_normalization_182[0][0]']\n",
            "                                                                                                  \n",
            " conv2d_184 (Conv2D)            (None, 2, 2, 128)    82048       ['re_lu_182[0][0]']              \n",
            "                                                                                                  \n",
            " batch_normalization_183 (Batch  (None, 2, 2, 128)   512         ['conv2d_184[0][0]']             \n",
            " Normalization)                                                                                   \n",
            "                                                                                                  \n",
            " re_lu_183 (ReLU)               (None, 2, 2, 128)    0           ['batch_normalization_183[0][0]']\n",
            "                                                                                                  \n",
            " conv2d_185 (Conv2D)            (None, 2, 2, 32)     36896       ['re_lu_183[0][0]']              \n",
            "                                                                                                  \n",
            " concatenate_88 (Concatenate)   (None, 2, 2, 672)    0           ['conv2d_185[0][0]',             \n",
            "                                                                  'concatenate_87[0][0]']         \n",
            "                                                                                                  \n",
            " batch_normalization_184 (Batch  (None, 2, 2, 672)   2688        ['concatenate_88[0][0]']         \n",
            " Normalization)                                                                                   \n",
            "                                                                                                  \n",
            " re_lu_184 (ReLU)               (None, 2, 2, 672)    0           ['batch_normalization_184[0][0]']\n",
            "                                                                                                  \n",
            " conv2d_186 (Conv2D)            (None, 2, 2, 128)    86144       ['re_lu_184[0][0]']              \n",
            "                                                                                                  \n",
            " batch_normalization_185 (Batch  (None, 2, 2, 128)   512         ['conv2d_186[0][0]']             \n",
            " Normalization)                                                                                   \n",
            "                                                                                                  \n",
            " re_lu_185 (ReLU)               (None, 2, 2, 128)    0           ['batch_normalization_185[0][0]']\n",
            "                                                                                                  \n",
            " conv2d_187 (Conv2D)            (None, 2, 2, 32)     36896       ['re_lu_185[0][0]']              \n",
            "                                                                                                  \n",
            " concatenate_89 (Concatenate)   (None, 2, 2, 704)    0           ['conv2d_187[0][0]',             \n",
            "                                                                  'concatenate_88[0][0]']         \n",
            "                                                                                                  \n",
            " batch_normalization_186 (Batch  (None, 2, 2, 704)   2816        ['concatenate_89[0][0]']         \n",
            " Normalization)                                                                                   \n",
            "                                                                                                  \n",
            " re_lu_186 (ReLU)               (None, 2, 2, 704)    0           ['batch_normalization_186[0][0]']\n",
            "                                                                                                  \n",
            " conv2d_188 (Conv2D)            (None, 2, 2, 128)    90240       ['re_lu_186[0][0]']              \n",
            "                                                                                                  \n",
            " batch_normalization_187 (Batch  (None, 2, 2, 128)   512         ['conv2d_188[0][0]']             \n",
            " Normalization)                                                                                   \n",
            "                                                                                                  \n",
            " re_lu_187 (ReLU)               (None, 2, 2, 128)    0           ['batch_normalization_187[0][0]']\n",
            "                                                                                                  \n",
            " conv2d_189 (Conv2D)            (None, 2, 2, 32)     36896       ['re_lu_187[0][0]']              \n",
            "                                                                                                  \n",
            " concatenate_90 (Concatenate)   (None, 2, 2, 736)    0           ['conv2d_189[0][0]',             \n",
            "                                                                  'concatenate_89[0][0]']         \n",
            "                                                                                                  \n",
            " batch_normalization_188 (Batch  (None, 2, 2, 736)   2944        ['concatenate_90[0][0]']         \n",
            " Normalization)                                                                                   \n",
            "                                                                                                  \n",
            " re_lu_188 (ReLU)               (None, 2, 2, 736)    0           ['batch_normalization_188[0][0]']\n",
            "                                                                                                  \n",
            " conv2d_190 (Conv2D)            (None, 2, 2, 128)    94336       ['re_lu_188[0][0]']              \n",
            "                                                                                                  \n",
            " batch_normalization_189 (Batch  (None, 2, 2, 128)   512         ['conv2d_190[0][0]']             \n",
            " Normalization)                                                                                   \n",
            "                                                                                                  \n",
            " re_lu_189 (ReLU)               (None, 2, 2, 128)    0           ['batch_normalization_189[0][0]']\n",
            "                                                                                                  \n",
            " conv2d_191 (Conv2D)            (None, 2, 2, 32)     36896       ['re_lu_189[0][0]']              \n",
            "                                                                                                  \n",
            " concatenate_91 (Concatenate)   (None, 2, 2, 768)    0           ['conv2d_191[0][0]',             \n",
            "                                                                  'concatenate_90[0][0]']         \n",
            "                                                                                                  \n",
            " batch_normalization_190 (Batch  (None, 2, 2, 768)   3072        ['concatenate_91[0][0]']         \n",
            " Normalization)                                                                                   \n",
            "                                                                                                  \n",
            " re_lu_190 (ReLU)               (None, 2, 2, 768)    0           ['batch_normalization_190[0][0]']\n",
            "                                                                                                  \n",
            " conv2d_192 (Conv2D)            (None, 2, 2, 128)    98432       ['re_lu_190[0][0]']              \n",
            "                                                                                                  \n",
            " batch_normalization_191 (Batch  (None, 2, 2, 128)   512         ['conv2d_192[0][0]']             \n",
            " Normalization)                                                                                   \n",
            "                                                                                                  \n",
            " re_lu_191 (ReLU)               (None, 2, 2, 128)    0           ['batch_normalization_191[0][0]']\n",
            "                                                                                                  \n",
            " conv2d_193 (Conv2D)            (None, 2, 2, 32)     36896       ['re_lu_191[0][0]']              \n",
            "                                                                                                  \n",
            " concatenate_92 (Concatenate)   (None, 2, 2, 800)    0           ['conv2d_193[0][0]',             \n",
            "                                                                  'concatenate_91[0][0]']         \n",
            "                                                                                                  \n",
            " batch_normalization_192 (Batch  (None, 2, 2, 800)   3200        ['concatenate_92[0][0]']         \n",
            " Normalization)                                                                                   \n",
            "                                                                                                  \n",
            " re_lu_192 (ReLU)               (None, 2, 2, 800)    0           ['batch_normalization_192[0][0]']\n",
            "                                                                                                  \n",
            " conv2d_194 (Conv2D)            (None, 2, 2, 128)    102528      ['re_lu_192[0][0]']              \n",
            "                                                                                                  \n",
            " batch_normalization_193 (Batch  (None, 2, 2, 128)   512         ['conv2d_194[0][0]']             \n",
            " Normalization)                                                                                   \n",
            "                                                                                                  \n",
            " re_lu_193 (ReLU)               (None, 2, 2, 128)    0           ['batch_normalization_193[0][0]']\n",
            "                                                                                                  \n",
            " conv2d_195 (Conv2D)            (None, 2, 2, 32)     36896       ['re_lu_193[0][0]']              \n",
            "                                                                                                  \n",
            " concatenate_93 (Concatenate)   (None, 2, 2, 832)    0           ['conv2d_195[0][0]',             \n",
            "                                                                  'concatenate_92[0][0]']         \n",
            "                                                                                                  \n",
            " batch_normalization_194 (Batch  (None, 2, 2, 832)   3328        ['concatenate_93[0][0]']         \n",
            " Normalization)                                                                                   \n",
            "                                                                                                  \n",
            " re_lu_194 (ReLU)               (None, 2, 2, 832)    0           ['batch_normalization_194[0][0]']\n",
            "                                                                                                  \n",
            " conv2d_196 (Conv2D)            (None, 2, 2, 128)    106624      ['re_lu_194[0][0]']              \n",
            "                                                                                                  \n",
            " batch_normalization_195 (Batch  (None, 2, 2, 128)   512         ['conv2d_196[0][0]']             \n",
            " Normalization)                                                                                   \n",
            "                                                                                                  \n",
            " re_lu_195 (ReLU)               (None, 2, 2, 128)    0           ['batch_normalization_195[0][0]']\n",
            "                                                                                                  \n",
            " conv2d_197 (Conv2D)            (None, 2, 2, 32)     36896       ['re_lu_195[0][0]']              \n",
            "                                                                                                  \n",
            " concatenate_94 (Concatenate)   (None, 2, 2, 864)    0           ['conv2d_197[0][0]',             \n",
            "                                                                  'concatenate_93[0][0]']         \n",
            "                                                                                                  \n",
            " batch_normalization_196 (Batch  (None, 2, 2, 864)   3456        ['concatenate_94[0][0]']         \n",
            " Normalization)                                                                                   \n",
            "                                                                                                  \n",
            " re_lu_196 (ReLU)               (None, 2, 2, 864)    0           ['batch_normalization_196[0][0]']\n",
            "                                                                                                  \n",
            " conv2d_198 (Conv2D)            (None, 2, 2, 128)    110720      ['re_lu_196[0][0]']              \n",
            "                                                                                                  \n",
            " batch_normalization_197 (Batch  (None, 2, 2, 128)   512         ['conv2d_198[0][0]']             \n",
            " Normalization)                                                                                   \n",
            "                                                                                                  \n",
            " re_lu_197 (ReLU)               (None, 2, 2, 128)    0           ['batch_normalization_197[0][0]']\n",
            "                                                                                                  \n",
            " conv2d_199 (Conv2D)            (None, 2, 2, 32)     36896       ['re_lu_197[0][0]']              \n",
            "                                                                                                  \n",
            " concatenate_95 (Concatenate)   (None, 2, 2, 896)    0           ['conv2d_199[0][0]',             \n",
            "                                                                  'concatenate_94[0][0]']         \n",
            "                                                                                                  \n",
            " batch_normalization_198 (Batch  (None, 2, 2, 896)   3584        ['concatenate_95[0][0]']         \n",
            " Normalization)                                                                                   \n",
            "                                                                                                  \n",
            " re_lu_198 (ReLU)               (None, 2, 2, 896)    0           ['batch_normalization_198[0][0]']\n",
            "                                                                                                  \n",
            " conv2d_200 (Conv2D)            (None, 2, 2, 128)    114816      ['re_lu_198[0][0]']              \n",
            "                                                                                                  \n",
            " batch_normalization_199 (Batch  (None, 2, 2, 128)   512         ['conv2d_200[0][0]']             \n",
            " Normalization)                                                                                   \n",
            "                                                                                                  \n",
            " re_lu_199 (ReLU)               (None, 2, 2, 128)    0           ['batch_normalization_199[0][0]']\n",
            "                                                                                                  \n",
            " conv2d_201 (Conv2D)            (None, 2, 2, 32)     36896       ['re_lu_199[0][0]']              \n",
            "                                                                                                  \n",
            " concatenate_96 (Concatenate)   (None, 2, 2, 928)    0           ['conv2d_201[0][0]',             \n",
            "                                                                  'concatenate_95[0][0]']         \n",
            "                                                                                                  \n",
            " batch_normalization_200 (Batch  (None, 2, 2, 928)   3712        ['concatenate_96[0][0]']         \n",
            " Normalization)                                                                                   \n",
            "                                                                                                  \n",
            " re_lu_200 (ReLU)               (None, 2, 2, 928)    0           ['batch_normalization_200[0][0]']\n",
            "                                                                                                  \n",
            " conv2d_202 (Conv2D)            (None, 2, 2, 128)    118912      ['re_lu_200[0][0]']              \n",
            "                                                                                                  \n",
            " batch_normalization_201 (Batch  (None, 2, 2, 128)   512         ['conv2d_202[0][0]']             \n",
            " Normalization)                                                                                   \n",
            "                                                                                                  \n",
            " re_lu_201 (ReLU)               (None, 2, 2, 128)    0           ['batch_normalization_201[0][0]']\n",
            "                                                                                                  \n",
            " conv2d_203 (Conv2D)            (None, 2, 2, 32)     36896       ['re_lu_201[0][0]']              \n",
            "                                                                                                  \n",
            " concatenate_97 (Concatenate)   (None, 2, 2, 960)    0           ['conv2d_203[0][0]',             \n",
            "                                                                  'concatenate_96[0][0]']         \n",
            "                                                                                                  \n",
            " batch_normalization_202 (Batch  (None, 2, 2, 960)   3840        ['concatenate_97[0][0]']         \n",
            " Normalization)                                                                                   \n",
            "                                                                                                  \n",
            " re_lu_202 (ReLU)               (None, 2, 2, 960)    0           ['batch_normalization_202[0][0]']\n",
            "                                                                                                  \n",
            " conv2d_204 (Conv2D)            (None, 2, 2, 128)    123008      ['re_lu_202[0][0]']              \n",
            "                                                                                                  \n",
            " batch_normalization_203 (Batch  (None, 2, 2, 128)   512         ['conv2d_204[0][0]']             \n",
            " Normalization)                                                                                   \n",
            "                                                                                                  \n",
            " re_lu_203 (ReLU)               (None, 2, 2, 128)    0           ['batch_normalization_203[0][0]']\n",
            "                                                                                                  \n",
            " conv2d_205 (Conv2D)            (None, 2, 2, 32)     36896       ['re_lu_203[0][0]']              \n",
            "                                                                                                  \n",
            " concatenate_98 (Concatenate)   (None, 2, 2, 992)    0           ['conv2d_205[0][0]',             \n",
            "                                                                  'concatenate_97[0][0]']         \n",
            "                                                                                                  \n",
            " batch_normalization_204 (Batch  (None, 2, 2, 992)   3968        ['concatenate_98[0][0]']         \n",
            " Normalization)                                                                                   \n",
            "                                                                                                  \n",
            " re_lu_204 (ReLU)               (None, 2, 2, 992)    0           ['batch_normalization_204[0][0]']\n",
            "                                                                                                  \n",
            " conv2d_206 (Conv2D)            (None, 2, 2, 128)    127104      ['re_lu_204[0][0]']              \n",
            "                                                                                                  \n",
            " batch_normalization_205 (Batch  (None, 2, 2, 128)   512         ['conv2d_206[0][0]']             \n",
            " Normalization)                                                                                   \n",
            "                                                                                                  \n",
            " re_lu_205 (ReLU)               (None, 2, 2, 128)    0           ['batch_normalization_205[0][0]']\n",
            "                                                                                                  \n",
            " conv2d_207 (Conv2D)            (None, 2, 2, 32)     36896       ['re_lu_205[0][0]']              \n",
            "                                                                                                  \n",
            " concatenate_99 (Concatenate)   (None, 2, 2, 1024)   0           ['conv2d_207[0][0]',             \n",
            "                                                                  'concatenate_98[0][0]']         \n",
            "                                                                                                  \n",
            " batch_normalization_206 (Batch  (None, 2, 2, 1024)  4096        ['concatenate_99[0][0]']         \n",
            " Normalization)                                                                                   \n",
            "                                                                                                  \n",
            " re_lu_206 (ReLU)               (None, 2, 2, 1024)   0           ['batch_normalization_206[0][0]']\n",
            "                                                                                                  \n",
            " conv2d_208 (Conv2D)            (None, 2, 2, 512)    524800      ['re_lu_206[0][0]']              \n",
            "                                                                                                  \n",
            " average_pooling2d_6 (AveragePo  (None, 1, 1, 512)   0           ['conv2d_208[0][0]']             \n",
            " oling2D)                                                                                         \n",
            "                                                                                                  \n",
            " batch_normalization_207 (Batch  (None, 1, 1, 512)   2048        ['average_pooling2d_6[0][0]']    \n",
            " Normalization)                                                                                   \n",
            "                                                                                                  \n",
            " re_lu_207 (ReLU)               (None, 1, 1, 512)    0           ['batch_normalization_207[0][0]']\n",
            "                                                                                                  \n",
            " conv2d_209 (Conv2D)            (None, 1, 1, 128)    65664       ['re_lu_207[0][0]']              \n",
            "                                                                                                  \n",
            " batch_normalization_208 (Batch  (None, 1, 1, 128)   512         ['conv2d_209[0][0]']             \n",
            " Normalization)                                                                                   \n",
            "                                                                                                  \n",
            " re_lu_208 (ReLU)               (None, 1, 1, 128)    0           ['batch_normalization_208[0][0]']\n",
            "                                                                                                  \n",
            " conv2d_210 (Conv2D)            (None, 1, 1, 32)     36896       ['re_lu_208[0][0]']              \n",
            "                                                                                                  \n",
            " concatenate_100 (Concatenate)  (None, 1, 1, 544)    0           ['conv2d_210[0][0]',             \n",
            "                                                                  'average_pooling2d_6[0][0]']    \n",
            "                                                                                                  \n",
            " batch_normalization_209 (Batch  (None, 1, 1, 544)   2176        ['concatenate_100[0][0]']        \n",
            " Normalization)                                                                                   \n",
            "                                                                                                  \n",
            " re_lu_209 (ReLU)               (None, 1, 1, 544)    0           ['batch_normalization_209[0][0]']\n",
            "                                                                                                  \n",
            " conv2d_211 (Conv2D)            (None, 1, 1, 128)    69760       ['re_lu_209[0][0]']              \n",
            "                                                                                                  \n",
            " batch_normalization_210 (Batch  (None, 1, 1, 128)   512         ['conv2d_211[0][0]']             \n",
            " Normalization)                                                                                   \n",
            "                                                                                                  \n",
            " re_lu_210 (ReLU)               (None, 1, 1, 128)    0           ['batch_normalization_210[0][0]']\n",
            "                                                                                                  \n",
            " conv2d_212 (Conv2D)            (None, 1, 1, 32)     36896       ['re_lu_210[0][0]']              \n",
            "                                                                                                  \n",
            " concatenate_101 (Concatenate)  (None, 1, 1, 576)    0           ['conv2d_212[0][0]',             \n",
            "                                                                  'concatenate_100[0][0]']        \n",
            "                                                                                                  \n",
            " batch_normalization_211 (Batch  (None, 1, 1, 576)   2304        ['concatenate_101[0][0]']        \n",
            " Normalization)                                                                                   \n",
            "                                                                                                  \n",
            " re_lu_211 (ReLU)               (None, 1, 1, 576)    0           ['batch_normalization_211[0][0]']\n",
            "                                                                                                  \n",
            " conv2d_213 (Conv2D)            (None, 1, 1, 128)    73856       ['re_lu_211[0][0]']              \n",
            "                                                                                                  \n",
            " batch_normalization_212 (Batch  (None, 1, 1, 128)   512         ['conv2d_213[0][0]']             \n",
            " Normalization)                                                                                   \n",
            "                                                                                                  \n",
            " re_lu_212 (ReLU)               (None, 1, 1, 128)    0           ['batch_normalization_212[0][0]']\n",
            "                                                                                                  \n",
            " conv2d_214 (Conv2D)            (None, 1, 1, 32)     36896       ['re_lu_212[0][0]']              \n",
            "                                                                                                  \n",
            " concatenate_102 (Concatenate)  (None, 1, 1, 608)    0           ['conv2d_214[0][0]',             \n",
            "                                                                  'concatenate_101[0][0]']        \n",
            "                                                                                                  \n",
            " batch_normalization_213 (Batch  (None, 1, 1, 608)   2432        ['concatenate_102[0][0]']        \n",
            " Normalization)                                                                                   \n",
            "                                                                                                  \n",
            " re_lu_213 (ReLU)               (None, 1, 1, 608)    0           ['batch_normalization_213[0][0]']\n",
            "                                                                                                  \n",
            " conv2d_215 (Conv2D)            (None, 1, 1, 128)    77952       ['re_lu_213[0][0]']              \n",
            "                                                                                                  \n",
            " batch_normalization_214 (Batch  (None, 1, 1, 128)   512         ['conv2d_215[0][0]']             \n",
            " Normalization)                                                                                   \n",
            "                                                                                                  \n",
            " re_lu_214 (ReLU)               (None, 1, 1, 128)    0           ['batch_normalization_214[0][0]']\n",
            "                                                                                                  \n",
            " conv2d_216 (Conv2D)            (None, 1, 1, 32)     36896       ['re_lu_214[0][0]']              \n",
            "                                                                                                  \n",
            " concatenate_103 (Concatenate)  (None, 1, 1, 640)    0           ['conv2d_216[0][0]',             \n",
            "                                                                  'concatenate_102[0][0]']        \n",
            "                                                                                                  \n",
            " batch_normalization_215 (Batch  (None, 1, 1, 640)   2560        ['concatenate_103[0][0]']        \n",
            " Normalization)                                                                                   \n",
            "                                                                                                  \n",
            " re_lu_215 (ReLU)               (None, 1, 1, 640)    0           ['batch_normalization_215[0][0]']\n",
            "                                                                                                  \n",
            " conv2d_217 (Conv2D)            (None, 1, 1, 128)    82048       ['re_lu_215[0][0]']              \n",
            "                                                                                                  \n",
            " batch_normalization_216 (Batch  (None, 1, 1, 128)   512         ['conv2d_217[0][0]']             \n",
            " Normalization)                                                                                   \n",
            "                                                                                                  \n",
            " re_lu_216 (ReLU)               (None, 1, 1, 128)    0           ['batch_normalization_216[0][0]']\n",
            "                                                                                                  \n",
            " conv2d_218 (Conv2D)            (None, 1, 1, 32)     36896       ['re_lu_216[0][0]']              \n",
            "                                                                                                  \n",
            " concatenate_104 (Concatenate)  (None, 1, 1, 672)    0           ['conv2d_218[0][0]',             \n",
            "                                                                  'concatenate_103[0][0]']        \n",
            "                                                                                                  \n",
            " batch_normalization_217 (Batch  (None, 1, 1, 672)   2688        ['concatenate_104[0][0]']        \n",
            " Normalization)                                                                                   \n",
            "                                                                                                  \n",
            " re_lu_217 (ReLU)               (None, 1, 1, 672)    0           ['batch_normalization_217[0][0]']\n",
            "                                                                                                  \n",
            " conv2d_219 (Conv2D)            (None, 1, 1, 128)    86144       ['re_lu_217[0][0]']              \n",
            "                                                                                                  \n",
            " batch_normalization_218 (Batch  (None, 1, 1, 128)   512         ['conv2d_219[0][0]']             \n",
            " Normalization)                                                                                   \n",
            "                                                                                                  \n",
            " re_lu_218 (ReLU)               (None, 1, 1, 128)    0           ['batch_normalization_218[0][0]']\n",
            "                                                                                                  \n",
            " conv2d_220 (Conv2D)            (None, 1, 1, 32)     36896       ['re_lu_218[0][0]']              \n",
            "                                                                                                  \n",
            " concatenate_105 (Concatenate)  (None, 1, 1, 704)    0           ['conv2d_220[0][0]',             \n",
            "                                                                  'concatenate_104[0][0]']        \n",
            "                                                                                                  \n",
            " batch_normalization_219 (Batch  (None, 1, 1, 704)   2816        ['concatenate_105[0][0]']        \n",
            " Normalization)                                                                                   \n",
            "                                                                                                  \n",
            " re_lu_219 (ReLU)               (None, 1, 1, 704)    0           ['batch_normalization_219[0][0]']\n",
            "                                                                                                  \n",
            " conv2d_221 (Conv2D)            (None, 1, 1, 128)    90240       ['re_lu_219[0][0]']              \n",
            "                                                                                                  \n",
            " batch_normalization_220 (Batch  (None, 1, 1, 128)   512         ['conv2d_221[0][0]']             \n",
            " Normalization)                                                                                   \n",
            "                                                                                                  \n",
            " re_lu_220 (ReLU)               (None, 1, 1, 128)    0           ['batch_normalization_220[0][0]']\n",
            "                                                                                                  \n",
            " conv2d_222 (Conv2D)            (None, 1, 1, 32)     36896       ['re_lu_220[0][0]']              \n",
            "                                                                                                  \n",
            " concatenate_106 (Concatenate)  (None, 1, 1, 736)    0           ['conv2d_222[0][0]',             \n",
            "                                                                  'concatenate_105[0][0]']        \n",
            "                                                                                                  \n",
            " batch_normalization_221 (Batch  (None, 1, 1, 736)   2944        ['concatenate_106[0][0]']        \n",
            " Normalization)                                                                                   \n",
            "                                                                                                  \n",
            " re_lu_221 (ReLU)               (None, 1, 1, 736)    0           ['batch_normalization_221[0][0]']\n",
            "                                                                                                  \n",
            " conv2d_223 (Conv2D)            (None, 1, 1, 128)    94336       ['re_lu_221[0][0]']              \n",
            "                                                                                                  \n",
            " batch_normalization_222 (Batch  (None, 1, 1, 128)   512         ['conv2d_223[0][0]']             \n",
            " Normalization)                                                                                   \n",
            "                                                                                                  \n",
            " re_lu_222 (ReLU)               (None, 1, 1, 128)    0           ['batch_normalization_222[0][0]']\n",
            "                                                                                                  \n",
            " conv2d_224 (Conv2D)            (None, 1, 1, 32)     36896       ['re_lu_222[0][0]']              \n",
            "                                                                                                  \n",
            " concatenate_107 (Concatenate)  (None, 1, 1, 768)    0           ['conv2d_224[0][0]',             \n",
            "                                                                  'concatenate_106[0][0]']        \n",
            "                                                                                                  \n",
            " batch_normalization_223 (Batch  (None, 1, 1, 768)   3072        ['concatenate_107[0][0]']        \n",
            " Normalization)                                                                                   \n",
            "                                                                                                  \n",
            " re_lu_223 (ReLU)               (None, 1, 1, 768)    0           ['batch_normalization_223[0][0]']\n",
            "                                                                                                  \n",
            " conv2d_225 (Conv2D)            (None, 1, 1, 128)    98432       ['re_lu_223[0][0]']              \n",
            "                                                                                                  \n",
            " batch_normalization_224 (Batch  (None, 1, 1, 128)   512         ['conv2d_225[0][0]']             \n",
            " Normalization)                                                                                   \n",
            "                                                                                                  \n",
            " re_lu_224 (ReLU)               (None, 1, 1, 128)    0           ['batch_normalization_224[0][0]']\n",
            "                                                                                                  \n",
            " conv2d_226 (Conv2D)            (None, 1, 1, 32)     36896       ['re_lu_224[0][0]']              \n",
            "                                                                                                  \n",
            " concatenate_108 (Concatenate)  (None, 1, 1, 800)    0           ['conv2d_226[0][0]',             \n",
            "                                                                  'concatenate_107[0][0]']        \n",
            "                                                                                                  \n",
            " batch_normalization_225 (Batch  (None, 1, 1, 800)   3200        ['concatenate_108[0][0]']        \n",
            " Normalization)                                                                                   \n",
            "                                                                                                  \n",
            " re_lu_225 (ReLU)               (None, 1, 1, 800)    0           ['batch_normalization_225[0][0]']\n",
            "                                                                                                  \n",
            " conv2d_227 (Conv2D)            (None, 1, 1, 128)    102528      ['re_lu_225[0][0]']              \n",
            "                                                                                                  \n",
            " batch_normalization_226 (Batch  (None, 1, 1, 128)   512         ['conv2d_227[0][0]']             \n",
            " Normalization)                                                                                   \n",
            "                                                                                                  \n",
            " re_lu_226 (ReLU)               (None, 1, 1, 128)    0           ['batch_normalization_226[0][0]']\n",
            "                                                                                                  \n",
            " conv2d_228 (Conv2D)            (None, 1, 1, 32)     36896       ['re_lu_226[0][0]']              \n",
            "                                                                                                  \n",
            " concatenate_109 (Concatenate)  (None, 1, 1, 832)    0           ['conv2d_228[0][0]',             \n",
            "                                                                  'concatenate_108[0][0]']        \n",
            "                                                                                                  \n",
            " batch_normalization_227 (Batch  (None, 1, 1, 832)   3328        ['concatenate_109[0][0]']        \n",
            " Normalization)                                                                                   \n",
            "                                                                                                  \n",
            " re_lu_227 (ReLU)               (None, 1, 1, 832)    0           ['batch_normalization_227[0][0]']\n",
            "                                                                                                  \n",
            " conv2d_229 (Conv2D)            (None, 1, 1, 128)    106624      ['re_lu_227[0][0]']              \n",
            "                                                                                                  \n",
            " batch_normalization_228 (Batch  (None, 1, 1, 128)   512         ['conv2d_229[0][0]']             \n",
            " Normalization)                                                                                   \n",
            "                                                                                                  \n",
            " re_lu_228 (ReLU)               (None, 1, 1, 128)    0           ['batch_normalization_228[0][0]']\n",
            "                                                                                                  \n",
            " conv2d_230 (Conv2D)            (None, 1, 1, 32)     36896       ['re_lu_228[0][0]']              \n",
            "                                                                                                  \n",
            " concatenate_110 (Concatenate)  (None, 1, 1, 864)    0           ['conv2d_230[0][0]',             \n",
            "                                                                  'concatenate_109[0][0]']        \n",
            "                                                                                                  \n",
            " batch_normalization_229 (Batch  (None, 1, 1, 864)   3456        ['concatenate_110[0][0]']        \n",
            " Normalization)                                                                                   \n",
            "                                                                                                  \n",
            " re_lu_229 (ReLU)               (None, 1, 1, 864)    0           ['batch_normalization_229[0][0]']\n",
            "                                                                                                  \n",
            " conv2d_231 (Conv2D)            (None, 1, 1, 128)    110720      ['re_lu_229[0][0]']              \n",
            "                                                                                                  \n",
            " batch_normalization_230 (Batch  (None, 1, 1, 128)   512         ['conv2d_231[0][0]']             \n",
            " Normalization)                                                                                   \n",
            "                                                                                                  \n",
            " re_lu_230 (ReLU)               (None, 1, 1, 128)    0           ['batch_normalization_230[0][0]']\n",
            "                                                                                                  \n",
            " conv2d_232 (Conv2D)            (None, 1, 1, 32)     36896       ['re_lu_230[0][0]']              \n",
            "                                                                                                  \n",
            " concatenate_111 (Concatenate)  (None, 1, 1, 896)    0           ['conv2d_232[0][0]',             \n",
            "                                                                  'concatenate_110[0][0]']        \n",
            "                                                                                                  \n",
            " batch_normalization_231 (Batch  (None, 1, 1, 896)   3584        ['concatenate_111[0][0]']        \n",
            " Normalization)                                                                                   \n",
            "                                                                                                  \n",
            " re_lu_231 (ReLU)               (None, 1, 1, 896)    0           ['batch_normalization_231[0][0]']\n",
            "                                                                                                  \n",
            " conv2d_233 (Conv2D)            (None, 1, 1, 128)    114816      ['re_lu_231[0][0]']              \n",
            "                                                                                                  \n",
            " batch_normalization_232 (Batch  (None, 1, 1, 128)   512         ['conv2d_233[0][0]']             \n",
            " Normalization)                                                                                   \n",
            "                                                                                                  \n",
            " re_lu_232 (ReLU)               (None, 1, 1, 128)    0           ['batch_normalization_232[0][0]']\n",
            "                                                                                                  \n",
            " conv2d_234 (Conv2D)            (None, 1, 1, 32)     36896       ['re_lu_232[0][0]']              \n",
            "                                                                                                  \n",
            " concatenate_112 (Concatenate)  (None, 1, 1, 928)    0           ['conv2d_234[0][0]',             \n",
            "                                                                  'concatenate_111[0][0]']        \n",
            "                                                                                                  \n",
            " batch_normalization_233 (Batch  (None, 1, 1, 928)   3712        ['concatenate_112[0][0]']        \n",
            " Normalization)                                                                                   \n",
            "                                                                                                  \n",
            " re_lu_233 (ReLU)               (None, 1, 1, 928)    0           ['batch_normalization_233[0][0]']\n",
            "                                                                                                  \n",
            " conv2d_235 (Conv2D)            (None, 1, 1, 128)    118912      ['re_lu_233[0][0]']              \n",
            "                                                                                                  \n",
            " batch_normalization_234 (Batch  (None, 1, 1, 128)   512         ['conv2d_235[0][0]']             \n",
            " Normalization)                                                                                   \n",
            "                                                                                                  \n",
            " re_lu_234 (ReLU)               (None, 1, 1, 128)    0           ['batch_normalization_234[0][0]']\n",
            "                                                                                                  \n",
            " conv2d_236 (Conv2D)            (None, 1, 1, 32)     36896       ['re_lu_234[0][0]']              \n",
            "                                                                                                  \n",
            " concatenate_113 (Concatenate)  (None, 1, 1, 960)    0           ['conv2d_236[0][0]',             \n",
            "                                                                  'concatenate_112[0][0]']        \n",
            "                                                                                                  \n",
            " batch_normalization_235 (Batch  (None, 1, 1, 960)   3840        ['concatenate_113[0][0]']        \n",
            " Normalization)                                                                                   \n",
            "                                                                                                  \n",
            " re_lu_235 (ReLU)               (None, 1, 1, 960)    0           ['batch_normalization_235[0][0]']\n",
            "                                                                                                  \n",
            " conv2d_237 (Conv2D)            (None, 1, 1, 128)    123008      ['re_lu_235[0][0]']              \n",
            "                                                                                                  \n",
            " batch_normalization_236 (Batch  (None, 1, 1, 128)   512         ['conv2d_237[0][0]']             \n",
            " Normalization)                                                                                   \n",
            "                                                                                                  \n",
            " re_lu_236 (ReLU)               (None, 1, 1, 128)    0           ['batch_normalization_236[0][0]']\n",
            "                                                                                                  \n",
            " conv2d_238 (Conv2D)            (None, 1, 1, 32)     36896       ['re_lu_236[0][0]']              \n",
            "                                                                                                  \n",
            " concatenate_114 (Concatenate)  (None, 1, 1, 992)    0           ['conv2d_238[0][0]',             \n",
            "                                                                  'concatenate_113[0][0]']        \n",
            "                                                                                                  \n",
            " batch_normalization_237 (Batch  (None, 1, 1, 992)   3968        ['concatenate_114[0][0]']        \n",
            " Normalization)                                                                                   \n",
            "                                                                                                  \n",
            " re_lu_237 (ReLU)               (None, 1, 1, 992)    0           ['batch_normalization_237[0][0]']\n",
            "                                                                                                  \n",
            " conv2d_239 (Conv2D)            (None, 1, 1, 128)    127104      ['re_lu_237[0][0]']              \n",
            "                                                                                                  \n",
            " batch_normalization_238 (Batch  (None, 1, 1, 128)   512         ['conv2d_239[0][0]']             \n",
            " Normalization)                                                                                   \n",
            "                                                                                                  \n",
            " re_lu_238 (ReLU)               (None, 1, 1, 128)    0           ['batch_normalization_238[0][0]']\n",
            "                                                                                                  \n",
            " conv2d_240 (Conv2D)            (None, 1, 1, 32)     36896       ['re_lu_238[0][0]']              \n",
            "                                                                                                  \n",
            " concatenate_115 (Concatenate)  (None, 1, 1, 1024)   0           ['conv2d_240[0][0]',             \n",
            "                                                                  'concatenate_114[0][0]']        \n",
            "                                                                                                  \n",
            " global_average_pooling2d_1 (Gl  (None, 1024)        0           ['concatenate_115[0][0]']        \n",
            " obalAveragePooling2D)                                                                            \n",
            "                                                                                                  \n",
            " dense_1 (Dense)                (None, 9)            9225        ['global_average_pooling2d_1[0][0\n",
            "                                                                 ]']                              \n",
            "                                                                                                  \n",
            "==================================================================================================\n",
            "Total params: 7,052,617\n",
            "Trainable params: 6,971,145\n",
            "Non-trainable params: 81,472\n",
            "__________________________________________________________________________________________________\n"
          ]
        }
      ]
    },
    {
      "cell_type": "markdown",
      "metadata": {
        "id": "469VEA_ucybz"
      },
      "source": [
        "#Train Model"
      ]
    },
    {
      "cell_type": "code",
      "metadata": {
        "id": "nP4d0lPrc7JS"
      },
      "source": [
        "from tensorflow.keras.callbacks import EarlyStopping"
      ],
      "execution_count": 79,
      "outputs": []
    },
    {
      "cell_type": "code",
      "metadata": {
        "id": "UlhLKzASdJ7_"
      },
      "source": [
        "early_stop = EarlyStopping(monitor='val_loss', patience=20)"
      ],
      "execution_count": 80,
      "outputs": []
    },
    {
      "cell_type": "code",
      "metadata": {
        "id": "eSqf4h5Ldgou"
      },
      "source": [
        "opt = tf.keras.optimizers.Adam(learning_rate=1e-05)\n",
        "model.compile(optimizer=opt, loss='categorical_crossentropy', metrics=['accuracy'])"
      ],
      "execution_count": 81,
      "outputs": []
    },
    {
      "cell_type": "code",
      "metadata": {
        "colab": {
          "base_uri": "https://localhost:8080/"
        },
        "id": "jSrMa5dpdTdX",
        "outputId": "d59a5b44-c66d-48ee-ffe2-97c9a97eb69a"
      },
      "source": [
        "model.fit(x_train, y_cat_train, batch_size=256, epochs=15, validation_data=(x_test, y_cat_test), callbacks=[early_stop])"
      ],
      "execution_count": 82,
      "outputs": [
        {
          "output_type": "stream",
          "name": "stdout",
          "text": [
            "Epoch 1/15\n",
            "352/352 [==============================] - 96s 224ms/step - loss: 4.6993 - accuracy: 0.5320 - val_loss: 5.6851 - val_accuracy: 0.1744\n",
            "Epoch 2/15\n",
            "352/352 [==============================] - 75s 213ms/step - loss: 4.0582 - accuracy: 0.6628 - val_loss: 3.9991 - val_accuracy: 0.6604\n",
            "Epoch 3/15\n",
            "352/352 [==============================] - 76s 216ms/step - loss: 3.6853 - accuracy: 0.7077 - val_loss: 3.7124 - val_accuracy: 0.6855\n",
            "Epoch 4/15\n",
            "352/352 [==============================] - 75s 213ms/step - loss: 3.3671 - accuracy: 0.7368 - val_loss: 3.5307 - val_accuracy: 0.6708\n",
            "Epoch 5/15\n",
            "352/352 [==============================] - 76s 215ms/step - loss: 3.0817 - accuracy: 0.7561 - val_loss: 3.2088 - val_accuracy: 0.7146\n",
            "Epoch 6/15\n",
            "352/352 [==============================] - 76s 215ms/step - loss: 2.8169 - accuracy: 0.7741 - val_loss: 3.0589 - val_accuracy: 0.6801\n",
            "Epoch 7/15\n",
            "352/352 [==============================] - 76s 217ms/step - loss: 2.5687 - accuracy: 0.7900 - val_loss: 2.7729 - val_accuracy: 0.7139\n",
            "Epoch 8/15\n",
            "352/352 [==============================] - 76s 217ms/step - loss: 2.3403 - accuracy: 0.8026 - val_loss: 2.5876 - val_accuracy: 0.7143\n",
            "Epoch 9/15\n",
            "352/352 [==============================] - 75s 214ms/step - loss: 2.1247 - accuracy: 0.8173 - val_loss: 2.4261 - val_accuracy: 0.7097\n",
            "Epoch 10/15\n",
            "352/352 [==============================] - 75s 214ms/step - loss: 1.9240 - accuracy: 0.8285 - val_loss: 2.3070 - val_accuracy: 0.6999\n",
            "Epoch 11/15\n",
            "352/352 [==============================] - 76s 216ms/step - loss: 1.7388 - accuracy: 0.8394 - val_loss: 2.1193 - val_accuracy: 0.7089\n",
            "Epoch 12/15\n",
            "352/352 [==============================] - 75s 214ms/step - loss: 1.5669 - accuracy: 0.8506 - val_loss: 1.9877 - val_accuracy: 0.7056\n",
            "Epoch 13/15\n",
            "352/352 [==============================] - 76s 215ms/step - loss: 1.4075 - accuracy: 0.8637 - val_loss: 1.8726 - val_accuracy: 0.7096\n",
            "Epoch 14/15\n",
            "352/352 [==============================] - 76s 217ms/step - loss: 1.2611 - accuracy: 0.8767 - val_loss: 1.7355 - val_accuracy: 0.7164\n",
            "Epoch 15/15\n",
            "352/352 [==============================] - 76s 217ms/step - loss: 1.1312 - accuracy: 0.8857 - val_loss: 1.6443 - val_accuracy: 0.7166\n"
          ]
        },
        {
          "output_type": "execute_result",
          "data": {
            "text/plain": [
              "<keras.callbacks.History at 0x7f9c96264810>"
            ]
          },
          "metadata": {},
          "execution_count": 82
        }
      ]
    },
    {
      "cell_type": "code",
      "metadata": {
        "id": "90VHjzw4Cvtm"
      },
      "source": [
        "metrics = pd.DataFrame(model.history.history)"
      ],
      "execution_count": 83,
      "outputs": []
    },
    {
      "cell_type": "code",
      "metadata": {
        "id": "XyPa6XBcC5dk",
        "colab": {
          "base_uri": "https://localhost:8080/",
          "height": 514
        },
        "outputId": "cf804201-c0c3-49d9-bab8-e0324398af98"
      },
      "source": [
        "metrics"
      ],
      "execution_count": 84,
      "outputs": [
        {
          "output_type": "execute_result",
          "data": {
            "text/html": [
              "<div>\n",
              "<style scoped>\n",
              "    .dataframe tbody tr th:only-of-type {\n",
              "        vertical-align: middle;\n",
              "    }\n",
              "\n",
              "    .dataframe tbody tr th {\n",
              "        vertical-align: top;\n",
              "    }\n",
              "\n",
              "    .dataframe thead th {\n",
              "        text-align: right;\n",
              "    }\n",
              "</style>\n",
              "<table border=\"1\" class=\"dataframe\">\n",
              "  <thead>\n",
              "    <tr style=\"text-align: right;\">\n",
              "      <th></th>\n",
              "      <th>loss</th>\n",
              "      <th>accuracy</th>\n",
              "      <th>val_loss</th>\n",
              "      <th>val_accuracy</th>\n",
              "    </tr>\n",
              "  </thead>\n",
              "  <tbody>\n",
              "    <tr>\n",
              "      <th>0</th>\n",
              "      <td>4.699340</td>\n",
              "      <td>0.531968</td>\n",
              "      <td>5.685056</td>\n",
              "      <td>0.174373</td>\n",
              "    </tr>\n",
              "    <tr>\n",
              "      <th>1</th>\n",
              "      <td>4.058187</td>\n",
              "      <td>0.662774</td>\n",
              "      <td>3.999144</td>\n",
              "      <td>0.660446</td>\n",
              "    </tr>\n",
              "    <tr>\n",
              "      <th>2</th>\n",
              "      <td>3.685256</td>\n",
              "      <td>0.707731</td>\n",
              "      <td>3.712420</td>\n",
              "      <td>0.685515</td>\n",
              "    </tr>\n",
              "    <tr>\n",
              "      <th>3</th>\n",
              "      <td>3.367109</td>\n",
              "      <td>0.736833</td>\n",
              "      <td>3.530670</td>\n",
              "      <td>0.670752</td>\n",
              "    </tr>\n",
              "    <tr>\n",
              "      <th>4</th>\n",
              "      <td>3.081733</td>\n",
              "      <td>0.756111</td>\n",
              "      <td>3.208828</td>\n",
              "      <td>0.714624</td>\n",
              "    </tr>\n",
              "    <tr>\n",
              "      <th>5</th>\n",
              "      <td>2.816892</td>\n",
              "      <td>0.774134</td>\n",
              "      <td>3.058876</td>\n",
              "      <td>0.680084</td>\n",
              "    </tr>\n",
              "    <tr>\n",
              "      <th>6</th>\n",
              "      <td>2.568741</td>\n",
              "      <td>0.790046</td>\n",
              "      <td>2.772931</td>\n",
              "      <td>0.713928</td>\n",
              "    </tr>\n",
              "    <tr>\n",
              "      <th>7</th>\n",
              "      <td>2.340328</td>\n",
              "      <td>0.802602</td>\n",
              "      <td>2.587569</td>\n",
              "      <td>0.714345</td>\n",
              "    </tr>\n",
              "    <tr>\n",
              "      <th>8</th>\n",
              "      <td>2.124712</td>\n",
              "      <td>0.817336</td>\n",
              "      <td>2.426137</td>\n",
              "      <td>0.709749</td>\n",
              "    </tr>\n",
              "    <tr>\n",
              "      <th>9</th>\n",
              "      <td>1.924043</td>\n",
              "      <td>0.828526</td>\n",
              "      <td>2.306981</td>\n",
              "      <td>0.699861</td>\n",
              "    </tr>\n",
              "    <tr>\n",
              "      <th>10</th>\n",
              "      <td>1.738763</td>\n",
              "      <td>0.839415</td>\n",
              "      <td>2.119334</td>\n",
              "      <td>0.708914</td>\n",
              "    </tr>\n",
              "    <tr>\n",
              "      <th>11</th>\n",
              "      <td>1.566880</td>\n",
              "      <td>0.850560</td>\n",
              "      <td>1.987686</td>\n",
              "      <td>0.705571</td>\n",
              "    </tr>\n",
              "    <tr>\n",
              "      <th>12</th>\n",
              "      <td>1.407509</td>\n",
              "      <td>0.863672</td>\n",
              "      <td>1.872562</td>\n",
              "      <td>0.709610</td>\n",
              "    </tr>\n",
              "    <tr>\n",
              "      <th>13</th>\n",
              "      <td>1.261133</td>\n",
              "      <td>0.876695</td>\n",
              "      <td>1.735507</td>\n",
              "      <td>0.716435</td>\n",
              "    </tr>\n",
              "    <tr>\n",
              "      <th>14</th>\n",
              "      <td>1.131187</td>\n",
              "      <td>0.885706</td>\n",
              "      <td>1.644302</td>\n",
              "      <td>0.716574</td>\n",
              "    </tr>\n",
              "  </tbody>\n",
              "</table>\n",
              "</div>"
            ],
            "text/plain": [
              "        loss  accuracy  val_loss  val_accuracy\n",
              "0   4.699340  0.531968  5.685056      0.174373\n",
              "1   4.058187  0.662774  3.999144      0.660446\n",
              "2   3.685256  0.707731  3.712420      0.685515\n",
              "3   3.367109  0.736833  3.530670      0.670752\n",
              "4   3.081733  0.756111  3.208828      0.714624\n",
              "5   2.816892  0.774134  3.058876      0.680084\n",
              "6   2.568741  0.790046  2.772931      0.713928\n",
              "7   2.340328  0.802602  2.587569      0.714345\n",
              "8   2.124712  0.817336  2.426137      0.709749\n",
              "9   1.924043  0.828526  2.306981      0.699861\n",
              "10  1.738763  0.839415  2.119334      0.708914\n",
              "11  1.566880  0.850560  1.987686      0.705571\n",
              "12  1.407509  0.863672  1.872562      0.709610\n",
              "13  1.261133  0.876695  1.735507      0.716435\n",
              "14  1.131187  0.885706  1.644302      0.716574"
            ]
          },
          "metadata": {},
          "execution_count": 84
        }
      ]
    },
    {
      "cell_type": "code",
      "metadata": {
        "id": "CsIwHuEeC7pX",
        "colab": {
          "base_uri": "https://localhost:8080/"
        },
        "outputId": "268e21bf-1b5b-489c-9dd4-8ec7fcc0ac60"
      },
      "source": [
        "metrics.columns"
      ],
      "execution_count": 85,
      "outputs": [
        {
          "output_type": "execute_result",
          "data": {
            "text/plain": [
              "Index(['loss', 'accuracy', 'val_loss', 'val_accuracy'], dtype='object')"
            ]
          },
          "metadata": {},
          "execution_count": 85
        }
      ]
    },
    {
      "cell_type": "code",
      "metadata": {
        "id": "FGhkP99wC_Rh",
        "colab": {
          "base_uri": "https://localhost:8080/",
          "height": 282
        },
        "outputId": "814a303d-57e8-486a-e782-fb9846ee1f3a"
      },
      "source": [
        "metrics[['accuracy', 'val_accuracy']].plot()"
      ],
      "execution_count": 86,
      "outputs": [
        {
          "output_type": "execute_result",
          "data": {
            "text/plain": [
              "<matplotlib.axes._subplots.AxesSubplot at 0x7f9d0e3dff10>"
            ]
          },
          "metadata": {},
          "execution_count": 86
        },
        {
          "output_type": "display_data",
          "data": {
            "image/png": "[encoded data removed]",
            "text/plain": [
              "<Figure size 432x288 with 1 Axes>"
            ]
          },
          "metadata": {
            "needs_background": "light"
          }
        }
      ]
    },
    {
      "cell_type": "code",
      "metadata": {
        "id": "MWVWHpm1DB0u",
        "colab": {
          "base_uri": "https://localhost:8080/",
          "height": 282
        },
        "outputId": "442b5381-239f-4e7c-fd22-81c74731b12f"
      },
      "source": [
        "metrics[['loss', 'val_loss']].plot()"
      ],
      "execution_count": 87,
      "outputs": [
        {
          "output_type": "execute_result",
          "data": {
            "text/plain": [
              "<matplotlib.axes._subplots.AxesSubplot at 0x7f9c972d01d0>"
            ]
          },
          "metadata": {},
          "execution_count": 87
        },
        {
          "output_type": "display_data",
          "data": {
            "image/png": "[encoded data removed]",
            "text/plain": [
              "<Figure size 432x288 with 1 Axes>"
            ]
          },
          "metadata": {
            "needs_background": "light"
          }
        }
      ]
    },
    {
      "cell_type": "code",
      "metadata": {
        "id": "RR3-HSOJDFHs"
      },
      "source": [
        "from sklearn.metrics import classification_report, confusion_matrix"
      ],
      "execution_count": 88,
      "outputs": []
    },
    {
      "cell_type": "code",
      "metadata": {
        "id": "RXqD_IONDIGs"
      },
      "source": [
        "y_pred = model.predict(x_test)\n",
        "y_pred = np.argmax(y_pred,axis=1)"
      ],
      "execution_count": 89,
      "outputs": []
    },
    {
      "cell_type": "code",
      "metadata": {
        "id": "dkLJp9lyDKU5",
        "colab": {
          "base_uri": "https://localhost:8080/"
        },
        "outputId": "2a0bd9ca-7b1a-428c-9945-6affc98110c6"
      },
      "source": [
        "y_pred"
      ],
      "execution_count": 90,
      "outputs": [
        {
          "output_type": "execute_result",
          "data": {
            "text/plain": [
              "array([8, 4, 4, ..., 4, 8, 8])"
            ]
          },
          "metadata": {},
          "execution_count": 90
        }
      ]
    },
    {
      "cell_type": "code",
      "metadata": {
        "id": "Xdv6b24UDQVB",
        "colab": {
          "base_uri": "https://localhost:8080/"
        },
        "outputId": "9ffb934b-5e48-403a-ce1a-f6a311f7ad6b"
      },
      "source": [
        "print(classification_report(y_pred, y_test))"
      ],
      "execution_count": 91,
      "outputs": [
        {
          "output_type": "stream",
          "name": "stdout",
          "text": [
            "              precision    recall  f1-score   support\n",
            "\n",
            "           0       0.85      0.91      0.88      1246\n",
            "           1       1.00      0.78      0.88      1080\n",
            "           2       0.68      0.39      0.50       592\n",
            "           3       0.62      0.75      0.68       522\n",
            "           4       0.63      0.88      0.73       744\n",
            "           5       0.48      0.50      0.49       571\n",
            "           6       0.62      0.58      0.60       785\n",
            "           7       0.38      0.47      0.42       338\n",
            "           8       0.80      0.76      0.78      1302\n",
            "\n",
            "    accuracy                           0.72      7180\n",
            "   macro avg       0.67      0.67      0.66      7180\n",
            "weighted avg       0.73      0.72      0.72      7180\n",
            "\n"
          ]
        }
      ]
    },
    {
      "cell_type": "code",
      "metadata": {
        "id": "kJtuICVDDTdI",
        "colab": {
          "base_uri": "https://localhost:8080/"
        },
        "outputId": "9ac15900-bcc1-4096-9f4b-be3adeda32b3"
      },
      "source": [
        "print(confusion_matrix(y_pred, y_test))"
      ],
      "execution_count": 92,
      "outputs": [
        {
          "output_type": "stream",
          "name": "stdout",
          "text": [
            "[[1133    0    0   13   91    0    8    0    1]\n",
            " [   8  847    0    1  223    0    0    0    1]\n",
            " [  22    0  231   14    0  108   49  102   66]\n",
            " [   0    0    9  392   13   58   23   12   15]\n",
            " [  27    0    0   14  652    0   29   10   12]\n",
            " [ 139    0   51    6    3  287   18   58    9]\n",
            " [   3    0    0  153   20    0  458   12  139]\n",
            " [   0    0   34    3    6  124    6  160    5]\n",
            " [   6    0   14   38   27   15  150   67  985]]\n"
          ]
        }
      ]
    },
    {
      "cell_type": "code",
      "metadata": {
        "id": "G_gu3yVxhtVE"
      },
      "source": [
        "model.save('model_DenseNet.h5')"
      ],
      "execution_count": 93,
      "outputs": []
    },
    {
      "cell_type": "code",
      "metadata": {
        "id": "MNcItBdiXV9T"
      },
      "source": [
        "from sklearn.metrics import classification_report, confusion_matrix, roc_auc_score, average_precision_score, accuracy_score"
      ],
      "execution_count": 94,
      "outputs": []
    },
    {
      "cell_type": "code",
      "metadata": {
        "id": "CwwcVKT_hhKS"
      },
      "source": [
        "model = tf.keras.models.load_model('model_DenseNet.h5')"
      ],
      "execution_count": 95,
      "outputs": []
    },
    {
      "cell_type": "code",
      "metadata": {
        "id": "zeKOlJ8sh54Q"
      },
      "source": [
        "y_pred = model.predict(x_test)\n",
        "\n",
        "y_test_pred = y_pred\n",
        "y_train_pred = model.predict(x_train)\n",
        "y_val_pred = model.predict(x_val)"
      ],
      "execution_count": 111,
      "outputs": []
    },
    {
      "cell_type": "code",
      "metadata": {
        "colab": {
          "base_uri": "https://localhost:8080/"
        },
        "id": "Qqh0eDjGjw4L",
        "outputId": "4c98a0ff-0138-4038-9fdf-53a569560bf2"
      },
      "source": [
        "print(\"ROC AUC SCORES\")\n",
        "\n",
        "print('test')\n",
        "print(roc_auc_score(y_test, y_test_pred, multi_class='ovr'))\n",
        "print()\n",
        "\n",
        "print('validation')\n",
        "print(roc_auc_score(y_val, y_val_pred, multi_class='ovr'))\n",
        "print()\n",
        "\n",
        "print('train')\n",
        "print(roc_auc_score(y_train, y_train_pred, multi_class=\"ovr\"))"
      ],
      "execution_count": 99,
      "outputs": [
        {
          "output_type": "stream",
          "name": "stdout",
          "text": [
            "ROC AUC SCORES\n",
            "test\n",
            "0.9320602904321282\n",
            "\n",
            "validation\n",
            "0.9674639510090126\n",
            "\n",
            "train\n",
            "0.992272455405637\n"
          ]
        }
      ]
    },
    {
      "cell_type": "code",
      "metadata": {
        "colab": {
          "base_uri": "https://localhost:8080/"
        },
        "id": "qXLBT7fqjyM6",
        "outputId": "71bc99d1-631b-4a8a-a613-3b7529a5bee0"
      },
      "source": [
        "print(\"PRC AUC SCORES\")\n",
        "\n",
        "print('test')\n",
        "print(average_precision_score(y_cat_test, y_test_pred))\n",
        "print()\n",
        "\n",
        "print('validation')\n",
        "print(average_precision_score(y_cat_val, y_val_pred))\n",
        "print()\n",
        "\n",
        "print('train')\n",
        "print(average_precision_score(y_cat_train, y_train_pred))"
      ],
      "execution_count": 100,
      "outputs": [
        {
          "output_type": "stream",
          "name": "stdout",
          "text": [
            "PRC AUC SCORES\n",
            "test\n",
            "0.6994421538110984\n",
            "\n",
            "validation\n",
            "0.832938517646612\n",
            "\n",
            "train\n",
            "0.9536486170689342\n"
          ]
        }
      ]
    },
    {
      "cell_type": "code",
      "metadata": {
        "colab": {
          "base_uri": "https://localhost:8080/"
        },
        "id": "G7kOHh6uj5Ks",
        "outputId": "5095d97e-ae1d-4683-b6c1-0e0a3eeccfb1"
      },
      "source": [
        "print(y_pred)\n",
        "y_pred = np.argmax(y_pred, axis=1)\n",
        "y_test_pred = y_pred\n",
        "y_train_pred = np.argmax(y_train_pred, axis=1)\n",
        "print(y_train_pred.shape)\n",
        "y_val_pred = np.argmax(y_val_pred, axis=1)"
      ],
      "execution_count": 112,
      "outputs": [
        {
          "output_type": "stream",
          "name": "stdout",
          "text": [
            "[[3.38783895e-04 7.80920614e-04 2.88002123e-03 ... 6.57252455e-03\n",
            "  1.28557556e-03 9.85119402e-01]\n",
            " [5.80768008e-03 1.65574476e-02 2.73884181e-03 ... 1.32652879e-01\n",
            "  5.66726224e-03 1.14687718e-02]\n",
            " [6.90872297e-02 2.46628132e-02 3.07853776e-03 ... 2.45933570e-02\n",
            "  3.66270286e-03 1.06440904e-02]\n",
            " ...\n",
            " [8.32057744e-03 1.96110569e-02 8.47163331e-03 ... 8.23126733e-02\n",
            "  4.99288812e-02 1.87784899e-02]\n",
            " [1.24588876e-03 1.71899935e-03 1.40625285e-02 ... 4.27510589e-03\n",
            "  2.68599158e-03 9.69677567e-01]\n",
            " [1.36208080e-04 2.96862447e-04 6.81057340e-04 ... 1.86370488e-03\n",
            "  4.52986365e-04 9.95120823e-01]]\n",
            "(89996,)\n"
          ]
        }
      ]
    },
    {
      "cell_type": "code",
      "metadata": {
        "colab": {
          "base_uri": "https://localhost:8080/"
        },
        "id": "QtGkEPNgj5tV",
        "outputId": "e8ef535e-90d6-47f0-f407-ec11f6af6f61"
      },
      "source": [
        "print(\"Accuracy\")\n",
        "print(\"test\")\n",
        "print(accuracy_score(y_test, y_test_pred))\n",
        "print()\n",
        "\n",
        "print('validation')\n",
        "print(accuracy_score(y_val, y_val_pred))\n",
        "print()\n",
        "\n",
        "print('train')\n",
        "print(accuracy_score(y_train, y_train_pred))\n",
        "print()"
      ],
      "execution_count": 113,
      "outputs": [
        {
          "output_type": "stream",
          "name": "stdout",
          "text": [
            "Accuracy\n",
            "test\n",
            "0.7165738161559888\n",
            "\n",
            "validation\n",
            "0.7745901639344263\n",
            "\n",
            "train\n",
            "0.8959064847326548\n",
            "\n"
          ]
        }
      ]
    }
  ]
}