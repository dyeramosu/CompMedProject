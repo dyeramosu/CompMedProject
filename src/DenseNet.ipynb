{
  "nbformat": 4,
  "nbformat_minor": 0,
  "metadata": {
    "colab": {
      "name": "DenseNet.ipynb",
      "provenance": [],
      "collapsed_sections": []
    },
    "kernelspec": {
      "name": "python3",
      "display_name": "Python 3"
    },
    "language_info": {
      "name": "python"
    },
    "accelerator": "GPU"
  },
  "cells": [
    {
      "cell_type": "code",
      "metadata": {
        "colab": {
          "base_uri": "https://localhost:8080/"
        },
        "id": "Kq7RuuvyqOfZ",
        "outputId": "854e9f62-4da0-448e-aed6-d6edd54f0c69"
      },
      "source": [
        "import tensorflow as tf\n",
        "device_name = tf.test.gpu_device_name()\n",
        "if device_name != '/device:GPU:0':\n",
        "  raise SystemError('GPU device not found')\n",
        "print('Found GPU at: {}'.format(device_name))"
      ],
      "execution_count": 2,
      "outputs": [
        {
          "output_type": "stream",
          "name": "stdout",
          "text": [
            "Found GPU at: /device:GPU:0\n"
          ]
        }
      ]
    },
    {
      "cell_type": "code",
      "metadata": {
        "id": "wdOmhgQAq72P"
      },
      "source": [
        "import numpy as np\n",
        "import pandas as pd\n",
        "import matplotlib.pyplot as plt\n",
        "%matplotlib inline\n",
        "\n",
        "import tensorflow as tf\n"
      ],
      "execution_count": 3,
      "outputs": []
    },
    {
      "cell_type": "code",
      "metadata": {
        "colab": {
          "base_uri": "https://localhost:8080/"
        },
        "id": "DtB9_hUsrMom",
        "outputId": "8b5f6252-330a-45d0-b92a-44ee6bfc30ca"
      },
      "source": [
        "from google.colab import drive\n",
        "drive.mount('/content/drive')"
      ],
      "execution_count": 4,
      "outputs": [
        {
          "output_type": "stream",
          "name": "stdout",
          "text": [
            "Mounted at /content/drive\n"
          ]
        }
      ]
    },
    {
      "cell_type": "code",
      "metadata": {
        "colab": {
          "base_uri": "https://localhost:8080/"
        },
        "id": "P23SSiMYrXcP",
        "outputId": "69888794-3bc4-40d9-f45c-0b63373ba83c"
      },
      "source": [
        "%cd /content/drive/My Drive/Colab Notebooks/"
      ],
      "execution_count": 5,
      "outputs": [
        {
          "output_type": "stream",
          "name": "stdout",
          "text": [
            "/content/drive/My Drive/Colab Notebooks\n"
          ]
        }
      ]
    },
    {
      "cell_type": "markdown",
      "metadata": {
        "id": "kkNNsouxvzBP"
      },
      "source": [
        "#Load Images"
      ]
    },
    {
      "cell_type": "code",
      "metadata": {
        "id": "BpqL6VPsvuuv"
      },
      "source": [
        "images = np.load('pathmnist.npz')"
      ],
      "execution_count": 6,
      "outputs": []
    },
    {
      "cell_type": "code",
      "metadata": {
        "id": "vIErw_fWv-XC"
      },
      "source": [
        "x_train = images['train_images']\n",
        "x_test = images['test_images']\n",
        "y_train = images['train_labels']\n",
        "y_test = images['test_labels']"
      ],
      "execution_count": 7,
      "outputs": []
    },
    {
      "cell_type": "code",
      "metadata": {
        "colab": {
          "base_uri": "https://localhost:8080/"
        },
        "id": "E-RpuuRWwLJf",
        "outputId": "e86fd779-f988-4185-c657-fd912c4b0695"
      },
      "source": [
        "x_train.shape"
      ],
      "execution_count": 8,
      "outputs": [
        {
          "output_type": "execute_result",
          "data": {
            "text/plain": [
              "(89996, 28, 28, 3)"
            ]
          },
          "metadata": {},
          "execution_count": 8
        }
      ]
    },
    {
      "cell_type": "code",
      "metadata": {
        "colab": {
          "base_uri": "https://localhost:8080/"
        },
        "id": "8PIBfNDKwZq6",
        "outputId": "6d3586bf-9a6f-4418-b1fc-e971d43b7edf"
      },
      "source": [
        "y_train.shape"
      ],
      "execution_count": 9,
      "outputs": [
        {
          "output_type": "execute_result",
          "data": {
            "text/plain": [
              "(89996, 1)"
            ]
          },
          "metadata": {},
          "execution_count": 9
        }
      ]
    },
    {
      "cell_type": "code",
      "metadata": {
        "colab": {
          "base_uri": "https://localhost:8080/"
        },
        "id": "UB9Ln4_MxEkB",
        "outputId": "77d6738f-fcd8-4c56-e9a6-20e82bba12ba"
      },
      "source": [
        "x_train.max()"
      ],
      "execution_count": 10,
      "outputs": [
        {
          "output_type": "execute_result",
          "data": {
            "text/plain": [
              "255"
            ]
          },
          "metadata": {},
          "execution_count": 10
        }
      ]
    },
    {
      "cell_type": "code",
      "metadata": {
        "colab": {
          "base_uri": "https://localhost:8080/"
        },
        "id": "sQbWDYzWxM8w",
        "outputId": "f1bfbd35-b7a1-4751-b673-4ed046309cc2"
      },
      "source": [
        "y_train.max()"
      ],
      "execution_count": 11,
      "outputs": [
        {
          "output_type": "execute_result",
          "data": {
            "text/plain": [
              "8"
            ]
          },
          "metadata": {},
          "execution_count": 11
        }
      ]
    },
    {
      "cell_type": "markdown",
      "metadata": {
        "id": "6pmkvzO3xUbO"
      },
      "source": [
        "#Preprocess Data"
      ]
    },
    {
      "cell_type": "code",
      "metadata": {
        "id": "y6Ccz9oqxOmu"
      },
      "source": [
        "x_train = x_train/255\n",
        "x_test = x_test/255"
      ],
      "execution_count": 12,
      "outputs": []
    },
    {
      "cell_type": "code",
      "metadata": {
        "id": "HKZzfaeRxf3e"
      },
      "source": [
        "from tensorflow.keras.utils import to_categorical"
      ],
      "execution_count": 13,
      "outputs": []
    },
    {
      "cell_type": "code",
      "metadata": {
        "id": "L5blVrTLxjkI"
      },
      "source": [
        "#one hot encoding\n",
        "y_cat_train = to_categorical(y_train)"
      ],
      "execution_count": 14,
      "outputs": []
    },
    {
      "cell_type": "code",
      "metadata": {
        "id": "94ahkk0SxrIq"
      },
      "source": [
        "y_cat_test = to_categorical(y_test)"
      ],
      "execution_count": 15,
      "outputs": []
    },
    {
      "cell_type": "code",
      "metadata": {
        "colab": {
          "base_uri": "https://localhost:8080/"
        },
        "id": "IpLdgJWHxuCc",
        "outputId": "8206ac75-61af-4d88-86fb-508b9886a85f"
      },
      "source": [
        "y_cat_train.shape"
      ],
      "execution_count": 16,
      "outputs": [
        {
          "output_type": "execute_result",
          "data": {
            "text/plain": [
              "(89996, 9)"
            ]
          },
          "metadata": {},
          "execution_count": 16
        }
      ]
    },
    {
      "cell_type": "code",
      "metadata": {
        "colab": {
          "base_uri": "https://localhost:8080/"
        },
        "id": "39dHt3E1xu8P",
        "outputId": "59135476-9b0f-4fbb-9758-58922ffb3e1a"
      },
      "source": [
        "y_cat_test.shape"
      ],
      "execution_count": 17,
      "outputs": [
        {
          "output_type": "execute_result",
          "data": {
            "text/plain": [
              "(7180, 9)"
            ]
          },
          "metadata": {},
          "execution_count": 17
        }
      ]
    },
    {
      "cell_type": "markdown",
      "metadata": {
        "id": "ci8ev2w11IlZ"
      },
      "source": [
        "#Build Model"
      ]
    },
    {
      "cell_type": "code",
      "metadata": {
        "id": "x9G0MpXj1K9a"
      },
      "source": [
        "from tensorflow.keras.layers import Input, Conv2D, BatchNormalization, Dense\n",
        "from tensorflow.keras.layers import AvgPool2D, GlobalAveragePooling2D, MaxPool2D\n",
        "from tensorflow.keras.models import Model\n",
        "from tensorflow.keras.layers import ReLU, concatenate\n",
        "import tensorflow.keras.backend as K"
      ],
      "execution_count": 18,
      "outputs": []
    },
    {
      "cell_type": "code",
      "metadata": {
        "colab": {
          "base_uri": "https://localhost:8080/"
        },
        "id": "4pLC8aQO1ZK_",
        "outputId": "d5e6415d-d258-4a1f-c8c2-7011bf6239c7"
      },
      "source": [
        "shape = 28, 28, 3\n",
        "num_classes = 9\n",
        "filters = 32\n",
        "\n",
        "# Batch normalization, ReLU, and 2D conversion function\n",
        "def ConvolutionalBlock(x, filters, kernel=1, strides=1):\n",
        "  x = BatchNormalization()(x)\n",
        "  x = ReLU()(x)\n",
        "  x = Conv2D(filters, kernel, strides=strides, padding = 'same')(x)\n",
        "\n",
        "  return x\n",
        "\n",
        "def DenseBlock(x, num_repeats):\n",
        "  for _ in range(num_repeats):\n",
        "    y = ConvolutionalBlock(x, 4*filters)\n",
        "    y = ConvolutionalBlock(y, filters, 3)\n",
        "    x = concatenate([y, x])\n",
        "  return x\n",
        "\n",
        "def TransitionLayer(x):\n",
        "  x = ConvolutionalBlock(x, K.int_shape(x)[-1] //2)\n",
        "  x = AvgPool2D(2, strides=2, padding='same')(x)\n",
        "  return x\n",
        "\n",
        "input = Input(shape)\n",
        "x = Conv2D(64, 7, strides=2, padding='same')(input)\n",
        "x = MaxPool2D(3, strides=2, padding='same')(x)\n",
        "\n",
        "for num_repeats in [6, 12, 24, 16]:\n",
        "  d = DenseBlock(x, num_repeats)\n",
        "  x = TransitionLayer(d)\n",
        "\n",
        "x = GlobalAveragePooling2D()(d)\n",
        "out = Dense(num_classes, activation='softmax')(x)\n",
        "model = Model(input, out)\n",
        "\n",
        "model.summary()"
      ],
      "execution_count": 19,
      "outputs": [
        {
          "output_type": "stream",
          "name": "stdout",
          "text": [
            "Model: \"model\"\n",
            "__________________________________________________________________________________________________\n",
            " Layer (type)                   Output Shape         Param #     Connected to                     \n",
            "==================================================================================================\n",
            " input_1 (InputLayer)           [(None, 28, 28, 3)]  0           []                               \n",
            "                                                                                                  \n",
            " conv2d (Conv2D)                (None, 14, 14, 64)   9472        ['input_1[0][0]']                \n",
            "                                                                                                  \n",
            " max_pooling2d (MaxPooling2D)   (None, 7, 7, 64)     0           ['conv2d[0][0]']                 \n",
            "                                                                                                  \n",
            " batch_normalization (BatchNorm  (None, 7, 7, 64)    256         ['max_pooling2d[0][0]']          \n",
            " alization)                                                                                       \n",
            "                                                                                                  \n",
            " re_lu (ReLU)                   (None, 7, 7, 64)     0           ['batch_normalization[0][0]']    \n",
            "                                                                                                  \n",
            " conv2d_1 (Conv2D)              (None, 7, 7, 128)    8320        ['re_lu[0][0]']                  \n",
            "                                                                                                  \n",
            " batch_normalization_1 (BatchNo  (None, 7, 7, 128)   512         ['conv2d_1[0][0]']               \n",
            " rmalization)                                                                                     \n",
            "                                                                                                  \n",
            " re_lu_1 (ReLU)                 (None, 7, 7, 128)    0           ['batch_normalization_1[0][0]']  \n",
            "                                                                                                  \n",
            " conv2d_2 (Conv2D)              (None, 7, 7, 32)     36896       ['re_lu_1[0][0]']                \n",
            "                                                                                                  \n",
            " concatenate (Concatenate)      (None, 7, 7, 96)     0           ['conv2d_2[0][0]',               \n",
            "                                                                  'max_pooling2d[0][0]']          \n",
            "                                                                                                  \n",
            " batch_normalization_2 (BatchNo  (None, 7, 7, 96)    384         ['concatenate[0][0]']            \n",
            " rmalization)                                                                                     \n",
            "                                                                                                  \n",
            " re_lu_2 (ReLU)                 (None, 7, 7, 96)     0           ['batch_normalization_2[0][0]']  \n",
            "                                                                                                  \n",
            " conv2d_3 (Conv2D)              (None, 7, 7, 128)    12416       ['re_lu_2[0][0]']                \n",
            "                                                                                                  \n",
            " batch_normalization_3 (BatchNo  (None, 7, 7, 128)   512         ['conv2d_3[0][0]']               \n",
            " rmalization)                                                                                     \n",
            "                                                                                                  \n",
            " re_lu_3 (ReLU)                 (None, 7, 7, 128)    0           ['batch_normalization_3[0][0]']  \n",
            "                                                                                                  \n",
            " conv2d_4 (Conv2D)              (None, 7, 7, 32)     36896       ['re_lu_3[0][0]']                \n",
            "                                                                                                  \n",
            " concatenate_1 (Concatenate)    (None, 7, 7, 128)    0           ['conv2d_4[0][0]',               \n",
            "                                                                  'concatenate[0][0]']            \n",
            "                                                                                                  \n",
            " batch_normalization_4 (BatchNo  (None, 7, 7, 128)   512         ['concatenate_1[0][0]']          \n",
            " rmalization)                                                                                     \n",
            "                                                                                                  \n",
            " re_lu_4 (ReLU)                 (None, 7, 7, 128)    0           ['batch_normalization_4[0][0]']  \n",
            "                                                                                                  \n",
            " conv2d_5 (Conv2D)              (None, 7, 7, 128)    16512       ['re_lu_4[0][0]']                \n",
            "                                                                                                  \n",
            " batch_normalization_5 (BatchNo  (None, 7, 7, 128)   512         ['conv2d_5[0][0]']               \n",
            " rmalization)                                                                                     \n",
            "                                                                                                  \n",
            " re_lu_5 (ReLU)                 (None, 7, 7, 128)    0           ['batch_normalization_5[0][0]']  \n",
            "                                                                                                  \n",
            " conv2d_6 (Conv2D)              (None, 7, 7, 32)     36896       ['re_lu_5[0][0]']                \n",
            "                                                                                                  \n",
            " concatenate_2 (Concatenate)    (None, 7, 7, 160)    0           ['conv2d_6[0][0]',               \n",
            "                                                                  'concatenate_1[0][0]']          \n",
            "                                                                                                  \n",
            " batch_normalization_6 (BatchNo  (None, 7, 7, 160)   640         ['concatenate_2[0][0]']          \n",
            " rmalization)                                                                                     \n",
            "                                                                                                  \n",
            " re_lu_6 (ReLU)                 (None, 7, 7, 160)    0           ['batch_normalization_6[0][0]']  \n",
            "                                                                                                  \n",
            " conv2d_7 (Conv2D)              (None, 7, 7, 128)    20608       ['re_lu_6[0][0]']                \n",
            "                                                                                                  \n",
            " batch_normalization_7 (BatchNo  (None, 7, 7, 128)   512         ['conv2d_7[0][0]']               \n",
            " rmalization)                                                                                     \n",
            "                                                                                                  \n",
            " re_lu_7 (ReLU)                 (None, 7, 7, 128)    0           ['batch_normalization_7[0][0]']  \n",
            "                                                                                                  \n",
            " conv2d_8 (Conv2D)              (None, 7, 7, 32)     36896       ['re_lu_7[0][0]']                \n",
            "                                                                                                  \n",
            " concatenate_3 (Concatenate)    (None, 7, 7, 192)    0           ['conv2d_8[0][0]',               \n",
            "                                                                  'concatenate_2[0][0]']          \n",
            "                                                                                                  \n",
            " batch_normalization_8 (BatchNo  (None, 7, 7, 192)   768         ['concatenate_3[0][0]']          \n",
            " rmalization)                                                                                     \n",
            "                                                                                                  \n",
            " re_lu_8 (ReLU)                 (None, 7, 7, 192)    0           ['batch_normalization_8[0][0]']  \n",
            "                                                                                                  \n",
            " conv2d_9 (Conv2D)              (None, 7, 7, 128)    24704       ['re_lu_8[0][0]']                \n",
            "                                                                                                  \n",
            " batch_normalization_9 (BatchNo  (None, 7, 7, 128)   512         ['conv2d_9[0][0]']               \n",
            " rmalization)                                                                                     \n",
            "                                                                                                  \n",
            " re_lu_9 (ReLU)                 (None, 7, 7, 128)    0           ['batch_normalization_9[0][0]']  \n",
            "                                                                                                  \n",
            " conv2d_10 (Conv2D)             (None, 7, 7, 32)     36896       ['re_lu_9[0][0]']                \n",
            "                                                                                                  \n",
            " concatenate_4 (Concatenate)    (None, 7, 7, 224)    0           ['conv2d_10[0][0]',              \n",
            "                                                                  'concatenate_3[0][0]']          \n",
            "                                                                                                  \n",
            " batch_normalization_10 (BatchN  (None, 7, 7, 224)   896         ['concatenate_4[0][0]']          \n",
            " ormalization)                                                                                    \n",
            "                                                                                                  \n",
            " re_lu_10 (ReLU)                (None, 7, 7, 224)    0           ['batch_normalization_10[0][0]'] \n",
            "                                                                                                  \n",
            " conv2d_11 (Conv2D)             (None, 7, 7, 128)    28800       ['re_lu_10[0][0]']               \n",
            "                                                                                                  \n",
            " batch_normalization_11 (BatchN  (None, 7, 7, 128)   512         ['conv2d_11[0][0]']              \n",
            " ormalization)                                                                                    \n",
            "                                                                                                  \n",
            " re_lu_11 (ReLU)                (None, 7, 7, 128)    0           ['batch_normalization_11[0][0]'] \n",
            "                                                                                                  \n",
            " conv2d_12 (Conv2D)             (None, 7, 7, 32)     36896       ['re_lu_11[0][0]']               \n",
            "                                                                                                  \n",
            " concatenate_5 (Concatenate)    (None, 7, 7, 256)    0           ['conv2d_12[0][0]',              \n",
            "                                                                  'concatenate_4[0][0]']          \n",
            "                                                                                                  \n",
            " batch_normalization_12 (BatchN  (None, 7, 7, 256)   1024        ['concatenate_5[0][0]']          \n",
            " ormalization)                                                                                    \n",
            "                                                                                                  \n",
            " re_lu_12 (ReLU)                (None, 7, 7, 256)    0           ['batch_normalization_12[0][0]'] \n",
            "                                                                                                  \n",
            " conv2d_13 (Conv2D)             (None, 7, 7, 128)    32896       ['re_lu_12[0][0]']               \n",
            "                                                                                                  \n",
            " average_pooling2d (AveragePool  (None, 4, 4, 128)   0           ['conv2d_13[0][0]']              \n",
            " ing2D)                                                                                           \n",
            "                                                                                                  \n",
            " batch_normalization_13 (BatchN  (None, 4, 4, 128)   512         ['average_pooling2d[0][0]']      \n",
            " ormalization)                                                                                    \n",
            "                                                                                                  \n",
            " re_lu_13 (ReLU)                (None, 4, 4, 128)    0           ['batch_normalization_13[0][0]'] \n",
            "                                                                                                  \n",
            " conv2d_14 (Conv2D)             (None, 4, 4, 128)    16512       ['re_lu_13[0][0]']               \n",
            "                                                                                                  \n",
            " batch_normalization_14 (BatchN  (None, 4, 4, 128)   512         ['conv2d_14[0][0]']              \n",
            " ormalization)                                                                                    \n",
            "                                                                                                  \n",
            " re_lu_14 (ReLU)                (None, 4, 4, 128)    0           ['batch_normalization_14[0][0]'] \n",
            "                                                                                                  \n",
            " conv2d_15 (Conv2D)             (None, 4, 4, 32)     36896       ['re_lu_14[0][0]']               \n",
            "                                                                                                  \n",
            " concatenate_6 (Concatenate)    (None, 4, 4, 160)    0           ['conv2d_15[0][0]',              \n",
            "                                                                  'average_pooling2d[0][0]']      \n",
            "                                                                                                  \n",
            " batch_normalization_15 (BatchN  (None, 4, 4, 160)   640         ['concatenate_6[0][0]']          \n",
            " ormalization)                                                                                    \n",
            "                                                                                                  \n",
            " re_lu_15 (ReLU)                (None, 4, 4, 160)    0           ['batch_normalization_15[0][0]'] \n",
            "                                                                                                  \n",
            " conv2d_16 (Conv2D)             (None, 4, 4, 128)    20608       ['re_lu_15[0][0]']               \n",
            "                                                                                                  \n",
            " batch_normalization_16 (BatchN  (None, 4, 4, 128)   512         ['conv2d_16[0][0]']              \n",
            " ormalization)                                                                                    \n",
            "                                                                                                  \n",
            " re_lu_16 (ReLU)                (None, 4, 4, 128)    0           ['batch_normalization_16[0][0]'] \n",
            "                                                                                                  \n",
            " conv2d_17 (Conv2D)             (None, 4, 4, 32)     36896       ['re_lu_16[0][0]']               \n",
            "                                                                                                  \n",
            " concatenate_7 (Concatenate)    (None, 4, 4, 192)    0           ['conv2d_17[0][0]',              \n",
            "                                                                  'concatenate_6[0][0]']          \n",
            "                                                                                                  \n",
            " batch_normalization_17 (BatchN  (None, 4, 4, 192)   768         ['concatenate_7[0][0]']          \n",
            " ormalization)                                                                                    \n",
            "                                                                                                  \n",
            " re_lu_17 (ReLU)                (None, 4, 4, 192)    0           ['batch_normalization_17[0][0]'] \n",
            "                                                                                                  \n",
            " conv2d_18 (Conv2D)             (None, 4, 4, 128)    24704       ['re_lu_17[0][0]']               \n",
            "                                                                                                  \n",
            " batch_normalization_18 (BatchN  (None, 4, 4, 128)   512         ['conv2d_18[0][0]']              \n",
            " ormalization)                                                                                    \n",
            "                                                                                                  \n",
            " re_lu_18 (ReLU)                (None, 4, 4, 128)    0           ['batch_normalization_18[0][0]'] \n",
            "                                                                                                  \n",
            " conv2d_19 (Conv2D)             (None, 4, 4, 32)     36896       ['re_lu_18[0][0]']               \n",
            "                                                                                                  \n",
            " concatenate_8 (Concatenate)    (None, 4, 4, 224)    0           ['conv2d_19[0][0]',              \n",
            "                                                                  'concatenate_7[0][0]']          \n",
            "                                                                                                  \n",
            " batch_normalization_19 (BatchN  (None, 4, 4, 224)   896         ['concatenate_8[0][0]']          \n",
            " ormalization)                                                                                    \n",
            "                                                                                                  \n",
            " re_lu_19 (ReLU)                (None, 4, 4, 224)    0           ['batch_normalization_19[0][0]'] \n",
            "                                                                                                  \n",
            " conv2d_20 (Conv2D)             (None, 4, 4, 128)    28800       ['re_lu_19[0][0]']               \n",
            "                                                                                                  \n",
            " batch_normalization_20 (BatchN  (None, 4, 4, 128)   512         ['conv2d_20[0][0]']              \n",
            " ormalization)                                                                                    \n",
            "                                                                                                  \n",
            " re_lu_20 (ReLU)                (None, 4, 4, 128)    0           ['batch_normalization_20[0][0]'] \n",
            "                                                                                                  \n",
            " conv2d_21 (Conv2D)             (None, 4, 4, 32)     36896       ['re_lu_20[0][0]']               \n",
            "                                                                                                  \n",
            " concatenate_9 (Concatenate)    (None, 4, 4, 256)    0           ['conv2d_21[0][0]',              \n",
            "                                                                  'concatenate_8[0][0]']          \n",
            "                                                                                                  \n",
            " batch_normalization_21 (BatchN  (None, 4, 4, 256)   1024        ['concatenate_9[0][0]']          \n",
            " ormalization)                                                                                    \n",
            "                                                                                                  \n",
            " re_lu_21 (ReLU)                (None, 4, 4, 256)    0           ['batch_normalization_21[0][0]'] \n",
            "                                                                                                  \n",
            " conv2d_22 (Conv2D)             (None, 4, 4, 128)    32896       ['re_lu_21[0][0]']               \n",
            "                                                                                                  \n",
            " batch_normalization_22 (BatchN  (None, 4, 4, 128)   512         ['conv2d_22[0][0]']              \n",
            " ormalization)                                                                                    \n",
            "                                                                                                  \n",
            " re_lu_22 (ReLU)                (None, 4, 4, 128)    0           ['batch_normalization_22[0][0]'] \n",
            "                                                                                                  \n",
            " conv2d_23 (Conv2D)             (None, 4, 4, 32)     36896       ['re_lu_22[0][0]']               \n",
            "                                                                                                  \n",
            " concatenate_10 (Concatenate)   (None, 4, 4, 288)    0           ['conv2d_23[0][0]',              \n",
            "                                                                  'concatenate_9[0][0]']          \n",
            "                                                                                                  \n",
            " batch_normalization_23 (BatchN  (None, 4, 4, 288)   1152        ['concatenate_10[0][0]']         \n",
            " ormalization)                                                                                    \n",
            "                                                                                                  \n",
            " re_lu_23 (ReLU)                (None, 4, 4, 288)    0           ['batch_normalization_23[0][0]'] \n",
            "                                                                                                  \n",
            " conv2d_24 (Conv2D)             (None, 4, 4, 128)    36992       ['re_lu_23[0][0]']               \n",
            "                                                                                                  \n",
            " batch_normalization_24 (BatchN  (None, 4, 4, 128)   512         ['conv2d_24[0][0]']              \n",
            " ormalization)                                                                                    \n",
            "                                                                                                  \n",
            " re_lu_24 (ReLU)                (None, 4, 4, 128)    0           ['batch_normalization_24[0][0]'] \n",
            "                                                                                                  \n",
            " conv2d_25 (Conv2D)             (None, 4, 4, 32)     36896       ['re_lu_24[0][0]']               \n",
            "                                                                                                  \n",
            " concatenate_11 (Concatenate)   (None, 4, 4, 320)    0           ['conv2d_25[0][0]',              \n",
            "                                                                  'concatenate_10[0][0]']         \n",
            "                                                                                                  \n",
            " batch_normalization_25 (BatchN  (None, 4, 4, 320)   1280        ['concatenate_11[0][0]']         \n",
            " ormalization)                                                                                    \n",
            "                                                                                                  \n",
            " re_lu_25 (ReLU)                (None, 4, 4, 320)    0           ['batch_normalization_25[0][0]'] \n",
            "                                                                                                  \n",
            " conv2d_26 (Conv2D)             (None, 4, 4, 128)    41088       ['re_lu_25[0][0]']               \n",
            "                                                                                                  \n",
            " batch_normalization_26 (BatchN  (None, 4, 4, 128)   512         ['conv2d_26[0][0]']              \n",
            " ormalization)                                                                                    \n",
            "                                                                                                  \n",
            " re_lu_26 (ReLU)                (None, 4, 4, 128)    0           ['batch_normalization_26[0][0]'] \n",
            "                                                                                                  \n",
            " conv2d_27 (Conv2D)             (None, 4, 4, 32)     36896       ['re_lu_26[0][0]']               \n",
            "                                                                                                  \n",
            " concatenate_12 (Concatenate)   (None, 4, 4, 352)    0           ['conv2d_27[0][0]',              \n",
            "                                                                  'concatenate_11[0][0]']         \n",
            "                                                                                                  \n",
            " batch_normalization_27 (BatchN  (None, 4, 4, 352)   1408        ['concatenate_12[0][0]']         \n",
            " ormalization)                                                                                    \n",
            "                                                                                                  \n",
            " re_lu_27 (ReLU)                (None, 4, 4, 352)    0           ['batch_normalization_27[0][0]'] \n",
            "                                                                                                  \n",
            " conv2d_28 (Conv2D)             (None, 4, 4, 128)    45184       ['re_lu_27[0][0]']               \n",
            "                                                                                                  \n",
            " batch_normalization_28 (BatchN  (None, 4, 4, 128)   512         ['conv2d_28[0][0]']              \n",
            " ormalization)                                                                                    \n",
            "                                                                                                  \n",
            " re_lu_28 (ReLU)                (None, 4, 4, 128)    0           ['batch_normalization_28[0][0]'] \n",
            "                                                                                                  \n",
            " conv2d_29 (Conv2D)             (None, 4, 4, 32)     36896       ['re_lu_28[0][0]']               \n",
            "                                                                                                  \n",
            " concatenate_13 (Concatenate)   (None, 4, 4, 384)    0           ['conv2d_29[0][0]',              \n",
            "                                                                  'concatenate_12[0][0]']         \n",
            "                                                                                                  \n",
            " batch_normalization_29 (BatchN  (None, 4, 4, 384)   1536        ['concatenate_13[0][0]']         \n",
            " ormalization)                                                                                    \n",
            "                                                                                                  \n",
            " re_lu_29 (ReLU)                (None, 4, 4, 384)    0           ['batch_normalization_29[0][0]'] \n",
            "                                                                                                  \n",
            " conv2d_30 (Conv2D)             (None, 4, 4, 128)    49280       ['re_lu_29[0][0]']               \n",
            "                                                                                                  \n",
            " batch_normalization_30 (BatchN  (None, 4, 4, 128)   512         ['conv2d_30[0][0]']              \n",
            " ormalization)                                                                                    \n",
            "                                                                                                  \n",
            " re_lu_30 (ReLU)                (None, 4, 4, 128)    0           ['batch_normalization_30[0][0]'] \n",
            "                                                                                                  \n",
            " conv2d_31 (Conv2D)             (None, 4, 4, 32)     36896       ['re_lu_30[0][0]']               \n",
            "                                                                                                  \n",
            " concatenate_14 (Concatenate)   (None, 4, 4, 416)    0           ['conv2d_31[0][0]',              \n",
            "                                                                  'concatenate_13[0][0]']         \n",
            "                                                                                                  \n",
            " batch_normalization_31 (BatchN  (None, 4, 4, 416)   1664        ['concatenate_14[0][0]']         \n",
            " ormalization)                                                                                    \n",
            "                                                                                                  \n",
            " re_lu_31 (ReLU)                (None, 4, 4, 416)    0           ['batch_normalization_31[0][0]'] \n",
            "                                                                                                  \n",
            " conv2d_32 (Conv2D)             (None, 4, 4, 128)    53376       ['re_lu_31[0][0]']               \n",
            "                                                                                                  \n",
            " batch_normalization_32 (BatchN  (None, 4, 4, 128)   512         ['conv2d_32[0][0]']              \n",
            " ormalization)                                                                                    \n",
            "                                                                                                  \n",
            " re_lu_32 (ReLU)                (None, 4, 4, 128)    0           ['batch_normalization_32[0][0]'] \n",
            "                                                                                                  \n",
            " conv2d_33 (Conv2D)             (None, 4, 4, 32)     36896       ['re_lu_32[0][0]']               \n",
            "                                                                                                  \n",
            " concatenate_15 (Concatenate)   (None, 4, 4, 448)    0           ['conv2d_33[0][0]',              \n",
            "                                                                  'concatenate_14[0][0]']         \n",
            "                                                                                                  \n",
            " batch_normalization_33 (BatchN  (None, 4, 4, 448)   1792        ['concatenate_15[0][0]']         \n",
            " ormalization)                                                                                    \n",
            "                                                                                                  \n",
            " re_lu_33 (ReLU)                (None, 4, 4, 448)    0           ['batch_normalization_33[0][0]'] \n",
            "                                                                                                  \n",
            " conv2d_34 (Conv2D)             (None, 4, 4, 128)    57472       ['re_lu_33[0][0]']               \n",
            "                                                                                                  \n",
            " batch_normalization_34 (BatchN  (None, 4, 4, 128)   512         ['conv2d_34[0][0]']              \n",
            " ormalization)                                                                                    \n",
            "                                                                                                  \n",
            " re_lu_34 (ReLU)                (None, 4, 4, 128)    0           ['batch_normalization_34[0][0]'] \n",
            "                                                                                                  \n",
            " conv2d_35 (Conv2D)             (None, 4, 4, 32)     36896       ['re_lu_34[0][0]']               \n",
            "                                                                                                  \n",
            " concatenate_16 (Concatenate)   (None, 4, 4, 480)    0           ['conv2d_35[0][0]',              \n",
            "                                                                  'concatenate_15[0][0]']         \n",
            "                                                                                                  \n",
            " batch_normalization_35 (BatchN  (None, 4, 4, 480)   1920        ['concatenate_16[0][0]']         \n",
            " ormalization)                                                                                    \n",
            "                                                                                                  \n",
            " re_lu_35 (ReLU)                (None, 4, 4, 480)    0           ['batch_normalization_35[0][0]'] \n",
            "                                                                                                  \n",
            " conv2d_36 (Conv2D)             (None, 4, 4, 128)    61568       ['re_lu_35[0][0]']               \n",
            "                                                                                                  \n",
            " batch_normalization_36 (BatchN  (None, 4, 4, 128)   512         ['conv2d_36[0][0]']              \n",
            " ormalization)                                                                                    \n",
            "                                                                                                  \n",
            " re_lu_36 (ReLU)                (None, 4, 4, 128)    0           ['batch_normalization_36[0][0]'] \n",
            "                                                                                                  \n",
            " conv2d_37 (Conv2D)             (None, 4, 4, 32)     36896       ['re_lu_36[0][0]']               \n",
            "                                                                                                  \n",
            " concatenate_17 (Concatenate)   (None, 4, 4, 512)    0           ['conv2d_37[0][0]',              \n",
            "                                                                  'concatenate_16[0][0]']         \n",
            "                                                                                                  \n",
            " batch_normalization_37 (BatchN  (None, 4, 4, 512)   2048        ['concatenate_17[0][0]']         \n",
            " ormalization)                                                                                    \n",
            "                                                                                                  \n",
            " re_lu_37 (ReLU)                (None, 4, 4, 512)    0           ['batch_normalization_37[0][0]'] \n",
            "                                                                                                  \n",
            " conv2d_38 (Conv2D)             (None, 4, 4, 256)    131328      ['re_lu_37[0][0]']               \n",
            "                                                                                                  \n",
            " average_pooling2d_1 (AveragePo  (None, 2, 2, 256)   0           ['conv2d_38[0][0]']              \n",
            " oling2D)                                                                                         \n",
            "                                                                                                  \n",
            " batch_normalization_38 (BatchN  (None, 2, 2, 256)   1024        ['average_pooling2d_1[0][0]']    \n",
            " ormalization)                                                                                    \n",
            "                                                                                                  \n",
            " re_lu_38 (ReLU)                (None, 2, 2, 256)    0           ['batch_normalization_38[0][0]'] \n",
            "                                                                                                  \n",
            " conv2d_39 (Conv2D)             (None, 2, 2, 128)    32896       ['re_lu_38[0][0]']               \n",
            "                                                                                                  \n",
            " batch_normalization_39 (BatchN  (None, 2, 2, 128)   512         ['conv2d_39[0][0]']              \n",
            " ormalization)                                                                                    \n",
            "                                                                                                  \n",
            " re_lu_39 (ReLU)                (None, 2, 2, 128)    0           ['batch_normalization_39[0][0]'] \n",
            "                                                                                                  \n",
            " conv2d_40 (Conv2D)             (None, 2, 2, 32)     36896       ['re_lu_39[0][0]']               \n",
            "                                                                                                  \n",
            " concatenate_18 (Concatenate)   (None, 2, 2, 288)    0           ['conv2d_40[0][0]',              \n",
            "                                                                  'average_pooling2d_1[0][0]']    \n",
            "                                                                                                  \n",
            " batch_normalization_40 (BatchN  (None, 2, 2, 288)   1152        ['concatenate_18[0][0]']         \n",
            " ormalization)                                                                                    \n",
            "                                                                                                  \n",
            " re_lu_40 (ReLU)                (None, 2, 2, 288)    0           ['batch_normalization_40[0][0]'] \n",
            "                                                                                                  \n",
            " conv2d_41 (Conv2D)             (None, 2, 2, 128)    36992       ['re_lu_40[0][0]']               \n",
            "                                                                                                  \n",
            " batch_normalization_41 (BatchN  (None, 2, 2, 128)   512         ['conv2d_41[0][0]']              \n",
            " ormalization)                                                                                    \n",
            "                                                                                                  \n",
            " re_lu_41 (ReLU)                (None, 2, 2, 128)    0           ['batch_normalization_41[0][0]'] \n",
            "                                                                                                  \n",
            " conv2d_42 (Conv2D)             (None, 2, 2, 32)     36896       ['re_lu_41[0][0]']               \n",
            "                                                                                                  \n",
            " concatenate_19 (Concatenate)   (None, 2, 2, 320)    0           ['conv2d_42[0][0]',              \n",
            "                                                                  'concatenate_18[0][0]']         \n",
            "                                                                                                  \n",
            " batch_normalization_42 (BatchN  (None, 2, 2, 320)   1280        ['concatenate_19[0][0]']         \n",
            " ormalization)                                                                                    \n",
            "                                                                                                  \n",
            " re_lu_42 (ReLU)                (None, 2, 2, 320)    0           ['batch_normalization_42[0][0]'] \n",
            "                                                                                                  \n",
            " conv2d_43 (Conv2D)             (None, 2, 2, 128)    41088       ['re_lu_42[0][0]']               \n",
            "                                                                                                  \n",
            " batch_normalization_43 (BatchN  (None, 2, 2, 128)   512         ['conv2d_43[0][0]']              \n",
            " ormalization)                                                                                    \n",
            "                                                                                                  \n",
            " re_lu_43 (ReLU)                (None, 2, 2, 128)    0           ['batch_normalization_43[0][0]'] \n",
            "                                                                                                  \n",
            " conv2d_44 (Conv2D)             (None, 2, 2, 32)     36896       ['re_lu_43[0][0]']               \n",
            "                                                                                                  \n",
            " concatenate_20 (Concatenate)   (None, 2, 2, 352)    0           ['conv2d_44[0][0]',              \n",
            "                                                                  'concatenate_19[0][0]']         \n",
            "                                                                                                  \n",
            " batch_normalization_44 (BatchN  (None, 2, 2, 352)   1408        ['concatenate_20[0][0]']         \n",
            " ormalization)                                                                                    \n",
            "                                                                                                  \n",
            " re_lu_44 (ReLU)                (None, 2, 2, 352)    0           ['batch_normalization_44[0][0]'] \n",
            "                                                                                                  \n",
            " conv2d_45 (Conv2D)             (None, 2, 2, 128)    45184       ['re_lu_44[0][0]']               \n",
            "                                                                                                  \n",
            " batch_normalization_45 (BatchN  (None, 2, 2, 128)   512         ['conv2d_45[0][0]']              \n",
            " ormalization)                                                                                    \n",
            "                                                                                                  \n",
            " re_lu_45 (ReLU)                (None, 2, 2, 128)    0           ['batch_normalization_45[0][0]'] \n",
            "                                                                                                  \n",
            " conv2d_46 (Conv2D)             (None, 2, 2, 32)     36896       ['re_lu_45[0][0]']               \n",
            "                                                                                                  \n",
            " concatenate_21 (Concatenate)   (None, 2, 2, 384)    0           ['conv2d_46[0][0]',              \n",
            "                                                                  'concatenate_20[0][0]']         \n",
            "                                                                                                  \n",
            " batch_normalization_46 (BatchN  (None, 2, 2, 384)   1536        ['concatenate_21[0][0]']         \n",
            " ormalization)                                                                                    \n",
            "                                                                                                  \n",
            " re_lu_46 (ReLU)                (None, 2, 2, 384)    0           ['batch_normalization_46[0][0]'] \n",
            "                                                                                                  \n",
            " conv2d_47 (Conv2D)             (None, 2, 2, 128)    49280       ['re_lu_46[0][0]']               \n",
            "                                                                                                  \n",
            " batch_normalization_47 (BatchN  (None, 2, 2, 128)   512         ['conv2d_47[0][0]']              \n",
            " ormalization)                                                                                    \n",
            "                                                                                                  \n",
            " re_lu_47 (ReLU)                (None, 2, 2, 128)    0           ['batch_normalization_47[0][0]'] \n",
            "                                                                                                  \n",
            " conv2d_48 (Conv2D)             (None, 2, 2, 32)     36896       ['re_lu_47[0][0]']               \n",
            "                                                                                                  \n",
            " concatenate_22 (Concatenate)   (None, 2, 2, 416)    0           ['conv2d_48[0][0]',              \n",
            "                                                                  'concatenate_21[0][0]']         \n",
            "                                                                                                  \n",
            " batch_normalization_48 (BatchN  (None, 2, 2, 416)   1664        ['concatenate_22[0][0]']         \n",
            " ormalization)                                                                                    \n",
            "                                                                                                  \n",
            " re_lu_48 (ReLU)                (None, 2, 2, 416)    0           ['batch_normalization_48[0][0]'] \n",
            "                                                                                                  \n",
            " conv2d_49 (Conv2D)             (None, 2, 2, 128)    53376       ['re_lu_48[0][0]']               \n",
            "                                                                                                  \n",
            " batch_normalization_49 (BatchN  (None, 2, 2, 128)   512         ['conv2d_49[0][0]']              \n",
            " ormalization)                                                                                    \n",
            "                                                                                                  \n",
            " re_lu_49 (ReLU)                (None, 2, 2, 128)    0           ['batch_normalization_49[0][0]'] \n",
            "                                                                                                  \n",
            " conv2d_50 (Conv2D)             (None, 2, 2, 32)     36896       ['re_lu_49[0][0]']               \n",
            "                                                                                                  \n",
            " concatenate_23 (Concatenate)   (None, 2, 2, 448)    0           ['conv2d_50[0][0]',              \n",
            "                                                                  'concatenate_22[0][0]']         \n",
            "                                                                                                  \n",
            " batch_normalization_50 (BatchN  (None, 2, 2, 448)   1792        ['concatenate_23[0][0]']         \n",
            " ormalization)                                                                                    \n",
            "                                                                                                  \n",
            " re_lu_50 (ReLU)                (None, 2, 2, 448)    0           ['batch_normalization_50[0][0]'] \n",
            "                                                                                                  \n",
            " conv2d_51 (Conv2D)             (None, 2, 2, 128)    57472       ['re_lu_50[0][0]']               \n",
            "                                                                                                  \n",
            " batch_normalization_51 (BatchN  (None, 2, 2, 128)   512         ['conv2d_51[0][0]']              \n",
            " ormalization)                                                                                    \n",
            "                                                                                                  \n",
            " re_lu_51 (ReLU)                (None, 2, 2, 128)    0           ['batch_normalization_51[0][0]'] \n",
            "                                                                                                  \n",
            " conv2d_52 (Conv2D)             (None, 2, 2, 32)     36896       ['re_lu_51[0][0]']               \n",
            "                                                                                                  \n",
            " concatenate_24 (Concatenate)   (None, 2, 2, 480)    0           ['conv2d_52[0][0]',              \n",
            "                                                                  'concatenate_23[0][0]']         \n",
            "                                                                                                  \n",
            " batch_normalization_52 (BatchN  (None, 2, 2, 480)   1920        ['concatenate_24[0][0]']         \n",
            " ormalization)                                                                                    \n",
            "                                                                                                  \n",
            " re_lu_52 (ReLU)                (None, 2, 2, 480)    0           ['batch_normalization_52[0][0]'] \n",
            "                                                                                                  \n",
            " conv2d_53 (Conv2D)             (None, 2, 2, 128)    61568       ['re_lu_52[0][0]']               \n",
            "                                                                                                  \n",
            " batch_normalization_53 (BatchN  (None, 2, 2, 128)   512         ['conv2d_53[0][0]']              \n",
            " ormalization)                                                                                    \n",
            "                                                                                                  \n",
            " re_lu_53 (ReLU)                (None, 2, 2, 128)    0           ['batch_normalization_53[0][0]'] \n",
            "                                                                                                  \n",
            " conv2d_54 (Conv2D)             (None, 2, 2, 32)     36896       ['re_lu_53[0][0]']               \n",
            "                                                                                                  \n",
            " concatenate_25 (Concatenate)   (None, 2, 2, 512)    0           ['conv2d_54[0][0]',              \n",
            "                                                                  'concatenate_24[0][0]']         \n",
            "                                                                                                  \n",
            " batch_normalization_54 (BatchN  (None, 2, 2, 512)   2048        ['concatenate_25[0][0]']         \n",
            " ormalization)                                                                                    \n",
            "                                                                                                  \n",
            " re_lu_54 (ReLU)                (None, 2, 2, 512)    0           ['batch_normalization_54[0][0]'] \n",
            "                                                                                                  \n",
            " conv2d_55 (Conv2D)             (None, 2, 2, 128)    65664       ['re_lu_54[0][0]']               \n",
            "                                                                                                  \n",
            " batch_normalization_55 (BatchN  (None, 2, 2, 128)   512         ['conv2d_55[0][0]']              \n",
            " ormalization)                                                                                    \n",
            "                                                                                                  \n",
            " re_lu_55 (ReLU)                (None, 2, 2, 128)    0           ['batch_normalization_55[0][0]'] \n",
            "                                                                                                  \n",
            " conv2d_56 (Conv2D)             (None, 2, 2, 32)     36896       ['re_lu_55[0][0]']               \n",
            "                                                                                                  \n",
            " concatenate_26 (Concatenate)   (None, 2, 2, 544)    0           ['conv2d_56[0][0]',              \n",
            "                                                                  'concatenate_25[0][0]']         \n",
            "                                                                                                  \n",
            " batch_normalization_56 (BatchN  (None, 2, 2, 544)   2176        ['concatenate_26[0][0]']         \n",
            " ormalization)                                                                                    \n",
            "                                                                                                  \n",
            " re_lu_56 (ReLU)                (None, 2, 2, 544)    0           ['batch_normalization_56[0][0]'] \n",
            "                                                                                                  \n",
            " conv2d_57 (Conv2D)             (None, 2, 2, 128)    69760       ['re_lu_56[0][0]']               \n",
            "                                                                                                  \n",
            " batch_normalization_57 (BatchN  (None, 2, 2, 128)   512         ['conv2d_57[0][0]']              \n",
            " ormalization)                                                                                    \n",
            "                                                                                                  \n",
            " re_lu_57 (ReLU)                (None, 2, 2, 128)    0           ['batch_normalization_57[0][0]'] \n",
            "                                                                                                  \n",
            " conv2d_58 (Conv2D)             (None, 2, 2, 32)     36896       ['re_lu_57[0][0]']               \n",
            "                                                                                                  \n",
            " concatenate_27 (Concatenate)   (None, 2, 2, 576)    0           ['conv2d_58[0][0]',              \n",
            "                                                                  'concatenate_26[0][0]']         \n",
            "                                                                                                  \n",
            " batch_normalization_58 (BatchN  (None, 2, 2, 576)   2304        ['concatenate_27[0][0]']         \n",
            " ormalization)                                                                                    \n",
            "                                                                                                  \n",
            " re_lu_58 (ReLU)                (None, 2, 2, 576)    0           ['batch_normalization_58[0][0]'] \n",
            "                                                                                                  \n",
            " conv2d_59 (Conv2D)             (None, 2, 2, 128)    73856       ['re_lu_58[0][0]']               \n",
            "                                                                                                  \n",
            " batch_normalization_59 (BatchN  (None, 2, 2, 128)   512         ['conv2d_59[0][0]']              \n",
            " ormalization)                                                                                    \n",
            "                                                                                                  \n",
            " re_lu_59 (ReLU)                (None, 2, 2, 128)    0           ['batch_normalization_59[0][0]'] \n",
            "                                                                                                  \n",
            " conv2d_60 (Conv2D)             (None, 2, 2, 32)     36896       ['re_lu_59[0][0]']               \n",
            "                                                                                                  \n",
            " concatenate_28 (Concatenate)   (None, 2, 2, 608)    0           ['conv2d_60[0][0]',              \n",
            "                                                                  'concatenate_27[0][0]']         \n",
            "                                                                                                  \n",
            " batch_normalization_60 (BatchN  (None, 2, 2, 608)   2432        ['concatenate_28[0][0]']         \n",
            " ormalization)                                                                                    \n",
            "                                                                                                  \n",
            " re_lu_60 (ReLU)                (None, 2, 2, 608)    0           ['batch_normalization_60[0][0]'] \n",
            "                                                                                                  \n",
            " conv2d_61 (Conv2D)             (None, 2, 2, 128)    77952       ['re_lu_60[0][0]']               \n",
            "                                                                                                  \n",
            " batch_normalization_61 (BatchN  (None, 2, 2, 128)   512         ['conv2d_61[0][0]']              \n",
            " ormalization)                                                                                    \n",
            "                                                                                                  \n",
            " re_lu_61 (ReLU)                (None, 2, 2, 128)    0           ['batch_normalization_61[0][0]'] \n",
            "                                                                                                  \n",
            " conv2d_62 (Conv2D)             (None, 2, 2, 32)     36896       ['re_lu_61[0][0]']               \n",
            "                                                                                                  \n",
            " concatenate_29 (Concatenate)   (None, 2, 2, 640)    0           ['conv2d_62[0][0]',              \n",
            "                                                                  'concatenate_28[0][0]']         \n",
            "                                                                                                  \n",
            " batch_normalization_62 (BatchN  (None, 2, 2, 640)   2560        ['concatenate_29[0][0]']         \n",
            " ormalization)                                                                                    \n",
            "                                                                                                  \n",
            " re_lu_62 (ReLU)                (None, 2, 2, 640)    0           ['batch_normalization_62[0][0]'] \n",
            "                                                                                                  \n",
            " conv2d_63 (Conv2D)             (None, 2, 2, 128)    82048       ['re_lu_62[0][0]']               \n",
            "                                                                                                  \n",
            " batch_normalization_63 (BatchN  (None, 2, 2, 128)   512         ['conv2d_63[0][0]']              \n",
            " ormalization)                                                                                    \n",
            "                                                                                                  \n",
            " re_lu_63 (ReLU)                (None, 2, 2, 128)    0           ['batch_normalization_63[0][0]'] \n",
            "                                                                                                  \n",
            " conv2d_64 (Conv2D)             (None, 2, 2, 32)     36896       ['re_lu_63[0][0]']               \n",
            "                                                                                                  \n",
            " concatenate_30 (Concatenate)   (None, 2, 2, 672)    0           ['conv2d_64[0][0]',              \n",
            "                                                                  'concatenate_29[0][0]']         \n",
            "                                                                                                  \n",
            " batch_normalization_64 (BatchN  (None, 2, 2, 672)   2688        ['concatenate_30[0][0]']         \n",
            " ormalization)                                                                                    \n",
            "                                                                                                  \n",
            " re_lu_64 (ReLU)                (None, 2, 2, 672)    0           ['batch_normalization_64[0][0]'] \n",
            "                                                                                                  \n",
            " conv2d_65 (Conv2D)             (None, 2, 2, 128)    86144       ['re_lu_64[0][0]']               \n",
            "                                                                                                  \n",
            " batch_normalization_65 (BatchN  (None, 2, 2, 128)   512         ['conv2d_65[0][0]']              \n",
            " ormalization)                                                                                    \n",
            "                                                                                                  \n",
            " re_lu_65 (ReLU)                (None, 2, 2, 128)    0           ['batch_normalization_65[0][0]'] \n",
            "                                                                                                  \n",
            " conv2d_66 (Conv2D)             (None, 2, 2, 32)     36896       ['re_lu_65[0][0]']               \n",
            "                                                                                                  \n",
            " concatenate_31 (Concatenate)   (None, 2, 2, 704)    0           ['conv2d_66[0][0]',              \n",
            "                                                                  'concatenate_30[0][0]']         \n",
            "                                                                                                  \n",
            " batch_normalization_66 (BatchN  (None, 2, 2, 704)   2816        ['concatenate_31[0][0]']         \n",
            " ormalization)                                                                                    \n",
            "                                                                                                  \n",
            " re_lu_66 (ReLU)                (None, 2, 2, 704)    0           ['batch_normalization_66[0][0]'] \n",
            "                                                                                                  \n",
            " conv2d_67 (Conv2D)             (None, 2, 2, 128)    90240       ['re_lu_66[0][0]']               \n",
            "                                                                                                  \n",
            " batch_normalization_67 (BatchN  (None, 2, 2, 128)   512         ['conv2d_67[0][0]']              \n",
            " ormalization)                                                                                    \n",
            "                                                                                                  \n",
            " re_lu_67 (ReLU)                (None, 2, 2, 128)    0           ['batch_normalization_67[0][0]'] \n",
            "                                                                                                  \n",
            " conv2d_68 (Conv2D)             (None, 2, 2, 32)     36896       ['re_lu_67[0][0]']               \n",
            "                                                                                                  \n",
            " concatenate_32 (Concatenate)   (None, 2, 2, 736)    0           ['conv2d_68[0][0]',              \n",
            "                                                                  'concatenate_31[0][0]']         \n",
            "                                                                                                  \n",
            " batch_normalization_68 (BatchN  (None, 2, 2, 736)   2944        ['concatenate_32[0][0]']         \n",
            " ormalization)                                                                                    \n",
            "                                                                                                  \n",
            " re_lu_68 (ReLU)                (None, 2, 2, 736)    0           ['batch_normalization_68[0][0]'] \n",
            "                                                                                                  \n",
            " conv2d_69 (Conv2D)             (None, 2, 2, 128)    94336       ['re_lu_68[0][0]']               \n",
            "                                                                                                  \n",
            " batch_normalization_69 (BatchN  (None, 2, 2, 128)   512         ['conv2d_69[0][0]']              \n",
            " ormalization)                                                                                    \n",
            "                                                                                                  \n",
            " re_lu_69 (ReLU)                (None, 2, 2, 128)    0           ['batch_normalization_69[0][0]'] \n",
            "                                                                                                  \n",
            " conv2d_70 (Conv2D)             (None, 2, 2, 32)     36896       ['re_lu_69[0][0]']               \n",
            "                                                                                                  \n",
            " concatenate_33 (Concatenate)   (None, 2, 2, 768)    0           ['conv2d_70[0][0]',              \n",
            "                                                                  'concatenate_32[0][0]']         \n",
            "                                                                                                  \n",
            " batch_normalization_70 (BatchN  (None, 2, 2, 768)   3072        ['concatenate_33[0][0]']         \n",
            " ormalization)                                                                                    \n",
            "                                                                                                  \n",
            " re_lu_70 (ReLU)                (None, 2, 2, 768)    0           ['batch_normalization_70[0][0]'] \n",
            "                                                                                                  \n",
            " conv2d_71 (Conv2D)             (None, 2, 2, 128)    98432       ['re_lu_70[0][0]']               \n",
            "                                                                                                  \n",
            " batch_normalization_71 (BatchN  (None, 2, 2, 128)   512         ['conv2d_71[0][0]']              \n",
            " ormalization)                                                                                    \n",
            "                                                                                                  \n",
            " re_lu_71 (ReLU)                (None, 2, 2, 128)    0           ['batch_normalization_71[0][0]'] \n",
            "                                                                                                  \n",
            " conv2d_72 (Conv2D)             (None, 2, 2, 32)     36896       ['re_lu_71[0][0]']               \n",
            "                                                                                                  \n",
            " concatenate_34 (Concatenate)   (None, 2, 2, 800)    0           ['conv2d_72[0][0]',              \n",
            "                                                                  'concatenate_33[0][0]']         \n",
            "                                                                                                  \n",
            " batch_normalization_72 (BatchN  (None, 2, 2, 800)   3200        ['concatenate_34[0][0]']         \n",
            " ormalization)                                                                                    \n",
            "                                                                                                  \n",
            " re_lu_72 (ReLU)                (None, 2, 2, 800)    0           ['batch_normalization_72[0][0]'] \n",
            "                                                                                                  \n",
            " conv2d_73 (Conv2D)             (None, 2, 2, 128)    102528      ['re_lu_72[0][0]']               \n",
            "                                                                                                  \n",
            " batch_normalization_73 (BatchN  (None, 2, 2, 128)   512         ['conv2d_73[0][0]']              \n",
            " ormalization)                                                                                    \n",
            "                                                                                                  \n",
            " re_lu_73 (ReLU)                (None, 2, 2, 128)    0           ['batch_normalization_73[0][0]'] \n",
            "                                                                                                  \n",
            " conv2d_74 (Conv2D)             (None, 2, 2, 32)     36896       ['re_lu_73[0][0]']               \n",
            "                                                                                                  \n",
            " concatenate_35 (Concatenate)   (None, 2, 2, 832)    0           ['conv2d_74[0][0]',              \n",
            "                                                                  'concatenate_34[0][0]']         \n",
            "                                                                                                  \n",
            " batch_normalization_74 (BatchN  (None, 2, 2, 832)   3328        ['concatenate_35[0][0]']         \n",
            " ormalization)                                                                                    \n",
            "                                                                                                  \n",
            " re_lu_74 (ReLU)                (None, 2, 2, 832)    0           ['batch_normalization_74[0][0]'] \n",
            "                                                                                                  \n",
            " conv2d_75 (Conv2D)             (None, 2, 2, 128)    106624      ['re_lu_74[0][0]']               \n",
            "                                                                                                  \n",
            " batch_normalization_75 (BatchN  (None, 2, 2, 128)   512         ['conv2d_75[0][0]']              \n",
            " ormalization)                                                                                    \n",
            "                                                                                                  \n",
            " re_lu_75 (ReLU)                (None, 2, 2, 128)    0           ['batch_normalization_75[0][0]'] \n",
            "                                                                                                  \n",
            " conv2d_76 (Conv2D)             (None, 2, 2, 32)     36896       ['re_lu_75[0][0]']               \n",
            "                                                                                                  \n",
            " concatenate_36 (Concatenate)   (None, 2, 2, 864)    0           ['conv2d_76[0][0]',              \n",
            "                                                                  'concatenate_35[0][0]']         \n",
            "                                                                                                  \n",
            " batch_normalization_76 (BatchN  (None, 2, 2, 864)   3456        ['concatenate_36[0][0]']         \n",
            " ormalization)                                                                                    \n",
            "                                                                                                  \n",
            " re_lu_76 (ReLU)                (None, 2, 2, 864)    0           ['batch_normalization_76[0][0]'] \n",
            "                                                                                                  \n",
            " conv2d_77 (Conv2D)             (None, 2, 2, 128)    110720      ['re_lu_76[0][0]']               \n",
            "                                                                                                  \n",
            " batch_normalization_77 (BatchN  (None, 2, 2, 128)   512         ['conv2d_77[0][0]']              \n",
            " ormalization)                                                                                    \n",
            "                                                                                                  \n",
            " re_lu_77 (ReLU)                (None, 2, 2, 128)    0           ['batch_normalization_77[0][0]'] \n",
            "                                                                                                  \n",
            " conv2d_78 (Conv2D)             (None, 2, 2, 32)     36896       ['re_lu_77[0][0]']               \n",
            "                                                                                                  \n",
            " concatenate_37 (Concatenate)   (None, 2, 2, 896)    0           ['conv2d_78[0][0]',              \n",
            "                                                                  'concatenate_36[0][0]']         \n",
            "                                                                                                  \n",
            " batch_normalization_78 (BatchN  (None, 2, 2, 896)   3584        ['concatenate_37[0][0]']         \n",
            " ormalization)                                                                                    \n",
            "                                                                                                  \n",
            " re_lu_78 (ReLU)                (None, 2, 2, 896)    0           ['batch_normalization_78[0][0]'] \n",
            "                                                                                                  \n",
            " conv2d_79 (Conv2D)             (None, 2, 2, 128)    114816      ['re_lu_78[0][0]']               \n",
            "                                                                                                  \n",
            " batch_normalization_79 (BatchN  (None, 2, 2, 128)   512         ['conv2d_79[0][0]']              \n",
            " ormalization)                                                                                    \n",
            "                                                                                                  \n",
            " re_lu_79 (ReLU)                (None, 2, 2, 128)    0           ['batch_normalization_79[0][0]'] \n",
            "                                                                                                  \n",
            " conv2d_80 (Conv2D)             (None, 2, 2, 32)     36896       ['re_lu_79[0][0]']               \n",
            "                                                                                                  \n",
            " concatenate_38 (Concatenate)   (None, 2, 2, 928)    0           ['conv2d_80[0][0]',              \n",
            "                                                                  'concatenate_37[0][0]']         \n",
            "                                                                                                  \n",
            " batch_normalization_80 (BatchN  (None, 2, 2, 928)   3712        ['concatenate_38[0][0]']         \n",
            " ormalization)                                                                                    \n",
            "                                                                                                  \n",
            " re_lu_80 (ReLU)                (None, 2, 2, 928)    0           ['batch_normalization_80[0][0]'] \n",
            "                                                                                                  \n",
            " conv2d_81 (Conv2D)             (None, 2, 2, 128)    118912      ['re_lu_80[0][0]']               \n",
            "                                                                                                  \n",
            " batch_normalization_81 (BatchN  (None, 2, 2, 128)   512         ['conv2d_81[0][0]']              \n",
            " ormalization)                                                                                    \n",
            "                                                                                                  \n",
            " re_lu_81 (ReLU)                (None, 2, 2, 128)    0           ['batch_normalization_81[0][0]'] \n",
            "                                                                                                  \n",
            " conv2d_82 (Conv2D)             (None, 2, 2, 32)     36896       ['re_lu_81[0][0]']               \n",
            "                                                                                                  \n",
            " concatenate_39 (Concatenate)   (None, 2, 2, 960)    0           ['conv2d_82[0][0]',              \n",
            "                                                                  'concatenate_38[0][0]']         \n",
            "                                                                                                  \n",
            " batch_normalization_82 (BatchN  (None, 2, 2, 960)   3840        ['concatenate_39[0][0]']         \n",
            " ormalization)                                                                                    \n",
            "                                                                                                  \n",
            " re_lu_82 (ReLU)                (None, 2, 2, 960)    0           ['batch_normalization_82[0][0]'] \n",
            "                                                                                                  \n",
            " conv2d_83 (Conv2D)             (None, 2, 2, 128)    123008      ['re_lu_82[0][0]']               \n",
            "                                                                                                  \n",
            " batch_normalization_83 (BatchN  (None, 2, 2, 128)   512         ['conv2d_83[0][0]']              \n",
            " ormalization)                                                                                    \n",
            "                                                                                                  \n",
            " re_lu_83 (ReLU)                (None, 2, 2, 128)    0           ['batch_normalization_83[0][0]'] \n",
            "                                                                                                  \n",
            " conv2d_84 (Conv2D)             (None, 2, 2, 32)     36896       ['re_lu_83[0][0]']               \n",
            "                                                                                                  \n",
            " concatenate_40 (Concatenate)   (None, 2, 2, 992)    0           ['conv2d_84[0][0]',              \n",
            "                                                                  'concatenate_39[0][0]']         \n",
            "                                                                                                  \n",
            " batch_normalization_84 (BatchN  (None, 2, 2, 992)   3968        ['concatenate_40[0][0]']         \n",
            " ormalization)                                                                                    \n",
            "                                                                                                  \n",
            " re_lu_84 (ReLU)                (None, 2, 2, 992)    0           ['batch_normalization_84[0][0]'] \n",
            "                                                                                                  \n",
            " conv2d_85 (Conv2D)             (None, 2, 2, 128)    127104      ['re_lu_84[0][0]']               \n",
            "                                                                                                  \n",
            " batch_normalization_85 (BatchN  (None, 2, 2, 128)   512         ['conv2d_85[0][0]']              \n",
            " ormalization)                                                                                    \n",
            "                                                                                                  \n",
            " re_lu_85 (ReLU)                (None, 2, 2, 128)    0           ['batch_normalization_85[0][0]'] \n",
            "                                                                                                  \n",
            " conv2d_86 (Conv2D)             (None, 2, 2, 32)     36896       ['re_lu_85[0][0]']               \n",
            "                                                                                                  \n",
            " concatenate_41 (Concatenate)   (None, 2, 2, 1024)   0           ['conv2d_86[0][0]',              \n",
            "                                                                  'concatenate_40[0][0]']         \n",
            "                                                                                                  \n",
            " batch_normalization_86 (BatchN  (None, 2, 2, 1024)  4096        ['concatenate_41[0][0]']         \n",
            " ormalization)                                                                                    \n",
            "                                                                                                  \n",
            " re_lu_86 (ReLU)                (None, 2, 2, 1024)   0           ['batch_normalization_86[0][0]'] \n",
            "                                                                                                  \n",
            " conv2d_87 (Conv2D)             (None, 2, 2, 512)    524800      ['re_lu_86[0][0]']               \n",
            "                                                                                                  \n",
            " average_pooling2d_2 (AveragePo  (None, 1, 1, 512)   0           ['conv2d_87[0][0]']              \n",
            " oling2D)                                                                                         \n",
            "                                                                                                  \n",
            " batch_normalization_87 (BatchN  (None, 1, 1, 512)   2048        ['average_pooling2d_2[0][0]']    \n",
            " ormalization)                                                                                    \n",
            "                                                                                                  \n",
            " re_lu_87 (ReLU)                (None, 1, 1, 512)    0           ['batch_normalization_87[0][0]'] \n",
            "                                                                                                  \n",
            " conv2d_88 (Conv2D)             (None, 1, 1, 128)    65664       ['re_lu_87[0][0]']               \n",
            "                                                                                                  \n",
            " batch_normalization_88 (BatchN  (None, 1, 1, 128)   512         ['conv2d_88[0][0]']              \n",
            " ormalization)                                                                                    \n",
            "                                                                                                  \n",
            " re_lu_88 (ReLU)                (None, 1, 1, 128)    0           ['batch_normalization_88[0][0]'] \n",
            "                                                                                                  \n",
            " conv2d_89 (Conv2D)             (None, 1, 1, 32)     36896       ['re_lu_88[0][0]']               \n",
            "                                                                                                  \n",
            " concatenate_42 (Concatenate)   (None, 1, 1, 544)    0           ['conv2d_89[0][0]',              \n",
            "                                                                  'average_pooling2d_2[0][0]']    \n",
            "                                                                                                  \n",
            " batch_normalization_89 (BatchN  (None, 1, 1, 544)   2176        ['concatenate_42[0][0]']         \n",
            " ormalization)                                                                                    \n",
            "                                                                                                  \n",
            " re_lu_89 (ReLU)                (None, 1, 1, 544)    0           ['batch_normalization_89[0][0]'] \n",
            "                                                                                                  \n",
            " conv2d_90 (Conv2D)             (None, 1, 1, 128)    69760       ['re_lu_89[0][0]']               \n",
            "                                                                                                  \n",
            " batch_normalization_90 (BatchN  (None, 1, 1, 128)   512         ['conv2d_90[0][0]']              \n",
            " ormalization)                                                                                    \n",
            "                                                                                                  \n",
            " re_lu_90 (ReLU)                (None, 1, 1, 128)    0           ['batch_normalization_90[0][0]'] \n",
            "                                                                                                  \n",
            " conv2d_91 (Conv2D)             (None, 1, 1, 32)     36896       ['re_lu_90[0][0]']               \n",
            "                                                                                                  \n",
            " concatenate_43 (Concatenate)   (None, 1, 1, 576)    0           ['conv2d_91[0][0]',              \n",
            "                                                                  'concatenate_42[0][0]']         \n",
            "                                                                                                  \n",
            " batch_normalization_91 (BatchN  (None, 1, 1, 576)   2304        ['concatenate_43[0][0]']         \n",
            " ormalization)                                                                                    \n",
            "                                                                                                  \n",
            " re_lu_91 (ReLU)                (None, 1, 1, 576)    0           ['batch_normalization_91[0][0]'] \n",
            "                                                                                                  \n",
            " conv2d_92 (Conv2D)             (None, 1, 1, 128)    73856       ['re_lu_91[0][0]']               \n",
            "                                                                                                  \n",
            " batch_normalization_92 (BatchN  (None, 1, 1, 128)   512         ['conv2d_92[0][0]']              \n",
            " ormalization)                                                                                    \n",
            "                                                                                                  \n",
            " re_lu_92 (ReLU)                (None, 1, 1, 128)    0           ['batch_normalization_92[0][0]'] \n",
            "                                                                                                  \n",
            " conv2d_93 (Conv2D)             (None, 1, 1, 32)     36896       ['re_lu_92[0][0]']               \n",
            "                                                                                                  \n",
            " concatenate_44 (Concatenate)   (None, 1, 1, 608)    0           ['conv2d_93[0][0]',              \n",
            "                                                                  'concatenate_43[0][0]']         \n",
            "                                                                                                  \n",
            " batch_normalization_93 (BatchN  (None, 1, 1, 608)   2432        ['concatenate_44[0][0]']         \n",
            " ormalization)                                                                                    \n",
            "                                                                                                  \n",
            " re_lu_93 (ReLU)                (None, 1, 1, 608)    0           ['batch_normalization_93[0][0]'] \n",
            "                                                                                                  \n",
            " conv2d_94 (Conv2D)             (None, 1, 1, 128)    77952       ['re_lu_93[0][0]']               \n",
            "                                                                                                  \n",
            " batch_normalization_94 (BatchN  (None, 1, 1, 128)   512         ['conv2d_94[0][0]']              \n",
            " ormalization)                                                                                    \n",
            "                                                                                                  \n",
            " re_lu_94 (ReLU)                (None, 1, 1, 128)    0           ['batch_normalization_94[0][0]'] \n",
            "                                                                                                  \n",
            " conv2d_95 (Conv2D)             (None, 1, 1, 32)     36896       ['re_lu_94[0][0]']               \n",
            "                                                                                                  \n",
            " concatenate_45 (Concatenate)   (None, 1, 1, 640)    0           ['conv2d_95[0][0]',              \n",
            "                                                                  'concatenate_44[0][0]']         \n",
            "                                                                                                  \n",
            " batch_normalization_95 (BatchN  (None, 1, 1, 640)   2560        ['concatenate_45[0][0]']         \n",
            " ormalization)                                                                                    \n",
            "                                                                                                  \n",
            " re_lu_95 (ReLU)                (None, 1, 1, 640)    0           ['batch_normalization_95[0][0]'] \n",
            "                                                                                                  \n",
            " conv2d_96 (Conv2D)             (None, 1, 1, 128)    82048       ['re_lu_95[0][0]']               \n",
            "                                                                                                  \n",
            " batch_normalization_96 (BatchN  (None, 1, 1, 128)   512         ['conv2d_96[0][0]']              \n",
            " ormalization)                                                                                    \n",
            "                                                                                                  \n",
            " re_lu_96 (ReLU)                (None, 1, 1, 128)    0           ['batch_normalization_96[0][0]'] \n",
            "                                                                                                  \n",
            " conv2d_97 (Conv2D)             (None, 1, 1, 32)     36896       ['re_lu_96[0][0]']               \n",
            "                                                                                                  \n",
            " concatenate_46 (Concatenate)   (None, 1, 1, 672)    0           ['conv2d_97[0][0]',              \n",
            "                                                                  'concatenate_45[0][0]']         \n",
            "                                                                                                  \n",
            " batch_normalization_97 (BatchN  (None, 1, 1, 672)   2688        ['concatenate_46[0][0]']         \n",
            " ormalization)                                                                                    \n",
            "                                                                                                  \n",
            " re_lu_97 (ReLU)                (None, 1, 1, 672)    0           ['batch_normalization_97[0][0]'] \n",
            "                                                                                                  \n",
            " conv2d_98 (Conv2D)             (None, 1, 1, 128)    86144       ['re_lu_97[0][0]']               \n",
            "                                                                                                  \n",
            " batch_normalization_98 (BatchN  (None, 1, 1, 128)   512         ['conv2d_98[0][0]']              \n",
            " ormalization)                                                                                    \n",
            "                                                                                                  \n",
            " re_lu_98 (ReLU)                (None, 1, 1, 128)    0           ['batch_normalization_98[0][0]'] \n",
            "                                                                                                  \n",
            " conv2d_99 (Conv2D)             (None, 1, 1, 32)     36896       ['re_lu_98[0][0]']               \n",
            "                                                                                                  \n",
            " concatenate_47 (Concatenate)   (None, 1, 1, 704)    0           ['conv2d_99[0][0]',              \n",
            "                                                                  'concatenate_46[0][0]']         \n",
            "                                                                                                  \n",
            " batch_normalization_99 (BatchN  (None, 1, 1, 704)   2816        ['concatenate_47[0][0]']         \n",
            " ormalization)                                                                                    \n",
            "                                                                                                  \n",
            " re_lu_99 (ReLU)                (None, 1, 1, 704)    0           ['batch_normalization_99[0][0]'] \n",
            "                                                                                                  \n",
            " conv2d_100 (Conv2D)            (None, 1, 1, 128)    90240       ['re_lu_99[0][0]']               \n",
            "                                                                                                  \n",
            " batch_normalization_100 (Batch  (None, 1, 1, 128)   512         ['conv2d_100[0][0]']             \n",
            " Normalization)                                                                                   \n",
            "                                                                                                  \n",
            " re_lu_100 (ReLU)               (None, 1, 1, 128)    0           ['batch_normalization_100[0][0]']\n",
            "                                                                                                  \n",
            " conv2d_101 (Conv2D)            (None, 1, 1, 32)     36896       ['re_lu_100[0][0]']              \n",
            "                                                                                                  \n",
            " concatenate_48 (Concatenate)   (None, 1, 1, 736)    0           ['conv2d_101[0][0]',             \n",
            "                                                                  'concatenate_47[0][0]']         \n",
            "                                                                                                  \n",
            " batch_normalization_101 (Batch  (None, 1, 1, 736)   2944        ['concatenate_48[0][0]']         \n",
            " Normalization)                                                                                   \n",
            "                                                                                                  \n",
            " re_lu_101 (ReLU)               (None, 1, 1, 736)    0           ['batch_normalization_101[0][0]']\n",
            "                                                                                                  \n",
            " conv2d_102 (Conv2D)            (None, 1, 1, 128)    94336       ['re_lu_101[0][0]']              \n",
            "                                                                                                  \n",
            " batch_normalization_102 (Batch  (None, 1, 1, 128)   512         ['conv2d_102[0][0]']             \n",
            " Normalization)                                                                                   \n",
            "                                                                                                  \n",
            " re_lu_102 (ReLU)               (None, 1, 1, 128)    0           ['batch_normalization_102[0][0]']\n",
            "                                                                                                  \n",
            " conv2d_103 (Conv2D)            (None, 1, 1, 32)     36896       ['re_lu_102[0][0]']              \n",
            "                                                                                                  \n",
            " concatenate_49 (Concatenate)   (None, 1, 1, 768)    0           ['conv2d_103[0][0]',             \n",
            "                                                                  'concatenate_48[0][0]']         \n",
            "                                                                                                  \n",
            " batch_normalization_103 (Batch  (None, 1, 1, 768)   3072        ['concatenate_49[0][0]']         \n",
            " Normalization)                                                                                   \n",
            "                                                                                                  \n",
            " re_lu_103 (ReLU)               (None, 1, 1, 768)    0           ['batch_normalization_103[0][0]']\n",
            "                                                                                                  \n",
            " conv2d_104 (Conv2D)            (None, 1, 1, 128)    98432       ['re_lu_103[0][0]']              \n",
            "                                                                                                  \n",
            " batch_normalization_104 (Batch  (None, 1, 1, 128)   512         ['conv2d_104[0][0]']             \n",
            " Normalization)                                                                                   \n",
            "                                                                                                  \n",
            " re_lu_104 (ReLU)               (None, 1, 1, 128)    0           ['batch_normalization_104[0][0]']\n",
            "                                                                                                  \n",
            " conv2d_105 (Conv2D)            (None, 1, 1, 32)     36896       ['re_lu_104[0][0]']              \n",
            "                                                                                                  \n",
            " concatenate_50 (Concatenate)   (None, 1, 1, 800)    0           ['conv2d_105[0][0]',             \n",
            "                                                                  'concatenate_49[0][0]']         \n",
            "                                                                                                  \n",
            " batch_normalization_105 (Batch  (None, 1, 1, 800)   3200        ['concatenate_50[0][0]']         \n",
            " Normalization)                                                                                   \n",
            "                                                                                                  \n",
            " re_lu_105 (ReLU)               (None, 1, 1, 800)    0           ['batch_normalization_105[0][0]']\n",
            "                                                                                                  \n",
            " conv2d_106 (Conv2D)            (None, 1, 1, 128)    102528      ['re_lu_105[0][0]']              \n",
            "                                                                                                  \n",
            " batch_normalization_106 (Batch  (None, 1, 1, 128)   512         ['conv2d_106[0][0]']             \n",
            " Normalization)                                                                                   \n",
            "                                                                                                  \n",
            " re_lu_106 (ReLU)               (None, 1, 1, 128)    0           ['batch_normalization_106[0][0]']\n",
            "                                                                                                  \n",
            " conv2d_107 (Conv2D)            (None, 1, 1, 32)     36896       ['re_lu_106[0][0]']              \n",
            "                                                                                                  \n",
            " concatenate_51 (Concatenate)   (None, 1, 1, 832)    0           ['conv2d_107[0][0]',             \n",
            "                                                                  'concatenate_50[0][0]']         \n",
            "                                                                                                  \n",
            " batch_normalization_107 (Batch  (None, 1, 1, 832)   3328        ['concatenate_51[0][0]']         \n",
            " Normalization)                                                                                   \n",
            "                                                                                                  \n",
            " re_lu_107 (ReLU)               (None, 1, 1, 832)    0           ['batch_normalization_107[0][0]']\n",
            "                                                                                                  \n",
            " conv2d_108 (Conv2D)            (None, 1, 1, 128)    106624      ['re_lu_107[0][0]']              \n",
            "                                                                                                  \n",
            " batch_normalization_108 (Batch  (None, 1, 1, 128)   512         ['conv2d_108[0][0]']             \n",
            " Normalization)                                                                                   \n",
            "                                                                                                  \n",
            " re_lu_108 (ReLU)               (None, 1, 1, 128)    0           ['batch_normalization_108[0][0]']\n",
            "                                                                                                  \n",
            " conv2d_109 (Conv2D)            (None, 1, 1, 32)     36896       ['re_lu_108[0][0]']              \n",
            "                                                                                                  \n",
            " concatenate_52 (Concatenate)   (None, 1, 1, 864)    0           ['conv2d_109[0][0]',             \n",
            "                                                                  'concatenate_51[0][0]']         \n",
            "                                                                                                  \n",
            " batch_normalization_109 (Batch  (None, 1, 1, 864)   3456        ['concatenate_52[0][0]']         \n",
            " Normalization)                                                                                   \n",
            "                                                                                                  \n",
            " re_lu_109 (ReLU)               (None, 1, 1, 864)    0           ['batch_normalization_109[0][0]']\n",
            "                                                                                                  \n",
            " conv2d_110 (Conv2D)            (None, 1, 1, 128)    110720      ['re_lu_109[0][0]']              \n",
            "                                                                                                  \n",
            " batch_normalization_110 (Batch  (None, 1, 1, 128)   512         ['conv2d_110[0][0]']             \n",
            " Normalization)                                                                                   \n",
            "                                                                                                  \n",
            " re_lu_110 (ReLU)               (None, 1, 1, 128)    0           ['batch_normalization_110[0][0]']\n",
            "                                                                                                  \n",
            " conv2d_111 (Conv2D)            (None, 1, 1, 32)     36896       ['re_lu_110[0][0]']              \n",
            "                                                                                                  \n",
            " concatenate_53 (Concatenate)   (None, 1, 1, 896)    0           ['conv2d_111[0][0]',             \n",
            "                                                                  'concatenate_52[0][0]']         \n",
            "                                                                                                  \n",
            " batch_normalization_111 (Batch  (None, 1, 1, 896)   3584        ['concatenate_53[0][0]']         \n",
            " Normalization)                                                                                   \n",
            "                                                                                                  \n",
            " re_lu_111 (ReLU)               (None, 1, 1, 896)    0           ['batch_normalization_111[0][0]']\n",
            "                                                                                                  \n",
            " conv2d_112 (Conv2D)            (None, 1, 1, 128)    114816      ['re_lu_111[0][0]']              \n",
            "                                                                                                  \n",
            " batch_normalization_112 (Batch  (None, 1, 1, 128)   512         ['conv2d_112[0][0]']             \n",
            " Normalization)                                                                                   \n",
            "                                                                                                  \n",
            " re_lu_112 (ReLU)               (None, 1, 1, 128)    0           ['batch_normalization_112[0][0]']\n",
            "                                                                                                  \n",
            " conv2d_113 (Conv2D)            (None, 1, 1, 32)     36896       ['re_lu_112[0][0]']              \n",
            "                                                                                                  \n",
            " concatenate_54 (Concatenate)   (None, 1, 1, 928)    0           ['conv2d_113[0][0]',             \n",
            "                                                                  'concatenate_53[0][0]']         \n",
            "                                                                                                  \n",
            " batch_normalization_113 (Batch  (None, 1, 1, 928)   3712        ['concatenate_54[0][0]']         \n",
            " Normalization)                                                                                   \n",
            "                                                                                                  \n",
            " re_lu_113 (ReLU)               (None, 1, 1, 928)    0           ['batch_normalization_113[0][0]']\n",
            "                                                                                                  \n",
            " conv2d_114 (Conv2D)            (None, 1, 1, 128)    118912      ['re_lu_113[0][0]']              \n",
            "                                                                                                  \n",
            " batch_normalization_114 (Batch  (None, 1, 1, 128)   512         ['conv2d_114[0][0]']             \n",
            " Normalization)                                                                                   \n",
            "                                                                                                  \n",
            " re_lu_114 (ReLU)               (None, 1, 1, 128)    0           ['batch_normalization_114[0][0]']\n",
            "                                                                                                  \n",
            " conv2d_115 (Conv2D)            (None, 1, 1, 32)     36896       ['re_lu_114[0][0]']              \n",
            "                                                                                                  \n",
            " concatenate_55 (Concatenate)   (None, 1, 1, 960)    0           ['conv2d_115[0][0]',             \n",
            "                                                                  'concatenate_54[0][0]']         \n",
            "                                                                                                  \n",
            " batch_normalization_115 (Batch  (None, 1, 1, 960)   3840        ['concatenate_55[0][0]']         \n",
            " Normalization)                                                                                   \n",
            "                                                                                                  \n",
            " re_lu_115 (ReLU)               (None, 1, 1, 960)    0           ['batch_normalization_115[0][0]']\n",
            "                                                                                                  \n",
            " conv2d_116 (Conv2D)            (None, 1, 1, 128)    123008      ['re_lu_115[0][0]']              \n",
            "                                                                                                  \n",
            " batch_normalization_116 (Batch  (None, 1, 1, 128)   512         ['conv2d_116[0][0]']             \n",
            " Normalization)                                                                                   \n",
            "                                                                                                  \n",
            " re_lu_116 (ReLU)               (None, 1, 1, 128)    0           ['batch_normalization_116[0][0]']\n",
            "                                                                                                  \n",
            " conv2d_117 (Conv2D)            (None, 1, 1, 32)     36896       ['re_lu_116[0][0]']              \n",
            "                                                                                                  \n",
            " concatenate_56 (Concatenate)   (None, 1, 1, 992)    0           ['conv2d_117[0][0]',             \n",
            "                                                                  'concatenate_55[0][0]']         \n",
            "                                                                                                  \n",
            " batch_normalization_117 (Batch  (None, 1, 1, 992)   3968        ['concatenate_56[0][0]']         \n",
            " Normalization)                                                                                   \n",
            "                                                                                                  \n",
            " re_lu_117 (ReLU)               (None, 1, 1, 992)    0           ['batch_normalization_117[0][0]']\n",
            "                                                                                                  \n",
            " conv2d_118 (Conv2D)            (None, 1, 1, 128)    127104      ['re_lu_117[0][0]']              \n",
            "                                                                                                  \n",
            " batch_normalization_118 (Batch  (None, 1, 1, 128)   512         ['conv2d_118[0][0]']             \n",
            " Normalization)                                                                                   \n",
            "                                                                                                  \n",
            " re_lu_118 (ReLU)               (None, 1, 1, 128)    0           ['batch_normalization_118[0][0]']\n",
            "                                                                                                  \n",
            " conv2d_119 (Conv2D)            (None, 1, 1, 32)     36896       ['re_lu_118[0][0]']              \n",
            "                                                                                                  \n",
            " concatenate_57 (Concatenate)   (None, 1, 1, 1024)   0           ['conv2d_119[0][0]',             \n",
            "                                                                  'concatenate_56[0][0]']         \n",
            "                                                                                                  \n",
            " global_average_pooling2d (Glob  (None, 1024)        0           ['concatenate_57[0][0]']         \n",
            " alAveragePooling2D)                                                                              \n",
            "                                                                                                  \n",
            " dense (Dense)                  (None, 9)            9225        ['global_average_pooling2d[0][0]'\n",
            "                                                                 ]                                \n",
            "                                                                                                  \n",
            "==================================================================================================\n",
            "Total params: 7,052,617\n",
            "Trainable params: 6,971,145\n",
            "Non-trainable params: 81,472\n",
            "__________________________________________________________________________________________________\n"
          ]
        }
      ]
    },
    {
      "cell_type": "markdown",
      "metadata": {
        "id": "469VEA_ucybz"
      },
      "source": [
        "#Train Model"
      ]
    },
    {
      "cell_type": "code",
      "metadata": {
        "id": "nP4d0lPrc7JS"
      },
      "source": [
        "from tensorflow.keras.callbacks import EarlyStopping"
      ],
      "execution_count": 20,
      "outputs": []
    },
    {
      "cell_type": "code",
      "metadata": {
        "id": "UlhLKzASdJ7_"
      },
      "source": [
        "early_stop = EarlyStopping(monitor='val_loss', patience=20)"
      ],
      "execution_count": 21,
      "outputs": []
    },
    {
      "cell_type": "code",
      "metadata": {
        "id": "eSqf4h5Ldgou"
      },
      "source": [
        "opt = tf.keras.optimizers.Adam(learning_rate=1e-05)\n",
        "model.compile(optimizer=opt, loss='categorical_crossentropy', metrics=['accuracy'])"
      ],
      "execution_count": 22,
      "outputs": []
    },
    {
      "cell_type": "code",
      "metadata": {
        "colab": {
          "base_uri": "https://localhost:8080/"
        },
        "id": "jSrMa5dpdTdX",
        "outputId": "902813fd-9b63-4b1d-b4e5-68751cc2958a"
      },
      "source": [
        "model.fit(x_train, y_cat_train, epochs=50, validation_data=(x_test, y_cat_test), batch_size=128, callbacks=[early_stop])"
      ],
      "execution_count": 23,
      "outputs": [
        {
          "output_type": "stream",
          "name": "stdout",
          "text": [
            "Epoch 1/50\n",
            "704/704 [==============================] - 151s 172ms/step - loss: 1.2454 - accuracy: 0.5546 - val_loss: 1.1526 - val_accuracy: 0.6148\n",
            "Epoch 2/50\n",
            "704/704 [==============================] - 114s 162ms/step - loss: 0.8720 - accuracy: 0.6806 - val_loss: 0.9956 - val_accuracy: 0.6795\n",
            "Epoch 3/50\n",
            "704/704 [==============================] - 114s 163ms/step - loss: 0.7512 - accuracy: 0.7245 - val_loss: 0.9854 - val_accuracy: 0.6731\n",
            "Epoch 4/50\n",
            "704/704 [==============================] - 114s 163ms/step - loss: 0.6763 - accuracy: 0.7520 - val_loss: 0.8389 - val_accuracy: 0.7478\n",
            "Epoch 5/50\n",
            "704/704 [==============================] - 114s 162ms/step - loss: 0.6177 - accuracy: 0.7734 - val_loss: 0.8989 - val_accuracy: 0.7248\n",
            "Epoch 6/50\n",
            "704/704 [==============================] - 114s 162ms/step - loss: 0.5693 - accuracy: 0.7921 - val_loss: 0.8475 - val_accuracy: 0.7425\n",
            "Epoch 7/50\n",
            "704/704 [==============================] - 114s 163ms/step - loss: 0.5255 - accuracy: 0.8086 - val_loss: 0.9411 - val_accuracy: 0.7128\n",
            "Epoch 8/50\n",
            "704/704 [==============================] - 115s 163ms/step - loss: 0.4904 - accuracy: 0.8212 - val_loss: 0.8859 - val_accuracy: 0.7376\n",
            "Epoch 9/50\n",
            "704/704 [==============================] - 114s 162ms/step - loss: 0.4525 - accuracy: 0.8355 - val_loss: 1.0110 - val_accuracy: 0.7092\n",
            "Epoch 10/50\n",
            "704/704 [==============================] - 114s 162ms/step - loss: 0.4156 - accuracy: 0.8509 - val_loss: 0.9563 - val_accuracy: 0.7224\n",
            "Epoch 11/50\n",
            "704/704 [==============================] - 114s 162ms/step - loss: 0.3864 - accuracy: 0.8602 - val_loss: 1.0289 - val_accuracy: 0.7031\n",
            "Epoch 12/50\n",
            "704/704 [==============================] - 114s 162ms/step - loss: 0.3497 - accuracy: 0.8753 - val_loss: 1.0065 - val_accuracy: 0.7216\n",
            "Epoch 13/50\n",
            "704/704 [==============================] - 114s 162ms/step - loss: 0.3207 - accuracy: 0.8864 - val_loss: 1.1182 - val_accuracy: 0.6947\n",
            "Epoch 14/50\n",
            "704/704 [==============================] - 115s 163ms/step - loss: 0.2924 - accuracy: 0.8971 - val_loss: 1.0321 - val_accuracy: 0.7281\n",
            "Epoch 15/50\n",
            "704/704 [==============================] - 115s 163ms/step - loss: 0.2680 - accuracy: 0.9047 - val_loss: 1.0707 - val_accuracy: 0.7205\n",
            "Epoch 16/50\n",
            "704/704 [==============================] - 115s 163ms/step - loss: 0.2520 - accuracy: 0.9101 - val_loss: 1.1659 - val_accuracy: 0.7142\n",
            "Epoch 17/50\n",
            "704/704 [==============================] - 114s 163ms/step - loss: 0.2251 - accuracy: 0.9217 - val_loss: 1.2157 - val_accuracy: 0.6896\n",
            "Epoch 18/50\n",
            "704/704 [==============================] - 115s 163ms/step - loss: 0.2101 - accuracy: 0.9272 - val_loss: 1.2027 - val_accuracy: 0.7038\n",
            "Epoch 19/50\n",
            "704/704 [==============================] - 115s 163ms/step - loss: 0.1927 - accuracy: 0.9331 - val_loss: 1.2444 - val_accuracy: 0.7107\n",
            "Epoch 20/50\n",
            "704/704 [==============================] - 115s 163ms/step - loss: 0.1748 - accuracy: 0.9394 - val_loss: 1.2735 - val_accuracy: 0.7134\n",
            "Epoch 21/50\n",
            "704/704 [==============================] - 115s 163ms/step - loss: 0.1589 - accuracy: 0.9452 - val_loss: 1.3624 - val_accuracy: 0.6893\n",
            "Epoch 22/50\n",
            "704/704 [==============================] - 115s 163ms/step - loss: 0.1484 - accuracy: 0.9492 - val_loss: 1.3837 - val_accuracy: 0.6929\n",
            "Epoch 23/50\n",
            "704/704 [==============================] - 114s 163ms/step - loss: 0.1458 - accuracy: 0.9496 - val_loss: 1.5470 - val_accuracy: 0.6630\n",
            "Epoch 24/50\n",
            "704/704 [==============================] - 115s 163ms/step - loss: 0.1298 - accuracy: 0.9555 - val_loss: 1.3324 - val_accuracy: 0.7241\n"
          ]
        },
        {
          "output_type": "execute_result",
          "data": {
            "text/plain": [
              "<keras.callbacks.History at 0x7fd830642590>"
            ]
          },
          "metadata": {},
          "execution_count": 23
        }
      ]
    },
    {
      "cell_type": "code",
      "metadata": {
        "id": "90VHjzw4Cvtm"
      },
      "source": [
        "metrics = pd.DataFrame(model.history.history)"
      ],
      "execution_count": 24,
      "outputs": []
    },
    {
      "cell_type": "code",
      "metadata": {
        "id": "XyPa6XBcC5dk",
        "colab": {
          "base_uri": "https://localhost:8080/",
          "height": 793
        },
        "outputId": "3b0448d5-6a5c-454e-dfb2-e721e0329af0"
      },
      "source": [
        "metrics"
      ],
      "execution_count": 25,
      "outputs": [
        {
          "output_type": "execute_result",
          "data": {
            "text/html": [
              "<div>\n",
              "<style scoped>\n",
              "    .dataframe tbody tr th:only-of-type {\n",
              "        vertical-align: middle;\n",
              "    }\n",
              "\n",
              "    .dataframe tbody tr th {\n",
              "        vertical-align: top;\n",
              "    }\n",
              "\n",
              "    .dataframe thead th {\n",
              "        text-align: right;\n",
              "    }\n",
              "</style>\n",
              "<table border=\"1\" class=\"dataframe\">\n",
              "  <thead>\n",
              "    <tr style=\"text-align: right;\">\n",
              "      <th></th>\n",
              "      <th>loss</th>\n",
              "      <th>accuracy</th>\n",
              "      <th>val_loss</th>\n",
              "      <th>val_accuracy</th>\n",
              "    </tr>\n",
              "  </thead>\n",
              "  <tbody>\n",
              "    <tr>\n",
              "      <th>0</th>\n",
              "      <td>1.245353</td>\n",
              "      <td>0.554558</td>\n",
              "      <td>1.152616</td>\n",
              "      <td>0.614763</td>\n",
              "    </tr>\n",
              "    <tr>\n",
              "      <th>1</th>\n",
              "      <td>0.872044</td>\n",
              "      <td>0.680630</td>\n",
              "      <td>0.995564</td>\n",
              "      <td>0.679526</td>\n",
              "    </tr>\n",
              "    <tr>\n",
              "      <th>2</th>\n",
              "      <td>0.751214</td>\n",
              "      <td>0.724543</td>\n",
              "      <td>0.985362</td>\n",
              "      <td>0.673120</td>\n",
              "    </tr>\n",
              "    <tr>\n",
              "      <th>3</th>\n",
              "      <td>0.676254</td>\n",
              "      <td>0.752000</td>\n",
              "      <td>0.838867</td>\n",
              "      <td>0.747772</td>\n",
              "    </tr>\n",
              "    <tr>\n",
              "      <th>4</th>\n",
              "      <td>0.617745</td>\n",
              "      <td>0.773368</td>\n",
              "      <td>0.898943</td>\n",
              "      <td>0.724791</td>\n",
              "    </tr>\n",
              "    <tr>\n",
              "      <th>5</th>\n",
              "      <td>0.569333</td>\n",
              "      <td>0.792113</td>\n",
              "      <td>0.847534</td>\n",
              "      <td>0.742479</td>\n",
              "    </tr>\n",
              "    <tr>\n",
              "      <th>6</th>\n",
              "      <td>0.525475</td>\n",
              "      <td>0.808580</td>\n",
              "      <td>0.941108</td>\n",
              "      <td>0.712813</td>\n",
              "    </tr>\n",
              "    <tr>\n",
              "      <th>7</th>\n",
              "      <td>0.490391</td>\n",
              "      <td>0.821225</td>\n",
              "      <td>0.885941</td>\n",
              "      <td>0.737604</td>\n",
              "    </tr>\n",
              "    <tr>\n",
              "      <th>8</th>\n",
              "      <td>0.452482</td>\n",
              "      <td>0.835470</td>\n",
              "      <td>1.011033</td>\n",
              "      <td>0.709192</td>\n",
              "    </tr>\n",
              "    <tr>\n",
              "      <th>9</th>\n",
              "      <td>0.415554</td>\n",
              "      <td>0.850871</td>\n",
              "      <td>0.956303</td>\n",
              "      <td>0.722423</td>\n",
              "    </tr>\n",
              "    <tr>\n",
              "      <th>10</th>\n",
              "      <td>0.386401</td>\n",
              "      <td>0.860249</td>\n",
              "      <td>1.028914</td>\n",
              "      <td>0.703064</td>\n",
              "    </tr>\n",
              "    <tr>\n",
              "      <th>11</th>\n",
              "      <td>0.349691</td>\n",
              "      <td>0.875317</td>\n",
              "      <td>1.006492</td>\n",
              "      <td>0.721588</td>\n",
              "    </tr>\n",
              "    <tr>\n",
              "      <th>12</th>\n",
              "      <td>0.320738</td>\n",
              "      <td>0.886417</td>\n",
              "      <td>1.118195</td>\n",
              "      <td>0.694708</td>\n",
              "    </tr>\n",
              "    <tr>\n",
              "      <th>13</th>\n",
              "      <td>0.292362</td>\n",
              "      <td>0.897062</td>\n",
              "      <td>1.032065</td>\n",
              "      <td>0.728134</td>\n",
              "    </tr>\n",
              "    <tr>\n",
              "      <th>14</th>\n",
              "      <td>0.267978</td>\n",
              "      <td>0.904707</td>\n",
              "      <td>1.070668</td>\n",
              "      <td>0.720474</td>\n",
              "    </tr>\n",
              "    <tr>\n",
              "      <th>15</th>\n",
              "      <td>0.252006</td>\n",
              "      <td>0.910096</td>\n",
              "      <td>1.165904</td>\n",
              "      <td>0.714206</td>\n",
              "    </tr>\n",
              "    <tr>\n",
              "      <th>16</th>\n",
              "      <td>0.225055</td>\n",
              "      <td>0.921741</td>\n",
              "      <td>1.215675</td>\n",
              "      <td>0.689554</td>\n",
              "    </tr>\n",
              "    <tr>\n",
              "      <th>17</th>\n",
              "      <td>0.210118</td>\n",
              "      <td>0.927175</td>\n",
              "      <td>1.202723</td>\n",
              "      <td>0.703760</td>\n",
              "    </tr>\n",
              "    <tr>\n",
              "      <th>18</th>\n",
              "      <td>0.192666</td>\n",
              "      <td>0.933053</td>\n",
              "      <td>1.244425</td>\n",
              "      <td>0.710724</td>\n",
              "    </tr>\n",
              "    <tr>\n",
              "      <th>19</th>\n",
              "      <td>0.174791</td>\n",
              "      <td>0.939420</td>\n",
              "      <td>1.273514</td>\n",
              "      <td>0.713371</td>\n",
              "    </tr>\n",
              "    <tr>\n",
              "      <th>20</th>\n",
              "      <td>0.158876</td>\n",
              "      <td>0.945209</td>\n",
              "      <td>1.362440</td>\n",
              "      <td>0.689276</td>\n",
              "    </tr>\n",
              "    <tr>\n",
              "      <th>21</th>\n",
              "      <td>0.148372</td>\n",
              "      <td>0.949164</td>\n",
              "      <td>1.383720</td>\n",
              "      <td>0.692897</td>\n",
              "    </tr>\n",
              "    <tr>\n",
              "      <th>22</th>\n",
              "      <td>0.145753</td>\n",
              "      <td>0.949631</td>\n",
              "      <td>1.546954</td>\n",
              "      <td>0.662953</td>\n",
              "    </tr>\n",
              "    <tr>\n",
              "      <th>23</th>\n",
              "      <td>0.129772</td>\n",
              "      <td>0.955531</td>\n",
              "      <td>1.332359</td>\n",
              "      <td>0.724095</td>\n",
              "    </tr>\n",
              "  </tbody>\n",
              "</table>\n",
              "</div>"
            ],
            "text/plain": [
              "        loss  accuracy  val_loss  val_accuracy\n",
              "0   1.245353  0.554558  1.152616      0.614763\n",
              "1   0.872044  0.680630  0.995564      0.679526\n",
              "2   0.751214  0.724543  0.985362      0.673120\n",
              "3   0.676254  0.752000  0.838867      0.747772\n",
              "4   0.617745  0.773368  0.898943      0.724791\n",
              "5   0.569333  0.792113  0.847534      0.742479\n",
              "6   0.525475  0.808580  0.941108      0.712813\n",
              "7   0.490391  0.821225  0.885941      0.737604\n",
              "8   0.452482  0.835470  1.011033      0.709192\n",
              "9   0.415554  0.850871  0.956303      0.722423\n",
              "10  0.386401  0.860249  1.028914      0.703064\n",
              "11  0.349691  0.875317  1.006492      0.721588\n",
              "12  0.320738  0.886417  1.118195      0.694708\n",
              "13  0.292362  0.897062  1.032065      0.728134\n",
              "14  0.267978  0.904707  1.070668      0.720474\n",
              "15  0.252006  0.910096  1.165904      0.714206\n",
              "16  0.225055  0.921741  1.215675      0.689554\n",
              "17  0.210118  0.927175  1.202723      0.703760\n",
              "18  0.192666  0.933053  1.244425      0.710724\n",
              "19  0.174791  0.939420  1.273514      0.713371\n",
              "20  0.158876  0.945209  1.362440      0.689276\n",
              "21  0.148372  0.949164  1.383720      0.692897\n",
              "22  0.145753  0.949631  1.546954      0.662953\n",
              "23  0.129772  0.955531  1.332359      0.724095"
            ]
          },
          "metadata": {},
          "execution_count": 25
        }
      ]
    },
    {
      "cell_type": "code",
      "metadata": {
        "id": "CsIwHuEeC7pX",
        "colab": {
          "base_uri": "https://localhost:8080/"
        },
        "outputId": "1d68cf84-8b3d-4b21-bfc8-0518a44172b7"
      },
      "source": [
        "metrics.columns"
      ],
      "execution_count": 26,
      "outputs": [
        {
          "output_type": "execute_result",
          "data": {
            "text/plain": [
              "Index(['loss', 'accuracy', 'val_loss', 'val_accuracy'], dtype='object')"
            ]
          },
          "metadata": {},
          "execution_count": 26
        }
      ]
    },
    {
      "cell_type": "code",
      "metadata": {
        "id": "FGhkP99wC_Rh",
        "colab": {
          "base_uri": "https://localhost:8080/",
          "height": 282
        },
        "outputId": "d4136c58-ef45-4bbe-f177-b40ac454933a"
      },
      "source": [
        "metrics[['accuracy', 'val_accuracy']].plot()"
      ],
      "execution_count": 27,
      "outputs": [
        {
          "output_type": "execute_result",
          "data": {
            "text/plain": [
              "<matplotlib.axes._subplots.AxesSubplot at 0x7fd8304c2ed0>"
            ]
          },
          "metadata": {},
          "execution_count": 27
        },
        {
          "output_type": "display_data",
          "data": {
            "image/png": "[encoded data removed]",
            "text/plain": [
              "<Figure size 432x288 with 1 Axes>"
            ]
          },
          "metadata": {
            "needs_background": "light"
          }
        }
      ]
    },
    {
      "cell_type": "code",
      "metadata": {
        "id": "MWVWHpm1DB0u",
        "colab": {
          "base_uri": "https://localhost:8080/",
          "height": 284
        },
        "outputId": "3e8e3359-1f41-4906-af28-9b18218d50e9"
      },
      "source": [
        "metrics[['loss', 'val_loss']].plot()"
      ],
      "execution_count": 28,
      "outputs": [
        {
          "output_type": "execute_result",
          "data": {
            "text/plain": [
              "<matplotlib.axes._subplots.AxesSubplot at 0x7fd8304352d0>"
            ]
          },
          "metadata": {},
          "execution_count": 28
        },
        {
          "output_type": "display_data",
          "data": {
            "image/png": "[encoded data removed]",
            "text/plain": [
              "<Figure size 432x288 with 1 Axes>"
            ]
          },
          "metadata": {
            "needs_background": "light"
          }
        }
      ]
    },
    {
      "cell_type": "code",
      "metadata": {
        "id": "RR3-HSOJDFHs"
      },
      "source": [
        "from sklearn.metrics import classification_report, confusion_matrix"
      ],
      "execution_count": 29,
      "outputs": []
    },
    {
      "cell_type": "code",
      "metadata": {
        "id": "RXqD_IONDIGs"
      },
      "source": [
        "y_pred = model.predict(x_test)\n",
        "y_pred = np.argmax(y_pred,axis=1)"
      ],
      "execution_count": 30,
      "outputs": []
    },
    {
      "cell_type": "code",
      "metadata": {
        "id": "dkLJp9lyDKU5",
        "colab": {
          "base_uri": "https://localhost:8080/"
        },
        "outputId": "1635497c-af3b-47ba-a088-dfa9fa91117e"
      },
      "source": [
        "y_pred"
      ],
      "execution_count": 31,
      "outputs": [
        {
          "output_type": "execute_result",
          "data": {
            "text/plain": [
              "array([8, 4, 0, ..., 4, 8, 8])"
            ]
          },
          "metadata": {},
          "execution_count": 31
        }
      ]
    },
    {
      "cell_type": "code",
      "metadata": {
        "id": "Xdv6b24UDQVB",
        "colab": {
          "base_uri": "https://localhost:8080/"
        },
        "outputId": "5a98fdff-1a9f-42f0-ead2-12275d0bb73c"
      },
      "source": [
        "print(classification_report(y_pred, y_test))"
      ],
      "execution_count": 32,
      "outputs": [
        {
          "output_type": "stream",
          "name": "stdout",
          "text": [
            "              precision    recall  f1-score   support\n",
            "\n",
            "           0       0.91      0.91      0.91      1330\n",
            "           1       1.00      0.82      0.90      1033\n",
            "           2       0.70      0.36      0.48       652\n",
            "           3       0.65      0.76      0.70       545\n",
            "           4       0.72      0.80      0.76       925\n",
            "           5       0.48      0.69      0.57       416\n",
            "           6       0.56      0.59      0.57       714\n",
            "           7       0.33      0.43      0.37       316\n",
            "           8       0.73      0.73      0.73      1249\n",
            "\n",
            "    accuracy                           0.72      7180\n",
            "   macro avg       0.68      0.68      0.67      7180\n",
            "weighted avg       0.74      0.72      0.73      7180\n",
            "\n"
          ]
        }
      ]
    },
    {
      "cell_type": "code",
      "metadata": {
        "id": "kJtuICVDDTdI",
        "colab": {
          "base_uri": "https://localhost:8080/"
        },
        "outputId": "d17ac3f2-4111-44ca-b42d-4f1d96998c43"
      },
      "source": [
        "print(confusion_matrix(y_pred, y_test))"
      ],
      "execution_count": 33,
      "outputs": [
        {
          "output_type": "stream",
          "name": "stdout",
          "text": [
            "[[1212    0    0   36   61    0   19    0    2]\n",
            " [  23  846    0    0  159    0    1    0    4]\n",
            " [  25    0  237   36    1  100   47  105  101]\n",
            " [   0    0    9  413    3   57   29   16   18]\n",
            " [  43    0    1   12  743    3   68   20   35]\n",
            " [  19    0   46    2    1  287    4   50    7]\n",
            " [   3    0    0  108   15    1  418   20  149]\n",
            " [   0    0   31    1    3  124    9  137   11]\n",
            " [  13    1   15   26   49   20  146   73  906]]\n"
          ]
        }
      ]
    }
  ]
}