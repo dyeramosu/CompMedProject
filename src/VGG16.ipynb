{
  "nbformat": 4,
  "nbformat_minor": 0,
  "metadata": {
    "colab": {
      "name": "VGG16.ipynb",
      "provenance": [],
      "collapsed_sections": []
    },
    "kernelspec": {
      "name": "python3",
      "display_name": "Python 3"
    },
    "language_info": {
      "name": "python"
    },
    "accelerator": "GPU"
  },
  "cells": [
    {
      "cell_type": "markdown",
      "metadata": {
        "id": "glBy5mtx_h39"
      },
      "source": [
        "# **Set up Notebook**"
      ]
    },
    {
      "cell_type": "code",
      "metadata": {
        "colab": {
          "base_uri": "https://localhost:8080/"
        },
        "id": "O0hceIYmS5Wi",
        "outputId": "dddbbd49-5f7c-4838-bbf4-39585215ae67"
      },
      "source": [
        "import tensorflow as tf\n",
        "device_name = tf.test.gpu_device_name()\n",
        "if device_name != '/device:GPU:0':\n",
        "  raise SystemError('GPU device not found')\n",
        "print('Found GPU at: {}'.format(device_name))"
      ],
      "execution_count": null,
      "outputs": [
        {
          "output_type": "stream",
          "name": "stdout",
          "text": [
            "Found GPU at: /device:GPU:0\n"
          ]
        }
      ]
    },
    {
      "cell_type": "code",
      "metadata": {
        "id": "IYAUTUMSTRsR"
      },
      "source": [
        "import numpy as np\n",
        "import pandas as pd\n",
        "import matplotlib.pyplot as plt\n",
        "%matplotlib inline\n",
        "\n",
        "import tensorflow as tf"
      ],
      "execution_count": null,
      "outputs": []
    },
    {
      "cell_type": "code",
      "metadata": {
        "id": "O_CBzhuEZQO2",
        "colab": {
          "base_uri": "https://localhost:8080/"
        },
        "outputId": "bfa78045-15c3-4909-e549-6b8aba61870b"
      },
      "source": [
        "from google.colab import drive\n",
        "drive.mount('/content/drive')"
      ],
      "execution_count": null,
      "outputs": [
        {
          "output_type": "stream",
          "name": "stdout",
          "text": [
            "Mounted at /content/drive\n"
          ]
        }
      ]
    },
    {
      "cell_type": "code",
      "metadata": {
        "id": "BmFCiqVG79kW",
        "colab": {
          "base_uri": "https://localhost:8080/"
        },
        "outputId": "e9e60774-e66d-48a2-aa00-f1a37b72cf0f"
      },
      "source": [
        "%cd /content/drive/My Drive/Colab Notebooks/"
      ],
      "execution_count": null,
      "outputs": [
        {
          "output_type": "stream",
          "name": "stdout",
          "text": [
            "/content/drive/My Drive/Colab Notebooks\n"
          ]
        }
      ]
    },
    {
      "cell_type": "markdown",
      "metadata": {
        "id": "PrTad-F1_nbp"
      },
      "source": [
        "# **Load Images from Dataset**"
      ]
    },
    {
      "cell_type": "code",
      "metadata": {
        "id": "pIKV0r7m80Nd"
      },
      "source": [
        "images = np.load('pathmnist.npz')"
      ],
      "execution_count": null,
      "outputs": []
    },
    {
      "cell_type": "code",
      "metadata": {
        "id": "Jt1lqe8C8-AA"
      },
      "source": [
        "x_train = images['train_images']\n",
        "x_test = images['test_images']\n",
        "y_train = images['train_labels']\n",
        "y_test = images['test_labels']"
      ],
      "execution_count": null,
      "outputs": []
    },
    {
      "cell_type": "markdown",
      "metadata": {
        "id": "4n0fZSgt_r0-"
      },
      "source": [
        "# **EDA**"
      ]
    },
    {
      "cell_type": "code",
      "metadata": {
        "colab": {
          "base_uri": "https://localhost:8080/"
        },
        "id": "LPL6zGtT-Vz9",
        "outputId": "3c06f211-aed9-438c-8c04-1a02056b2485"
      },
      "source": [
        "x_train.shape"
      ],
      "execution_count": null,
      "outputs": [
        {
          "output_type": "execute_result",
          "data": {
            "text/plain": [
              "(89996, 28, 28, 3)"
            ]
          },
          "metadata": {},
          "execution_count": 7
        }
      ]
    },
    {
      "cell_type": "code",
      "metadata": {
        "id": "DvUL4RpL-ZpO"
      },
      "source": [
        "#around 90k images, 28x28, 3 color channels"
      ],
      "execution_count": null,
      "outputs": []
    },
    {
      "cell_type": "code",
      "metadata": {
        "colab": {
          "base_uri": "https://localhost:8080/",
          "height": 282
        },
        "id": "q8HE9mpx_IXr",
        "outputId": "d6b9fa07-ddc4-4b11-dbf2-6dfea41fff31"
      },
      "source": [
        "plt.imshow(x_train[0])"
      ],
      "execution_count": null,
      "outputs": [
        {
          "output_type": "execute_result",
          "data": {
            "text/plain": [
              "<matplotlib.image.AxesImage at 0x7fc4303aebd0>"
            ]
          },
          "metadata": {},
          "execution_count": 9
        },
        {
          "output_type": "display_data",
          "data": {
            "image/png": "[encoded data removed]",
            "text/plain": [
              "<Figure size 432x288 with 1 Axes>"
            ]
          },
          "metadata": {
            "needs_background": "light"
          }
        }
      ]
    },
    {
      "cell_type": "code",
      "metadata": {
        "colab": {
          "base_uri": "https://localhost:8080/"
        },
        "id": "dCKqu70v_NOZ",
        "outputId": "32f350b8-a933-4dc1-d2ab-6e034ec5b4b5"
      },
      "source": [
        "y_train.shape"
      ],
      "execution_count": null,
      "outputs": [
        {
          "output_type": "execute_result",
          "data": {
            "text/plain": [
              "(89996, 1)"
            ]
          },
          "metadata": {},
          "execution_count": 10
        }
      ]
    },
    {
      "cell_type": "code",
      "metadata": {
        "colab": {
          "base_uri": "https://localhost:8080/"
        },
        "id": "_m3NfUzk_vLw",
        "outputId": "d1110fac-3d03-4dfa-f16f-2d5c5e11a267"
      },
      "source": [
        "y_train[0]"
      ],
      "execution_count": null,
      "outputs": [
        {
          "output_type": "execute_result",
          "data": {
            "text/plain": [
              "array([0], dtype=uint8)"
            ]
          },
          "metadata": {},
          "execution_count": 11
        }
      ]
    },
    {
      "cell_type": "code",
      "metadata": {
        "colab": {
          "base_uri": "https://localhost:8080/"
        },
        "id": "fer_AnGg_xvi",
        "outputId": "d5c797b2-79aa-4a75-c563-26f2063b0fd3"
      },
      "source": [
        "x_train.max()"
      ],
      "execution_count": null,
      "outputs": [
        {
          "output_type": "execute_result",
          "data": {
            "text/plain": [
              "255"
            ]
          },
          "metadata": {},
          "execution_count": 12
        }
      ]
    },
    {
      "cell_type": "code",
      "metadata": {
        "colab": {
          "base_uri": "https://localhost:8080/"
        },
        "id": "F1mdFLXfAB5d",
        "outputId": "4615312f-c088-4596-cb51-a0c9dfe0794c"
      },
      "source": [
        "y_train.max()"
      ],
      "execution_count": null,
      "outputs": [
        {
          "output_type": "execute_result",
          "data": {
            "text/plain": [
              "8"
            ]
          },
          "metadata": {},
          "execution_count": 13
        }
      ]
    },
    {
      "cell_type": "markdown",
      "metadata": {
        "id": "zTjLZGSOAIYg"
      },
      "source": [
        "# **Data Preprocessing**"
      ]
    },
    {
      "cell_type": "code",
      "metadata": {
        "id": "Q68YcKdMADHr"
      },
      "source": [
        "x_train = x_train/255\n",
        "x_test = x_test/255"
      ],
      "execution_count": null,
      "outputs": []
    },
    {
      "cell_type": "code",
      "metadata": {
        "id": "DUujPxT6AqSa"
      },
      "source": [
        "from tensorflow.keras.utils import to_categorical"
      ],
      "execution_count": null,
      "outputs": []
    },
    {
      "cell_type": "code",
      "metadata": {
        "id": "XeAeDecrAwFu"
      },
      "source": [
        "#one hot encoding\n",
        "y_cat_train = to_categorical(y_train)"
      ],
      "execution_count": null,
      "outputs": []
    },
    {
      "cell_type": "code",
      "metadata": {
        "id": "hW6FJnNwA0i_"
      },
      "source": [
        "y_cat_test = to_categorical(y_test)"
      ],
      "execution_count": null,
      "outputs": []
    },
    {
      "cell_type": "code",
      "metadata": {
        "colab": {
          "base_uri": "https://localhost:8080/"
        },
        "id": "Mc46ah1_A2g7",
        "outputId": "62394212-f12e-4d81-ba6b-299d1c4686be"
      },
      "source": [
        "y_cat_train.shape"
      ],
      "execution_count": null,
      "outputs": [
        {
          "output_type": "execute_result",
          "data": {
            "text/plain": [
              "(89996, 9)"
            ]
          },
          "metadata": {},
          "execution_count": 18
        }
      ]
    },
    {
      "cell_type": "code",
      "metadata": {
        "colab": {
          "base_uri": "https://localhost:8080/"
        },
        "id": "Myg9-hSPA5dO",
        "outputId": "fa29269e-dae4-4323-ee1a-975da860ce39"
      },
      "source": [
        "y_cat_test.shape"
      ],
      "execution_count": null,
      "outputs": [
        {
          "output_type": "execute_result",
          "data": {
            "text/plain": [
              "(7180, 9)"
            ]
          },
          "metadata": {},
          "execution_count": 19
        }
      ]
    },
    {
      "cell_type": "markdown",
      "metadata": {
        "id": "FBOztJ8WBHJM"
      },
      "source": [
        "## **Build Model**"
      ]
    },
    {
      "cell_type": "code",
      "metadata": {
        "id": "nKl79DNdA6yL"
      },
      "source": [
        "from tensorflow.keras.models import Sequential\n",
        "from tensorflow.keras.layers import Dense, Conv2D, MaxPool2D, Flatten, ZeroPadding2D"
      ],
      "execution_count": null,
      "outputs": []
    },
    {
      "cell_type": "code",
      "metadata": {
        "id": "SDTGXbpuBlsC"
      },
      "source": [
        "model = Sequential()\n",
        "\n",
        "model.add(Conv2D(input_shape=(28,28,3),filters=64,kernel_size=(3,3),padding=\"same\", activation=\"relu\"))\n",
        "model.add(Conv2D(filters=64,kernel_size=(3,3),padding=\"same\", activation=\"relu\"))\n",
        "model.add(MaxPool2D(pool_size=(2,2),strides=(2,2)))\n",
        "\n",
        "model.add(Conv2D(filters=128, kernel_size=(3,3), padding=\"same\", activation=\"relu\"))\n",
        "model.add(Conv2D(filters=128, kernel_size=(3,3), padding=\"same\", activation=\"relu\"))\n",
        "model.add(MaxPool2D(pool_size=(2,2),strides=(2,2)))\n",
        "\n",
        "model.add(Conv2D(filters=256, kernel_size=(3,3), padding=\"same\", activation=\"relu\"))\n",
        "model.add(Conv2D(filters=256, kernel_size=(3,3), padding=\"same\", activation=\"relu\"))\n",
        "model.add(Conv2D(filters=256, kernel_size=(3,3), padding=\"same\", activation=\"relu\"))\n",
        "model.add(MaxPool2D(pool_size=(2,2),strides=(2,2)))\n",
        "\n",
        "model.add(Conv2D(filters=512, kernel_size=(3,3), padding=\"same\", activation=\"relu\"))\n",
        "model.add(Conv2D(filters=512, kernel_size=(3,3), padding=\"same\", activation=\"relu\"))\n",
        "model.add(Conv2D(filters=512, kernel_size=(3,3), padding=\"same\", activation=\"relu\"))\n",
        "model.add(MaxPool2D(pool_size=(2,2),strides=(2,2)))\n",
        "\n",
        "model.add(Conv2D(filters=512, kernel_size=(3,3), padding=\"same\", activation=\"relu\"))\n",
        "model.add(Conv2D(filters=512, kernel_size=(3,3), padding=\"same\", activation=\"relu\"))\n",
        "model.add(Conv2D(filters=512, kernel_size=(3,3), padding=\"same\", activation=\"relu\"))\n",
        "model.add(MaxPool2D(pool_size=(2,2),strides=(2,2), padding='same'))\n",
        "\n",
        "model.add(Flatten())\n",
        "\n",
        "model.add(Dense(units=4096,activation=\"relu\"))\n",
        "model.add(Dense(units=4096,activation=\"relu\"))\n",
        "\n",
        "model.add(Dense(units=9, activation=\"softmax\"))\n",
        "\n",
        "opt = tf.keras.optimizers.Adam(learning_rate=1e-05)\n",
        "model.compile(optimizer=opt, loss='categorical_crossentropy', metrics=['accuracy'])"
      ],
      "execution_count": null,
      "outputs": []
    },
    {
      "cell_type": "code",
      "metadata": {
        "colab": {
          "base_uri": "https://localhost:8080/"
        },
        "id": "6bUnpqVHNNLx",
        "outputId": "3741757e-86dc-4dd5-87d2-f3be045cc902"
      },
      "source": [
        "model.summary()"
      ],
      "execution_count": null,
      "outputs": [
        {
          "output_type": "stream",
          "name": "stdout",
          "text": [
            "Model: \"sequential\"\n",
            "_________________________________________________________________\n",
            " Layer (type)                Output Shape              Param #   \n",
            "=================================================================\n",
            " conv2d (Conv2D)             (None, 28, 28, 64)        1792      \n",
            "                                                                 \n",
            " conv2d_1 (Conv2D)           (None, 28, 28, 64)        36928     \n",
            "                                                                 \n",
            " max_pooling2d (MaxPooling2D  (None, 14, 14, 64)       0         \n",
            " )                                                               \n",
            "                                                                 \n",
            " conv2d_2 (Conv2D)           (None, 14, 14, 128)       73856     \n",
            "                                                                 \n",
            " conv2d_3 (Conv2D)           (None, 14, 14, 128)       147584    \n",
            "                                                                 \n",
            " max_pooling2d_1 (MaxPooling  (None, 7, 7, 128)        0         \n",
            " 2D)                                                             \n",
            "                                                                 \n",
            " conv2d_4 (Conv2D)           (None, 7, 7, 256)         295168    \n",
            "                                                                 \n",
            " conv2d_5 (Conv2D)           (None, 7, 7, 256)         590080    \n",
            "                                                                 \n",
            " conv2d_6 (Conv2D)           (None, 7, 7, 256)         590080    \n",
            "                                                                 \n",
            " max_pooling2d_2 (MaxPooling  (None, 3, 3, 256)        0         \n",
            " 2D)                                                             \n",
            "                                                                 \n",
            " conv2d_7 (Conv2D)           (None, 3, 3, 512)         1180160   \n",
            "                                                                 \n",
            " conv2d_8 (Conv2D)           (None, 3, 3, 512)         2359808   \n",
            "                                                                 \n",
            " conv2d_9 (Conv2D)           (None, 3, 3, 512)         2359808   \n",
            "                                                                 \n",
            " max_pooling2d_3 (MaxPooling  (None, 1, 1, 512)        0         \n",
            " 2D)                                                             \n",
            "                                                                 \n",
            " conv2d_10 (Conv2D)          (None, 1, 1, 512)         2359808   \n",
            "                                                                 \n",
            " conv2d_11 (Conv2D)          (None, 1, 1, 512)         2359808   \n",
            "                                                                 \n",
            " conv2d_12 (Conv2D)          (None, 1, 1, 512)         2359808   \n",
            "                                                                 \n",
            " max_pooling2d_4 (MaxPooling  (None, 1, 1, 512)        0         \n",
            " 2D)                                                             \n",
            "                                                                 \n",
            " flatten (Flatten)           (None, 512)               0         \n",
            "                                                                 \n",
            " dense (Dense)               (None, 4096)              2101248   \n",
            "                                                                 \n",
            " dense_1 (Dense)             (None, 4096)              16781312  \n",
            "                                                                 \n",
            " dense_2 (Dense)             (None, 9)                 36873     \n",
            "                                                                 \n",
            "=================================================================\n",
            "Total params: 33,634,121\n",
            "Trainable params: 33,634,121\n",
            "Non-trainable params: 0\n",
            "_________________________________________________________________\n"
          ]
        }
      ]
    },
    {
      "cell_type": "markdown",
      "metadata": {
        "id": "fBW3uEZJNn6T"
      },
      "source": [
        "# **Train Model**"
      ]
    },
    {
      "cell_type": "code",
      "metadata": {
        "id": "5wF-Q9NBNTNp"
      },
      "source": [
        "from tensorflow.keras.callbacks import EarlyStopping"
      ],
      "execution_count": null,
      "outputs": []
    },
    {
      "cell_type": "code",
      "metadata": {
        "id": "CH1q9IfpOKXq"
      },
      "source": [
        "early_stop = EarlyStopping(monitor='val_loss', patience=20)"
      ],
      "execution_count": null,
      "outputs": []
    },
    {
      "cell_type": "code",
      "metadata": {
        "colab": {
          "base_uri": "https://localhost:8080/"
        },
        "id": "XaArowUwOM43",
        "outputId": "531298fc-2110-4fb9-b63b-91ecae129d04"
      },
      "source": [
        "model.fit(x_train, y_cat_train, epochs=50, validation_data=(x_test, y_cat_test), batch_size=128, callbacks=[early_stop])"
      ],
      "execution_count": null,
      "outputs": [
        {
          "output_type": "stream",
          "name": "stdout",
          "text": [
            "Epoch 1/50\n",
            "704/704 [==============================] - 96s 121ms/step - loss: 2.0874 - accuracy: 0.1790 - val_loss: 1.5813 - val_accuracy: 0.4671\n",
            "Epoch 2/50\n",
            "704/704 [==============================] - 84s 119ms/step - loss: 1.4577 - accuracy: 0.4363 - val_loss: 1.2156 - val_accuracy: 0.5638\n",
            "Epoch 3/50\n",
            "704/704 [==============================] - 84s 119ms/step - loss: 1.2988 - accuracy: 0.4976 - val_loss: 1.1030 - val_accuracy: 0.5937\n",
            "Epoch 4/50\n",
            "704/704 [==============================] - 84s 120ms/step - loss: 1.2393 - accuracy: 0.5213 - val_loss: 1.0371 - val_accuracy: 0.6425\n",
            "Epoch 5/50\n",
            "704/704 [==============================] - 84s 119ms/step - loss: 1.1998 - accuracy: 0.5394 - val_loss: 1.0381 - val_accuracy: 0.6467\n",
            "Epoch 6/50\n",
            "704/704 [==============================] - 84s 119ms/step - loss: 1.1646 - accuracy: 0.5564 - val_loss: 1.2279 - val_accuracy: 0.5631\n",
            "Epoch 7/50\n",
            "704/704 [==============================] - 84s 119ms/step - loss: 1.1315 - accuracy: 0.5693 - val_loss: 1.0429 - val_accuracy: 0.6319\n",
            "Epoch 8/50\n",
            "704/704 [==============================] - 84s 119ms/step - loss: 1.0864 - accuracy: 0.5828 - val_loss: 1.1864 - val_accuracy: 0.5623\n",
            "Epoch 9/50\n",
            "704/704 [==============================] - 84s 119ms/step - loss: 1.0480 - accuracy: 0.6001 - val_loss: 1.0944 - val_accuracy: 0.6269\n",
            "Epoch 10/50\n",
            "704/704 [==============================] - 84s 119ms/step - loss: 1.0010 - accuracy: 0.6175 - val_loss: 0.9832 - val_accuracy: 0.6689\n",
            "Epoch 11/50\n",
            "704/704 [==============================] - 83s 119ms/step - loss: 0.9633 - accuracy: 0.6320 - val_loss: 1.0253 - val_accuracy: 0.6636\n",
            "Epoch 12/50\n",
            "704/704 [==============================] - 83s 119ms/step - loss: 0.9278 - accuracy: 0.6445 - val_loss: 1.2009 - val_accuracy: 0.6219\n",
            "Epoch 13/50\n",
            "704/704 [==============================] - 84s 120ms/step - loss: 0.9025 - accuracy: 0.6552 - val_loss: 1.0254 - val_accuracy: 0.6702\n",
            "Epoch 14/50\n",
            "704/704 [==============================] - 84s 119ms/step - loss: 0.8612 - accuracy: 0.6698 - val_loss: 0.9794 - val_accuracy: 0.6599\n",
            "Epoch 15/50\n",
            "704/704 [==============================] - 84s 119ms/step - loss: 0.8455 - accuracy: 0.6739 - val_loss: 1.1442 - val_accuracy: 0.6031\n",
            "Epoch 16/50\n",
            "704/704 [==============================] - 84s 119ms/step - loss: 0.8106 - accuracy: 0.6878 - val_loss: 0.9071 - val_accuracy: 0.7071\n",
            "Epoch 17/50\n",
            "704/704 [==============================] - 84s 119ms/step - loss: 0.7871 - accuracy: 0.6962 - val_loss: 1.2443 - val_accuracy: 0.6028\n",
            "Epoch 18/50\n",
            "704/704 [==============================] - 84s 119ms/step - loss: 0.7773 - accuracy: 0.7002 - val_loss: 0.9388 - val_accuracy: 0.7120\n",
            "Epoch 19/50\n",
            "704/704 [==============================] - 84s 119ms/step - loss: 0.7589 - accuracy: 0.7061 - val_loss: 0.8909 - val_accuracy: 0.7216\n",
            "Epoch 20/50\n",
            "704/704 [==============================] - 84s 119ms/step - loss: 0.7426 - accuracy: 0.7127 - val_loss: 0.8603 - val_accuracy: 0.7364\n",
            "Epoch 21/50\n",
            "704/704 [==============================] - 84s 119ms/step - loss: 0.7312 - accuracy: 0.7171 - val_loss: 0.8238 - val_accuracy: 0.7499\n",
            "Epoch 22/50\n",
            "704/704 [==============================] - 84s 119ms/step - loss: 0.7176 - accuracy: 0.7229 - val_loss: 0.9024 - val_accuracy: 0.7274\n",
            "Epoch 23/50\n",
            "704/704 [==============================] - 84s 119ms/step - loss: 0.7028 - accuracy: 0.7279 - val_loss: 0.8330 - val_accuracy: 0.7486\n",
            "Epoch 24/50\n",
            "704/704 [==============================] - 84s 119ms/step - loss: 0.6904 - accuracy: 0.7350 - val_loss: 0.8989 - val_accuracy: 0.7209\n",
            "Epoch 25/50\n",
            "704/704 [==============================] - 84s 119ms/step - loss: 0.6738 - accuracy: 0.7416 - val_loss: 0.9738 - val_accuracy: 0.6982\n",
            "Epoch 26/50\n",
            "704/704 [==============================] - 84s 119ms/step - loss: 0.6763 - accuracy: 0.7409 - val_loss: 0.9385 - val_accuracy: 0.7071\n",
            "Epoch 27/50\n",
            "704/704 [==============================] - 84s 119ms/step - loss: 0.6591 - accuracy: 0.7469 - val_loss: 0.9601 - val_accuracy: 0.6979\n",
            "Epoch 28/50\n",
            "704/704 [==============================] - 84s 119ms/step - loss: 0.6476 - accuracy: 0.7543 - val_loss: 0.7941 - val_accuracy: 0.7570\n",
            "Epoch 29/50\n",
            "704/704 [==============================] - 84s 119ms/step - loss: 0.6373 - accuracy: 0.7582 - val_loss: 0.8081 - val_accuracy: 0.7496\n",
            "Epoch 30/50\n",
            "704/704 [==============================] - 84s 119ms/step - loss: 0.6286 - accuracy: 0.7627 - val_loss: 0.7318 - val_accuracy: 0.7712\n",
            "Epoch 31/50\n",
            "704/704 [==============================] - 84s 119ms/step - loss: 0.6131 - accuracy: 0.7677 - val_loss: 0.8119 - val_accuracy: 0.7461\n",
            "Epoch 32/50\n",
            "704/704 [==============================] - 84s 119ms/step - loss: 0.6049 - accuracy: 0.7723 - val_loss: 0.7570 - val_accuracy: 0.7614\n",
            "Epoch 33/50\n",
            "704/704 [==============================] - 85s 120ms/step - loss: 0.5944 - accuracy: 0.7770 - val_loss: 0.7211 - val_accuracy: 0.7772\n",
            "Epoch 34/50\n",
            "704/704 [==============================] - 84s 119ms/step - loss: 0.5879 - accuracy: 0.7800 - val_loss: 0.8345 - val_accuracy: 0.7540\n",
            "Epoch 35/50\n",
            "704/704 [==============================] - 84s 119ms/step - loss: 0.5887 - accuracy: 0.7797 - val_loss: 0.7639 - val_accuracy: 0.7426\n",
            "Epoch 36/50\n",
            "704/704 [==============================] - 84s 119ms/step - loss: 0.5669 - accuracy: 0.7869 - val_loss: 0.7504 - val_accuracy: 0.7696\n",
            "Epoch 37/50\n",
            "704/704 [==============================] - 84s 119ms/step - loss: 0.5647 - accuracy: 0.7882 - val_loss: 0.7144 - val_accuracy: 0.7834\n",
            "Epoch 38/50\n",
            "704/704 [==============================] - 84s 119ms/step - loss: 0.5477 - accuracy: 0.7938 - val_loss: 0.6598 - val_accuracy: 0.7955\n",
            "Epoch 39/50\n",
            "704/704 [==============================] - 84s 119ms/step - loss: 0.5360 - accuracy: 0.7976 - val_loss: 0.6601 - val_accuracy: 0.7961\n",
            "Epoch 40/50\n",
            "704/704 [==============================] - 84s 119ms/step - loss: 0.5277 - accuracy: 0.7994 - val_loss: 0.6414 - val_accuracy: 0.8047\n",
            "Epoch 41/50\n",
            "704/704 [==============================] - 84s 119ms/step - loss: 0.5211 - accuracy: 0.8011 - val_loss: 0.6080 - val_accuracy: 0.8149\n",
            "Epoch 42/50\n",
            "704/704 [==============================] - 84s 119ms/step - loss: 0.5090 - accuracy: 0.8064 - val_loss: 0.7059 - val_accuracy: 0.7681\n",
            "Epoch 43/50\n",
            "704/704 [==============================] - 84s 119ms/step - loss: 0.4996 - accuracy: 0.8092 - val_loss: 0.5647 - val_accuracy: 0.8345\n",
            "Epoch 44/50\n",
            "704/704 [==============================] - 84s 119ms/step - loss: 0.4886 - accuracy: 0.8133 - val_loss: 0.7062 - val_accuracy: 0.7866\n",
            "Epoch 45/50\n",
            "704/704 [==============================] - 84s 119ms/step - loss: 0.4879 - accuracy: 0.8145 - val_loss: 0.6302 - val_accuracy: 0.8146\n",
            "Epoch 46/50\n",
            "704/704 [==============================] - 84s 119ms/step - loss: 0.4755 - accuracy: 0.8188 - val_loss: 0.6111 - val_accuracy: 0.8171\n",
            "Epoch 47/50\n",
            "704/704 [==============================] - 84s 119ms/step - loss: 0.4663 - accuracy: 0.8224 - val_loss: 0.6471 - val_accuracy: 0.8109\n",
            "Epoch 48/50\n",
            "704/704 [==============================] - 84s 119ms/step - loss: 0.4558 - accuracy: 0.8267 - val_loss: 0.7073 - val_accuracy: 0.7880\n",
            "Epoch 49/50\n",
            "704/704 [==============================] - 84s 119ms/step - loss: 0.4551 - accuracy: 0.8279 - val_loss: 0.6285 - val_accuracy: 0.8166\n",
            "Epoch 50/50\n",
            "704/704 [==============================] - 84s 119ms/step - loss: 0.4433 - accuracy: 0.8339 - val_loss: 0.5956 - val_accuracy: 0.8270\n"
          ]
        },
        {
          "output_type": "execute_result",
          "data": {
            "text/plain": [
              "<keras.callbacks.History at 0x7fc4300b8a10>"
            ]
          },
          "metadata": {},
          "execution_count": 26
        }
      ]
    },
    {
      "cell_type": "markdown",
      "metadata": {
        "id": "ynPpMwJkS0yf"
      },
      "source": [
        "# **Evaluate Model**"
      ]
    },
    {
      "cell_type": "code",
      "metadata": {
        "id": "jgZuICxoOkSG"
      },
      "source": [
        "metrics = pd.DataFrame(model.history.history)"
      ],
      "execution_count": null,
      "outputs": []
    },
    {
      "cell_type": "code",
      "metadata": {
        "id": "Y9qm1q6US6zl",
        "colab": {
          "base_uri": "https://localhost:8080/",
          "height": 1000
        },
        "outputId": "97292b20-17b7-4295-bbd5-8b9f8a706105"
      },
      "source": [
        "metrics"
      ],
      "execution_count": null,
      "outputs": [
        {
          "output_type": "execute_result",
          "data": {
            "text/html": [
              "<div>\n",
              "<style scoped>\n",
              "    .dataframe tbody tr th:only-of-type {\n",
              "        vertical-align: middle;\n",
              "    }\n",
              "\n",
              "    .dataframe tbody tr th {\n",
              "        vertical-align: top;\n",
              "    }\n",
              "\n",
              "    .dataframe thead th {\n",
              "        text-align: right;\n",
              "    }\n",
              "</style>\n",
              "<table border=\"1\" class=\"dataframe\">\n",
              "  <thead>\n",
              "    <tr style=\"text-align: right;\">\n",
              "      <th></th>\n",
              "      <th>loss</th>\n",
              "      <th>accuracy</th>\n",
              "      <th>val_loss</th>\n",
              "      <th>val_accuracy</th>\n",
              "    </tr>\n",
              "  </thead>\n",
              "  <tbody>\n",
              "    <tr>\n",
              "      <th>0</th>\n",
              "      <td>2.087393</td>\n",
              "      <td>0.178952</td>\n",
              "      <td>1.581312</td>\n",
              "      <td>0.467131</td>\n",
              "    </tr>\n",
              "    <tr>\n",
              "      <th>1</th>\n",
              "      <td>1.457685</td>\n",
              "      <td>0.436330</td>\n",
              "      <td>1.215594</td>\n",
              "      <td>0.563788</td>\n",
              "    </tr>\n",
              "    <tr>\n",
              "      <th>2</th>\n",
              "      <td>1.298819</td>\n",
              "      <td>0.497611</td>\n",
              "      <td>1.103042</td>\n",
              "      <td>0.593733</td>\n",
              "    </tr>\n",
              "    <tr>\n",
              "      <th>3</th>\n",
              "      <td>1.239283</td>\n",
              "      <td>0.521345</td>\n",
              "      <td>1.037065</td>\n",
              "      <td>0.642479</td>\n",
              "    </tr>\n",
              "    <tr>\n",
              "      <th>4</th>\n",
              "      <td>1.199841</td>\n",
              "      <td>0.539413</td>\n",
              "      <td>1.038083</td>\n",
              "      <td>0.646657</td>\n",
              "    </tr>\n",
              "    <tr>\n",
              "      <th>5</th>\n",
              "      <td>1.164626</td>\n",
              "      <td>0.556403</td>\n",
              "      <td>1.227863</td>\n",
              "      <td>0.563092</td>\n",
              "    </tr>\n",
              "    <tr>\n",
              "      <th>6</th>\n",
              "      <td>1.131519</td>\n",
              "      <td>0.569348</td>\n",
              "      <td>1.042920</td>\n",
              "      <td>0.631894</td>\n",
              "    </tr>\n",
              "    <tr>\n",
              "      <th>7</th>\n",
              "      <td>1.086400</td>\n",
              "      <td>0.582815</td>\n",
              "      <td>1.186385</td>\n",
              "      <td>0.562256</td>\n",
              "    </tr>\n",
              "    <tr>\n",
              "      <th>8</th>\n",
              "      <td>1.047996</td>\n",
              "      <td>0.600149</td>\n",
              "      <td>1.094375</td>\n",
              "      <td>0.626880</td>\n",
              "    </tr>\n",
              "    <tr>\n",
              "      <th>9</th>\n",
              "      <td>1.001039</td>\n",
              "      <td>0.617483</td>\n",
              "      <td>0.983161</td>\n",
              "      <td>0.668941</td>\n",
              "    </tr>\n",
              "    <tr>\n",
              "      <th>10</th>\n",
              "      <td>0.963320</td>\n",
              "      <td>0.631995</td>\n",
              "      <td>1.025251</td>\n",
              "      <td>0.663649</td>\n",
              "    </tr>\n",
              "    <tr>\n",
              "      <th>11</th>\n",
              "      <td>0.927753</td>\n",
              "      <td>0.644540</td>\n",
              "      <td>1.200869</td>\n",
              "      <td>0.621866</td>\n",
              "    </tr>\n",
              "    <tr>\n",
              "      <th>12</th>\n",
              "      <td>0.902501</td>\n",
              "      <td>0.655162</td>\n",
              "      <td>1.025447</td>\n",
              "      <td>0.670195</td>\n",
              "    </tr>\n",
              "    <tr>\n",
              "      <th>13</th>\n",
              "      <td>0.861174</td>\n",
              "      <td>0.669808</td>\n",
              "      <td>0.979407</td>\n",
              "      <td>0.659889</td>\n",
              "    </tr>\n",
              "    <tr>\n",
              "      <th>14</th>\n",
              "      <td>0.845532</td>\n",
              "      <td>0.673919</td>\n",
              "      <td>1.144167</td>\n",
              "      <td>0.603064</td>\n",
              "    </tr>\n",
              "    <tr>\n",
              "      <th>15</th>\n",
              "      <td>0.810627</td>\n",
              "      <td>0.687808</td>\n",
              "      <td>0.907056</td>\n",
              "      <td>0.707103</td>\n",
              "    </tr>\n",
              "    <tr>\n",
              "      <th>16</th>\n",
              "      <td>0.787143</td>\n",
              "      <td>0.696209</td>\n",
              "      <td>1.244256</td>\n",
              "      <td>0.602786</td>\n",
              "    </tr>\n",
              "    <tr>\n",
              "      <th>17</th>\n",
              "      <td>0.777339</td>\n",
              "      <td>0.700220</td>\n",
              "      <td>0.938848</td>\n",
              "      <td>0.711978</td>\n",
              "    </tr>\n",
              "    <tr>\n",
              "      <th>18</th>\n",
              "      <td>0.758937</td>\n",
              "      <td>0.706076</td>\n",
              "      <td>0.890862</td>\n",
              "      <td>0.721588</td>\n",
              "    </tr>\n",
              "    <tr>\n",
              "      <th>19</th>\n",
              "      <td>0.742588</td>\n",
              "      <td>0.712654</td>\n",
              "      <td>0.860254</td>\n",
              "      <td>0.736351</td>\n",
              "    </tr>\n",
              "    <tr>\n",
              "      <th>20</th>\n",
              "      <td>0.731207</td>\n",
              "      <td>0.717065</td>\n",
              "      <td>0.823798</td>\n",
              "      <td>0.749861</td>\n",
              "    </tr>\n",
              "    <tr>\n",
              "      <th>21</th>\n",
              "      <td>0.717636</td>\n",
              "      <td>0.722854</td>\n",
              "      <td>0.902415</td>\n",
              "      <td>0.727437</td>\n",
              "    </tr>\n",
              "    <tr>\n",
              "      <th>22</th>\n",
              "      <td>0.702781</td>\n",
              "      <td>0.727866</td>\n",
              "      <td>0.833014</td>\n",
              "      <td>0.748607</td>\n",
              "    </tr>\n",
              "    <tr>\n",
              "      <th>23</th>\n",
              "      <td>0.690371</td>\n",
              "      <td>0.735022</td>\n",
              "      <td>0.898850</td>\n",
              "      <td>0.720891</td>\n",
              "    </tr>\n",
              "    <tr>\n",
              "      <th>24</th>\n",
              "      <td>0.673790</td>\n",
              "      <td>0.741600</td>\n",
              "      <td>0.973844</td>\n",
              "      <td>0.698189</td>\n",
              "    </tr>\n",
              "    <tr>\n",
              "      <th>25</th>\n",
              "      <td>0.676271</td>\n",
              "      <td>0.740866</td>\n",
              "      <td>0.938499</td>\n",
              "      <td>0.707103</td>\n",
              "    </tr>\n",
              "    <tr>\n",
              "      <th>26</th>\n",
              "      <td>0.659075</td>\n",
              "      <td>0.746855</td>\n",
              "      <td>0.960064</td>\n",
              "      <td>0.697911</td>\n",
              "    </tr>\n",
              "    <tr>\n",
              "      <th>27</th>\n",
              "      <td>0.647628</td>\n",
              "      <td>0.754345</td>\n",
              "      <td>0.794094</td>\n",
              "      <td>0.756964</td>\n",
              "    </tr>\n",
              "    <tr>\n",
              "      <th>28</th>\n",
              "      <td>0.637317</td>\n",
              "      <td>0.758156</td>\n",
              "      <td>0.808125</td>\n",
              "      <td>0.749582</td>\n",
              "    </tr>\n",
              "    <tr>\n",
              "      <th>29</th>\n",
              "      <td>0.628578</td>\n",
              "      <td>0.762712</td>\n",
              "      <td>0.731780</td>\n",
              "      <td>0.771170</td>\n",
              "    </tr>\n",
              "    <tr>\n",
              "      <th>30</th>\n",
              "      <td>0.613126</td>\n",
              "      <td>0.767701</td>\n",
              "      <td>0.811895</td>\n",
              "      <td>0.746100</td>\n",
              "    </tr>\n",
              "    <tr>\n",
              "      <th>31</th>\n",
              "      <td>0.604853</td>\n",
              "      <td>0.772290</td>\n",
              "      <td>0.756966</td>\n",
              "      <td>0.761421</td>\n",
              "    </tr>\n",
              "    <tr>\n",
              "      <th>32</th>\n",
              "      <td>0.594406</td>\n",
              "      <td>0.777046</td>\n",
              "      <td>0.721124</td>\n",
              "      <td>0.777159</td>\n",
              "    </tr>\n",
              "    <tr>\n",
              "      <th>33</th>\n",
              "      <td>0.587852</td>\n",
              "      <td>0.779957</td>\n",
              "      <td>0.834467</td>\n",
              "      <td>0.754039</td>\n",
              "    </tr>\n",
              "    <tr>\n",
              "      <th>34</th>\n",
              "      <td>0.588678</td>\n",
              "      <td>0.779735</td>\n",
              "      <td>0.763893</td>\n",
              "      <td>0.742618</td>\n",
              "    </tr>\n",
              "    <tr>\n",
              "      <th>35</th>\n",
              "      <td>0.566941</td>\n",
              "      <td>0.786924</td>\n",
              "      <td>0.750390</td>\n",
              "      <td>0.769638</td>\n",
              "    </tr>\n",
              "    <tr>\n",
              "      <th>36</th>\n",
              "      <td>0.564734</td>\n",
              "      <td>0.788202</td>\n",
              "      <td>0.714435</td>\n",
              "      <td>0.783426</td>\n",
              "    </tr>\n",
              "    <tr>\n",
              "      <th>37</th>\n",
              "      <td>0.547660</td>\n",
              "      <td>0.793813</td>\n",
              "      <td>0.659823</td>\n",
              "      <td>0.795543</td>\n",
              "    </tr>\n",
              "    <tr>\n",
              "      <th>38</th>\n",
              "      <td>0.535976</td>\n",
              "      <td>0.797558</td>\n",
              "      <td>0.660059</td>\n",
              "      <td>0.796100</td>\n",
              "    </tr>\n",
              "    <tr>\n",
              "      <th>39</th>\n",
              "      <td>0.527715</td>\n",
              "      <td>0.799369</td>\n",
              "      <td>0.641397</td>\n",
              "      <td>0.804735</td>\n",
              "    </tr>\n",
              "    <tr>\n",
              "      <th>40</th>\n",
              "      <td>0.521110</td>\n",
              "      <td>0.801147</td>\n",
              "      <td>0.608002</td>\n",
              "      <td>0.814902</td>\n",
              "    </tr>\n",
              "    <tr>\n",
              "      <th>41</th>\n",
              "      <td>0.509043</td>\n",
              "      <td>0.806391</td>\n",
              "      <td>0.705887</td>\n",
              "      <td>0.768106</td>\n",
              "    </tr>\n",
              "    <tr>\n",
              "      <th>42</th>\n",
              "      <td>0.499630</td>\n",
              "      <td>0.809225</td>\n",
              "      <td>0.564673</td>\n",
              "      <td>0.834540</td>\n",
              "    </tr>\n",
              "    <tr>\n",
              "      <th>43</th>\n",
              "      <td>0.488600</td>\n",
              "      <td>0.813281</td>\n",
              "      <td>0.706164</td>\n",
              "      <td>0.786629</td>\n",
              "    </tr>\n",
              "    <tr>\n",
              "      <th>44</th>\n",
              "      <td>0.487894</td>\n",
              "      <td>0.814503</td>\n",
              "      <td>0.630207</td>\n",
              "      <td>0.814624</td>\n",
              "    </tr>\n",
              "    <tr>\n",
              "      <th>45</th>\n",
              "      <td>0.475520</td>\n",
              "      <td>0.818803</td>\n",
              "      <td>0.611083</td>\n",
              "      <td>0.817131</td>\n",
              "    </tr>\n",
              "    <tr>\n",
              "      <th>46</th>\n",
              "      <td>0.466280</td>\n",
              "      <td>0.822448</td>\n",
              "      <td>0.647080</td>\n",
              "      <td>0.810863</td>\n",
              "    </tr>\n",
              "    <tr>\n",
              "      <th>47</th>\n",
              "      <td>0.455812</td>\n",
              "      <td>0.826670</td>\n",
              "      <td>0.707276</td>\n",
              "      <td>0.788022</td>\n",
              "    </tr>\n",
              "    <tr>\n",
              "      <th>48</th>\n",
              "      <td>0.455133</td>\n",
              "      <td>0.827892</td>\n",
              "      <td>0.628490</td>\n",
              "      <td>0.816574</td>\n",
              "    </tr>\n",
              "    <tr>\n",
              "      <th>49</th>\n",
              "      <td>0.443282</td>\n",
              "      <td>0.833937</td>\n",
              "      <td>0.595629</td>\n",
              "      <td>0.827020</td>\n",
              "    </tr>\n",
              "  </tbody>\n",
              "</table>\n",
              "</div>"
            ],
            "text/plain": [
              "        loss  accuracy  val_loss  val_accuracy\n",
              "0   2.087393  0.178952  1.581312      0.467131\n",
              "1   1.457685  0.436330  1.215594      0.563788\n",
              "2   1.298819  0.497611  1.103042      0.593733\n",
              "3   1.239283  0.521345  1.037065      0.642479\n",
              "4   1.199841  0.539413  1.038083      0.646657\n",
              "5   1.164626  0.556403  1.227863      0.563092\n",
              "6   1.131519  0.569348  1.042920      0.631894\n",
              "7   1.086400  0.582815  1.186385      0.562256\n",
              "8   1.047996  0.600149  1.094375      0.626880\n",
              "9   1.001039  0.617483  0.983161      0.668941\n",
              "10  0.963320  0.631995  1.025251      0.663649\n",
              "11  0.927753  0.644540  1.200869      0.621866\n",
              "12  0.902501  0.655162  1.025447      0.670195\n",
              "13  0.861174  0.669808  0.979407      0.659889\n",
              "14  0.845532  0.673919  1.144167      0.603064\n",
              "15  0.810627  0.687808  0.907056      0.707103\n",
              "16  0.787143  0.696209  1.244256      0.602786\n",
              "17  0.777339  0.700220  0.938848      0.711978\n",
              "18  0.758937  0.706076  0.890862      0.721588\n",
              "19  0.742588  0.712654  0.860254      0.736351\n",
              "20  0.731207  0.717065  0.823798      0.749861\n",
              "21  0.717636  0.722854  0.902415      0.727437\n",
              "22  0.702781  0.727866  0.833014      0.748607\n",
              "23  0.690371  0.735022  0.898850      0.720891\n",
              "24  0.673790  0.741600  0.973844      0.698189\n",
              "25  0.676271  0.740866  0.938499      0.707103\n",
              "26  0.659075  0.746855  0.960064      0.697911\n",
              "27  0.647628  0.754345  0.794094      0.756964\n",
              "28  0.637317  0.758156  0.808125      0.749582\n",
              "29  0.628578  0.762712  0.731780      0.771170\n",
              "30  0.613126  0.767701  0.811895      0.746100\n",
              "31  0.604853  0.772290  0.756966      0.761421\n",
              "32  0.594406  0.777046  0.721124      0.777159\n",
              "33  0.587852  0.779957  0.834467      0.754039\n",
              "34  0.588678  0.779735  0.763893      0.742618\n",
              "35  0.566941  0.786924  0.750390      0.769638\n",
              "36  0.564734  0.788202  0.714435      0.783426\n",
              "37  0.547660  0.793813  0.659823      0.795543\n",
              "38  0.535976  0.797558  0.660059      0.796100\n",
              "39  0.527715  0.799369  0.641397      0.804735\n",
              "40  0.521110  0.801147  0.608002      0.814902\n",
              "41  0.509043  0.806391  0.705887      0.768106\n",
              "42  0.499630  0.809225  0.564673      0.834540\n",
              "43  0.488600  0.813281  0.706164      0.786629\n",
              "44  0.487894  0.814503  0.630207      0.814624\n",
              "45  0.475520  0.818803  0.611083      0.817131\n",
              "46  0.466280  0.822448  0.647080      0.810863\n",
              "47  0.455812  0.826670  0.707276      0.788022\n",
              "48  0.455133  0.827892  0.628490      0.816574\n",
              "49  0.443282  0.833937  0.595629      0.827020"
            ]
          },
          "metadata": {},
          "execution_count": 28
        }
      ]
    },
    {
      "cell_type": "code",
      "metadata": {
        "id": "iIqKYIHCS7Ri",
        "colab": {
          "base_uri": "https://localhost:8080/"
        },
        "outputId": "6b94978f-d77d-4b19-fb55-fe96d0d09035"
      },
      "source": [
        "metrics.columns"
      ],
      "execution_count": null,
      "outputs": [
        {
          "output_type": "execute_result",
          "data": {
            "text/plain": [
              "Index(['loss', 'accuracy', 'val_loss', 'val_accuracy'], dtype='object')"
            ]
          },
          "metadata": {},
          "execution_count": 29
        }
      ]
    },
    {
      "cell_type": "code",
      "metadata": {
        "id": "ocjst9KkS87_",
        "colab": {
          "base_uri": "https://localhost:8080/",
          "height": 282
        },
        "outputId": "6066a7a3-23aa-47c7-bf5b-36f384f2a43c"
      },
      "source": [
        "metrics[['accuracy', 'val_accuracy']].plot()"
      ],
      "execution_count": null,
      "outputs": [
        {
          "output_type": "execute_result",
          "data": {
            "text/plain": [
              "<matplotlib.axes._subplots.AxesSubplot at 0x7fc3b9ce5c50>"
            ]
          },
          "metadata": {},
          "execution_count": 30
        },
        {
          "output_type": "display_data",
          "data": {
            "image/png": "[encoded data removed]",
            "text/plain": [
              "<Figure size 432x288 with 1 Axes>"
            ]
          },
          "metadata": {
            "needs_background": "light"
          }
        }
      ]
    },
    {
      "cell_type": "code",
      "metadata": {
        "id": "PKdTr7TkTDGB",
        "colab": {
          "base_uri": "https://localhost:8080/",
          "height": 282
        },
        "outputId": "76d8c2be-c601-4ec3-9475-0b4125b592c2"
      },
      "source": [
        "metrics[['loss', 'val_loss']].plot()"
      ],
      "execution_count": null,
      "outputs": [
        {
          "output_type": "execute_result",
          "data": {
            "text/plain": [
              "<matplotlib.axes._subplots.AxesSubplot at 0x7fc3bb74a8d0>"
            ]
          },
          "metadata": {},
          "execution_count": 31
        },
        {
          "output_type": "display_data",
          "data": {
            "image/png": "[encoded data removed]",
            "text/plain": [
              "<Figure size 432x288 with 1 Axes>"
            ]
          },
          "metadata": {
            "needs_background": "light"
          }
        }
      ]
    },
    {
      "cell_type": "code",
      "metadata": {
        "id": "8MWqI14BTPF_"
      },
      "source": [
        "from sklearn.metrics import classification_report, confusion_matrix"
      ],
      "execution_count": null,
      "outputs": []
    },
    {
      "cell_type": "code",
      "metadata": {
        "id": "o25sn1AzTV8z"
      },
      "source": [
        "y_pred = model.predict(x_test)\n",
        "y_pred = np.argmax(y_pred,axis=1)"
      ],
      "execution_count": null,
      "outputs": []
    },
    {
      "cell_type": "code",
      "metadata": {
        "id": "zAVPAwyLTX2C",
        "colab": {
          "base_uri": "https://localhost:8080/"
        },
        "outputId": "19e3b83b-31ff-43cf-faa0-ab7d9449b877"
      },
      "source": [
        "y_pred"
      ],
      "execution_count": null,
      "outputs": [
        {
          "output_type": "execute_result",
          "data": {
            "text/plain": [
              "array([8, 4, 4, ..., 4, 8, 8])"
            ]
          },
          "metadata": {},
          "execution_count": 34
        }
      ]
    },
    {
      "cell_type": "code",
      "metadata": {
        "id": "omKSTEkjTrcF",
        "colab": {
          "base_uri": "https://localhost:8080/"
        },
        "outputId": "b4afd7c5-4846-433c-dd11-f4d9e82bd657"
      },
      "source": [
        "print(classification_report(y_pred, y_test))"
      ],
      "execution_count": null,
      "outputs": [
        {
          "output_type": "stream",
          "name": "stdout",
          "text": [
            "              precision    recall  f1-score   support\n",
            "\n",
            "           0       0.92      0.96      0.94      1289\n",
            "           1       1.00      0.87      0.93       971\n",
            "           2       0.78      0.48      0.59       559\n",
            "           3       0.88      0.86      0.87       644\n",
            "           4       0.82      0.94      0.87       896\n",
            "           5       0.69      0.69      0.69       594\n",
            "           6       0.71      0.81      0.76       648\n",
            "           7       0.37      0.62      0.46       248\n",
            "           8       0.90      0.83      0.86      1331\n",
            "\n",
            "    accuracy                           0.83      7180\n",
            "   macro avg       0.78      0.78      0.78      7180\n",
            "weighted avg       0.84      0.83      0.83      7180\n",
            "\n"
          ]
        }
      ]
    },
    {
      "cell_type": "code",
      "metadata": {
        "colab": {
          "base_uri": "https://localhost:8080/"
        },
        "id": "bLmddJeATwV9",
        "outputId": "20a6fcee-ed09-46ef-9700-a2ab69436352"
      },
      "source": [
        "print(confusion_matrix(y_pred, y_test))"
      ],
      "execution_count": null,
      "outputs": [
        {
          "output_type": "stream",
          "name": "stdout",
          "text": [
            "[[1231    0    0    0   49    2    1    6    0]\n",
            " [  24  847    0    0  100    0    0    0    0]\n",
            " [   3    0  266   42    2   80   23  114   29]\n",
            " [   2    0    9  555    0   58   11    2    7]\n",
            " [  14    0    0    0  844    0   25    4    9]\n",
            " [  59    0   48    0    4  407    5   68    3]\n",
            " [   5    0    0   19   19    2  527    6   70]\n",
            " [   0    0   10    0   15   43   16  155    9]\n",
            " [   0    0    6   18    2    0  133   66 1106]]\n"
          ]
        }
      ]
    },
    {
      "cell_type": "code",
      "metadata": {
        "id": "f7G3CFXeUMeU"
      },
      "source": [
        ""
      ],
      "execution_count": null,
      "outputs": []
    }
  ]
}