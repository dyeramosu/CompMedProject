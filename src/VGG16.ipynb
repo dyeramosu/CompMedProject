{
  "nbformat": 4,
  "nbformat_minor": 0,
  "metadata": {
    "colab": {
      "name": "VGG16.ipynb",
      "provenance": [],
      "collapsed_sections": [
        "glBy5mtx_h39",
        "PrTad-F1_nbp",
        "4n0fZSgt_r0-",
        "zTjLZGSOAIYg",
        "FBOztJ8WBHJM",
        "fBW3uEZJNn6T",
        "ynPpMwJkS0yf",
        "3Jcm7eelip4v"
      ]
    },
    "kernelspec": {
      "name": "python3",
      "display_name": "Python 3"
    },
    "language_info": {
      "name": "python"
    },
    "accelerator": "GPU"
  },
  "cells": [
    {
      "cell_type": "markdown",
      "metadata": {
        "id": "glBy5mtx_h39"
      },
      "source": [
        "# **Set up Notebook**"
      ]
    },
    {
      "cell_type": "code",
      "metadata": {
        "colab": {
          "base_uri": "https://localhost:8080/",
          "height": 218
        },
        "id": "O0hceIYmS5Wi",
        "outputId": "faa9772d-875c-41fd-e53d-6162869ba7f7"
      },
      "source": [
        "import tensorflow as tf\n",
        "device_name = tf.test.gpu_device_name()\n",
        "if device_name != '/device:GPU:0':\n",
        "  raise SystemError('GPU device not found')\n",
        "print('Found GPU at: {}'.format(device_name))"
      ],
      "execution_count": 1,
      "outputs": [
        {
          "output_type": "error",
          "ename": "SystemError",
          "evalue": "ignored",
          "traceback": [
            "\u001b[0;31m---------------------------------------------------------------------------\u001b[0m",
            "\u001b[0;31mSystemError\u001b[0m                               Traceback (most recent call last)",
            "\u001b[0;32m<ipython-input-1-d1680108c58e>\u001b[0m in \u001b[0;36m<module>\u001b[0;34m()\u001b[0m\n\u001b[1;32m      2\u001b[0m \u001b[0mdevice_name\u001b[0m \u001b[0;34m=\u001b[0m \u001b[0mtf\u001b[0m\u001b[0;34m.\u001b[0m\u001b[0mtest\u001b[0m\u001b[0;34m.\u001b[0m\u001b[0mgpu_device_name\u001b[0m\u001b[0;34m(\u001b[0m\u001b[0;34m)\u001b[0m\u001b[0;34m\u001b[0m\u001b[0;34m\u001b[0m\u001b[0m\n\u001b[1;32m      3\u001b[0m \u001b[0;32mif\u001b[0m \u001b[0mdevice_name\u001b[0m \u001b[0;34m!=\u001b[0m \u001b[0;34m'/device:GPU:0'\u001b[0m\u001b[0;34m:\u001b[0m\u001b[0;34m\u001b[0m\u001b[0;34m\u001b[0m\u001b[0m\n\u001b[0;32m----> 4\u001b[0;31m   \u001b[0;32mraise\u001b[0m \u001b[0mSystemError\u001b[0m\u001b[0;34m(\u001b[0m\u001b[0;34m'GPU device not found'\u001b[0m\u001b[0;34m)\u001b[0m\u001b[0;34m\u001b[0m\u001b[0;34m\u001b[0m\u001b[0m\n\u001b[0m\u001b[1;32m      5\u001b[0m \u001b[0mprint\u001b[0m\u001b[0;34m(\u001b[0m\u001b[0;34m'Found GPU at: {}'\u001b[0m\u001b[0;34m.\u001b[0m\u001b[0mformat\u001b[0m\u001b[0;34m(\u001b[0m\u001b[0mdevice_name\u001b[0m\u001b[0;34m)\u001b[0m\u001b[0;34m)\u001b[0m\u001b[0;34m\u001b[0m\u001b[0;34m\u001b[0m\u001b[0m\n",
            "\u001b[0;31mSystemError\u001b[0m: GPU device not found"
          ]
        }
      ]
    },
    {
      "cell_type": "code",
      "metadata": {
        "id": "IYAUTUMSTRsR"
      },
      "source": [
        "import numpy as np\n",
        "import pandas as pd\n",
        "import matplotlib.pyplot as plt\n",
        "%matplotlib inline"
      ],
      "execution_count": 2,
      "outputs": []
    },
    {
      "cell_type": "code",
      "metadata": {
        "id": "O_CBzhuEZQO2",
        "colab": {
          "base_uri": "https://localhost:8080/"
        },
        "outputId": "ab9b75ed-ce9d-4822-f2e0-34a851e76d4c"
      },
      "source": [
        "from google.colab import drive\n",
        "drive.mount('/content/drive')"
      ],
      "execution_count": 4,
      "outputs": [
        {
          "output_type": "stream",
          "name": "stdout",
          "text": [
            "Drive already mounted at /content/drive; to attempt to forcibly remount, call drive.mount(\"/content/drive\", force_remount=True).\n"
          ]
        }
      ]
    },
    {
      "cell_type": "code",
      "metadata": {
        "id": "BmFCiqVG79kW",
        "colab": {
          "base_uri": "https://localhost:8080/"
        },
        "outputId": "39b5f0e9-b96c-4425-957b-55cff51f05a2"
      },
      "source": [
        "%cd /content/drive/My Drive/Colab Notebooks/"
      ],
      "execution_count": 5,
      "outputs": [
        {
          "output_type": "stream",
          "name": "stdout",
          "text": [
            "/content/drive/My Drive/Colab Notebooks\n"
          ]
        }
      ]
    },
    {
      "cell_type": "markdown",
      "metadata": {
        "id": "PrTad-F1_nbp"
      },
      "source": [
        "# **Load Images from Dataset**"
      ]
    },
    {
      "cell_type": "code",
      "metadata": {
        "colab": {
          "base_uri": "https://localhost:8080/"
        },
        "id": "oc8up-kxabd8",
        "outputId": "2452932a-0af8-4ba2-f4b0-c8e23f1f3828"
      },
      "source": [
        "!nvidia-smi"
      ],
      "execution_count": 6,
      "outputs": [
        {
          "output_type": "stream",
          "name": "stdout",
          "text": [
            "NVIDIA-SMI has failed because it couldn't communicate with the NVIDIA driver. Make sure that the latest NVIDIA driver is installed and running.\n",
            "\n"
          ]
        }
      ]
    },
    {
      "cell_type": "code",
      "metadata": {
        "id": "pIKV0r7m80Nd"
      },
      "source": [
        "# load images\n",
        "images = np.load('pathmnist.npz')"
      ],
      "execution_count": 8,
      "outputs": []
    },
    {
      "cell_type": "code",
      "metadata": {
        "id": "Jt1lqe8C8-AA"
      },
      "source": [
        "# split data into training set and validation set\n",
        "x_train = images['train_images']\n",
        "x_val = images['val_images']\n",
        "x_test = images['test_images']\n",
        "\n",
        "y_train = images['train_labels']\n",
        "y_val = images['val_labels']\n",
        "y_test = images['test_labels']"
      ],
      "execution_count": 9,
      "outputs": []
    },
    {
      "cell_type": "markdown",
      "metadata": {
        "id": "4n0fZSgt_r0-"
      },
      "source": [
        "# **EDA**"
      ]
    },
    {
      "cell_type": "code",
      "metadata": {
        "colab": {
          "base_uri": "https://localhost:8080/",
          "height": 282
        },
        "id": "q8HE9mpx_IXr",
        "outputId": "cc447ff0-2e10-41dc-9e90-b5fb63e04d85"
      },
      "source": [
        "plt.imshow(x_train[0])"
      ],
      "execution_count": 11,
      "outputs": [
        {
          "output_type": "execute_result",
          "data": {
            "text/plain": [
              "<matplotlib.image.AxesImage at 0x7f3811fa2d50>"
            ]
          },
          "metadata": {},
          "execution_count": 11
        },
        {
          "output_type": "display_data",
          "data": {
            "image/png": "[encoded data removed]",
            "text/plain": [
              "<Figure size 432x288 with 1 Axes>"
            ]
          },
          "metadata": {
            "needs_background": "light"
          }
        }
      ]
    },
    {
      "cell_type": "code",
      "metadata": {
        "colab": {
          "base_uri": "https://localhost:8080/"
        },
        "id": "dCKqu70v_NOZ",
        "outputId": "14bba53c-e0c4-4196-89aa-5c08f795060b"
      },
      "source": [
        "print(x_train.shape)\n",
        "print(y_train.shape)"
      ],
      "execution_count": 12,
      "outputs": [
        {
          "output_type": "stream",
          "name": "stdout",
          "text": [
            "(89996, 28, 28, 3)\n",
            "(89996, 1)\n"
          ]
        }
      ]
    },
    {
      "cell_type": "code",
      "metadata": {
        "colab": {
          "base_uri": "https://localhost:8080/"
        },
        "id": "fer_AnGg_xvi",
        "outputId": "80aaf304-8d48-4f2e-8232-35661be93cba"
      },
      "source": [
        "print(x_train.max())\n",
        "print(y_train.max())"
      ],
      "execution_count": 13,
      "outputs": [
        {
          "output_type": "stream",
          "name": "stdout",
          "text": [
            "255\n",
            "8\n"
          ]
        }
      ]
    },
    {
      "cell_type": "markdown",
      "metadata": {
        "id": "zTjLZGSOAIYg"
      },
      "source": [
        "# **Data Preprocessing**"
      ]
    },
    {
      "cell_type": "code",
      "metadata": {
        "id": "DUujPxT6AqSa"
      },
      "source": [
        "from tensorflow.keras.utils import to_categorical"
      ],
      "execution_count": 15,
      "outputs": []
    },
    {
      "cell_type": "code",
      "metadata": {
        "id": "Q68YcKdMADHr"
      },
      "source": [
        "# normalize image data\n",
        "x_train = x_train/255\n",
        "x_val = x_val/255\n",
        "x_test = x_test/255"
      ],
      "execution_count": 14,
      "outputs": []
    },
    {
      "cell_type": "code",
      "metadata": {
        "id": "XeAeDecrAwFu"
      },
      "source": [
        "#one hot encoding\n",
        "y_cat_train = to_categorical(y_train)\n",
        "y_cat_val = to_categorical(y_val)\n",
        "y_cat_test = to_categorical(y_test)"
      ],
      "execution_count": 16,
      "outputs": []
    },
    {
      "cell_type": "code",
      "metadata": {
        "colab": {
          "base_uri": "https://localhost:8080/"
        },
        "id": "Mc46ah1_A2g7",
        "outputId": "41ec86e5-dfd1-4ec2-fe9e-ef5f5944d7e4"
      },
      "source": [
        "print(y_cat_train.shape)\n",
        "print(y_cat_val.shape)\n",
        "print(y_cat_test.shape)"
      ],
      "execution_count": 17,
      "outputs": [
        {
          "output_type": "stream",
          "name": "stdout",
          "text": [
            "(89996, 9)\n",
            "(10004, 9)\n",
            "(7180, 9)\n"
          ]
        }
      ]
    },
    {
      "cell_type": "code",
      "metadata": {
        "id": "T8w5hxg6NblB"
      },
      "source": [
        "# resize images to be larger\n",
        "x_train_resized = tf.image.resize(x_train, (32, 32)).numpy()\n",
        "x_val_resized = tf.image.resize(x_val, (32, 32)).numpy()\n",
        "x_test_resized = tf.image.resize(x_test, (32, 32)).numpy()"
      ],
      "execution_count": 18,
      "outputs": []
    },
    {
      "cell_type": "markdown",
      "metadata": {
        "id": "FBOztJ8WBHJM"
      },
      "source": [
        "## **Build Model**"
      ]
    },
    {
      "cell_type": "code",
      "metadata": {
        "id": "KpBgQfPqL-8s"
      },
      "source": [
        "IMG_SHAPE = (32, 32, 3)\n",
        "VGG16_MODEL=tf.keras.applications.VGG16(input_shape=IMG_SHAPE,\n",
        "                                               include_top=False,\n",
        "                                               weights=None)"
      ],
      "execution_count": null,
      "outputs": []
    },
    {
      "cell_type": "code",
      "metadata": {
        "id": "ryVSw3kBL-43"
      },
      "source": [
        "VGG16_MODEL.trainable=True\n",
        "global_average_layer = tf.keras.layers.GlobalAveragePooling2D()\n",
        "prediction_layer = tf.keras.layers.Dense(9 ,activation='softmax')"
      ],
      "execution_count": null,
      "outputs": []
    },
    {
      "cell_type": "code",
      "metadata": {
        "id": "M6J_kQjoL-1Y"
      },
      "source": [
        "model = tf.keras.Sequential([\n",
        "  VGG16_MODEL,\n",
        "  global_average_layer,\n",
        "  prediction_layer\n",
        "])"
      ],
      "execution_count": null,
      "outputs": []
    },
    {
      "cell_type": "code",
      "metadata": {
        "id": "VfsvdSjRL-xx"
      },
      "source": [
        "opt = tf.keras.optimizers.Adam(learning_rate=1e-05)\n",
        "model.compile(optimizer=opt, \n",
        "              loss='categorical_crossentropy',\n",
        "              metrics=[\"accuracy\"])"
      ],
      "execution_count": null,
      "outputs": []
    },
    {
      "cell_type": "code",
      "metadata": {
        "colab": {
          "base_uri": "https://localhost:8080/"
        },
        "id": "UjPWa5VfL-ui",
        "outputId": "e0a3fd5c-8193-404e-b4fb-72f8137670a5"
      },
      "source": [
        "model.summary()"
      ],
      "execution_count": null,
      "outputs": [
        {
          "output_type": "stream",
          "name": "stdout",
          "text": [
            "Model: \"sequential_1\"\n",
            "_________________________________________________________________\n",
            " Layer (type)                Output Shape              Param #   \n",
            "=================================================================\n",
            " vgg16 (Functional)          (None, 1, 1, 512)         14714688  \n",
            "                                                                 \n",
            " global_average_pooling2d_1   (None, 512)              0         \n",
            " (GlobalAveragePooling2D)                                        \n",
            "                                                                 \n",
            " dense_1 (Dense)             (None, 9)                 4617      \n",
            "                                                                 \n",
            "=================================================================\n",
            "Total params: 14,719,305\n",
            "Trainable params: 14,719,305\n",
            "Non-trainable params: 0\n",
            "_________________________________________________________________\n"
          ]
        }
      ]
    },
    {
      "cell_type": "markdown",
      "metadata": {
        "id": "fBW3uEZJNn6T"
      },
      "source": [
        "# **Train Model**"
      ]
    },
    {
      "cell_type": "code",
      "metadata": {
        "id": "5wF-Q9NBNTNp"
      },
      "source": [
        "from tensorflow.keras.callbacks import EarlyStopping\n",
        "from tensorflow.keras.callbacks import ModelCheckpoint\n",
        "from tensorflow.keras.callbacks import ReduceLROnPlateau"
      ],
      "execution_count": null,
      "outputs": []
    },
    {
      "cell_type": "code",
      "metadata": {
        "id": "yy3u33p1Xcig"
      },
      "source": [
        "early_stopping = EarlyStopping(monitor='val_loss', patience=10)\n",
        "mcp = ModelCheckpoint('vgg16model.hdf5', save_best_only=True, monitor='val_accuracy', mode='max')\n",
        "reduce_lr_loss = ReduceLROnPlateau(monitor='val_loss', factor=0.1, patience=3, verbose=1, min_delta=1e-4, mode='min')"
      ],
      "execution_count": null,
      "outputs": []
    },
    {
      "cell_type": "code",
      "metadata": {
        "colab": {
          "base_uri": "https://localhost:8080/"
        },
        "id": "XaArowUwOM43",
        "outputId": "da7a6246-5e61-44a6-c174-6cccabad84b2"
      },
      "source": [
        "model.fit(x_train_resized, y_cat_train, \n",
        "          epochs=50, \n",
        "          validation_data=(x_val_resized, y_cat_val), \n",
        "          batch_size=128, \n",
        "          callbacks=[early_stopping, mcp, reduce_lr_loss])"
      ],
      "execution_count": null,
      "outputs": [
        {
          "output_type": "stream",
          "name": "stdout",
          "text": [
            "Epoch 1/50\n",
            "704/704 [==============================] - 89s 123ms/step - loss: 1.7280 - accuracy: 0.3345 - val_loss: 1.5678 - val_accuracy: 0.3874 - lr: 1.0000e-05\n",
            "Epoch 2/50\n",
            "704/704 [==============================] - 86s 123ms/step - loss: 1.5259 - accuracy: 0.4109 - val_loss: 1.4939 - val_accuracy: 0.4286 - lr: 1.0000e-05\n",
            "Epoch 3/50\n",
            "704/704 [==============================] - 86s 122ms/step - loss: 1.4650 - accuracy: 0.4451 - val_loss: 1.4403 - val_accuracy: 0.4603 - lr: 1.0000e-05\n",
            "Epoch 4/50\n",
            "704/704 [==============================] - 86s 122ms/step - loss: 1.3896 - accuracy: 0.4822 - val_loss: 1.3525 - val_accuracy: 0.5056 - lr: 1.0000e-05\n",
            "Epoch 5/50\n",
            "704/704 [==============================] - 86s 122ms/step - loss: 1.3117 - accuracy: 0.5083 - val_loss: 1.2415 - val_accuracy: 0.5350 - lr: 1.0000e-05\n",
            "Epoch 6/50\n",
            "704/704 [==============================] - 86s 123ms/step - loss: 1.1973 - accuracy: 0.5522 - val_loss: 1.1243 - val_accuracy: 0.5881 - lr: 1.0000e-05\n",
            "Epoch 7/50\n",
            "704/704 [==============================] - 84s 119ms/step - loss: 1.0978 - accuracy: 0.5917 - val_loss: 1.2843 - val_accuracy: 0.5119 - lr: 1.0000e-05\n",
            "Epoch 8/50\n",
            "704/704 [==============================] - 86s 122ms/step - loss: 1.0305 - accuracy: 0.6164 - val_loss: 1.0511 - val_accuracy: 0.5995 - lr: 1.0000e-05\n",
            "Epoch 9/50\n",
            "704/704 [==============================] - 86s 123ms/step - loss: 0.9829 - accuracy: 0.6328 - val_loss: 1.3379 - val_accuracy: 0.4869 - lr: 1.0000e-05\n",
            "Epoch 10/50\n",
            "704/704 [==============================] - 86s 123ms/step - loss: 0.9331 - accuracy: 0.6525 - val_loss: 0.9944 - val_accuracy: 0.6149 - lr: 1.0000e-05\n",
            "Epoch 11/50\n",
            "704/704 [==============================] - 87s 123ms/step - loss: 0.9076 - accuracy: 0.6585 - val_loss: 0.8817 - val_accuracy: 0.6654 - lr: 1.0000e-05\n",
            "Epoch 12/50\n",
            "704/704 [==============================] - 84s 119ms/step - loss: 0.8794 - accuracy: 0.6664 - val_loss: 0.9212 - val_accuracy: 0.6466 - lr: 1.0000e-05\n",
            "Epoch 13/50\n",
            "704/704 [==============================] - 83s 119ms/step - loss: 0.8479 - accuracy: 0.6763 - val_loss: 0.9422 - val_accuracy: 0.6299 - lr: 1.0000e-05\n",
            "Epoch 14/50\n",
            "704/704 [==============================] - 86s 122ms/step - loss: 0.8341 - accuracy: 0.6814 - val_loss: 0.8454 - val_accuracy: 0.6688 - lr: 1.0000e-05\n",
            "Epoch 15/50\n",
            "704/704 [==============================] - 86s 122ms/step - loss: 0.8091 - accuracy: 0.6914 - val_loss: 0.8007 - val_accuracy: 0.6940 - lr: 1.0000e-05\n",
            "Epoch 16/50\n",
            "704/704 [==============================] - 84s 119ms/step - loss: 0.7852 - accuracy: 0.7011 - val_loss: 1.1377 - val_accuracy: 0.5695 - lr: 1.0000e-05\n",
            "Epoch 17/50\n",
            "704/704 [==============================] - 86s 122ms/step - loss: 0.7647 - accuracy: 0.7083 - val_loss: 0.7141 - val_accuracy: 0.7296 - lr: 1.0000e-05\n",
            "Epoch 18/50\n",
            "704/704 [==============================] - 84s 119ms/step - loss: 0.7451 - accuracy: 0.7159 - val_loss: 0.7391 - val_accuracy: 0.7171 - lr: 1.0000e-05\n",
            "Epoch 19/50\n",
            "704/704 [==============================] - 83s 119ms/step - loss: 0.7246 - accuracy: 0.7229 - val_loss: 0.7214 - val_accuracy: 0.7258 - lr: 1.0000e-05\n",
            "Epoch 20/50\n",
            "704/704 [==============================] - ETA: 0s - loss: 0.7061 - accuracy: 0.7296\n",
            "Epoch 00020: ReduceLROnPlateau reducing learning rate to 9.999999747378752e-07.\n",
            "704/704 [==============================] - 86s 122ms/step - loss: 0.7061 - accuracy: 0.7296 - val_loss: 0.7493 - val_accuracy: 0.7234 - lr: 1.0000e-05\n",
            "Epoch 21/50\n",
            "704/704 [==============================] - 86s 122ms/step - loss: 0.6430 - accuracy: 0.7542 - val_loss: 0.6383 - val_accuracy: 0.7596 - lr: 1.0000e-06\n",
            "Epoch 22/50\n",
            "704/704 [==============================] - 83s 119ms/step - loss: 0.6388 - accuracy: 0.7556 - val_loss: 0.6431 - val_accuracy: 0.7536 - lr: 1.0000e-06\n",
            "Epoch 23/50\n",
            "704/704 [==============================] - 86s 122ms/step - loss: 0.6361 - accuracy: 0.7557 - val_loss: 0.6373 - val_accuracy: 0.7568 - lr: 1.0000e-06\n",
            "Epoch 24/50\n",
            "704/704 [==============================] - 84s 119ms/step - loss: 0.6324 - accuracy: 0.7568 - val_loss: 0.6398 - val_accuracy: 0.7559 - lr: 1.0000e-06\n",
            "Epoch 25/50\n",
            "704/704 [==============================] - 84s 119ms/step - loss: 0.6294 - accuracy: 0.7585 - val_loss: 0.6378 - val_accuracy: 0.7566 - lr: 1.0000e-06\n",
            "Epoch 26/50\n",
            "704/704 [==============================] - 83s 119ms/step - loss: 0.6275 - accuracy: 0.7591 - val_loss: 0.6307 - val_accuracy: 0.7573 - lr: 1.0000e-06\n",
            "Epoch 27/50\n",
            "704/704 [==============================] - 84s 119ms/step - loss: 0.6249 - accuracy: 0.7594 - val_loss: 0.6314 - val_accuracy: 0.7587 - lr: 1.0000e-06\n",
            "Epoch 28/50\n",
            "704/704 [==============================] - 83s 118ms/step - loss: 0.6210 - accuracy: 0.7609 - val_loss: 0.6303 - val_accuracy: 0.7591 - lr: 1.0000e-06\n",
            "Epoch 29/50\n",
            "704/704 [==============================] - 84s 119ms/step - loss: 0.6214 - accuracy: 0.7610 - val_loss: 0.6257 - val_accuracy: 0.7592 - lr: 1.0000e-06\n",
            "Epoch 30/50\n",
            "704/704 [==============================] - 87s 124ms/step - loss: 0.6173 - accuracy: 0.7623 - val_loss: 0.6184 - val_accuracy: 0.7663 - lr: 1.0000e-06\n",
            "Epoch 31/50\n",
            "704/704 [==============================] - 84s 119ms/step - loss: 0.6155 - accuracy: 0.7634 - val_loss: 0.6198 - val_accuracy: 0.7622 - lr: 1.0000e-06\n",
            "Epoch 32/50\n",
            "704/704 [==============================] - 86s 122ms/step - loss: 0.6144 - accuracy: 0.7634 - val_loss: 0.6457 - val_accuracy: 0.7537 - lr: 1.0000e-06\n",
            "Epoch 33/50\n",
            "704/704 [==============================] - 89s 126ms/step - loss: 0.6122 - accuracy: 0.7647 - val_loss: 0.6126 - val_accuracy: 0.7667 - lr: 1.0000e-06\n",
            "Epoch 34/50\n",
            "704/704 [==============================] - 86s 122ms/step - loss: 0.6097 - accuracy: 0.7656 - val_loss: 0.6105 - val_accuracy: 0.7683 - lr: 1.0000e-06\n",
            "Epoch 35/50\n",
            "704/704 [==============================] - 84s 119ms/step - loss: 0.6068 - accuracy: 0.7658 - val_loss: 0.6188 - val_accuracy: 0.7660 - lr: 1.0000e-06\n",
            "Epoch 36/50\n",
            "704/704 [==============================] - 86s 123ms/step - loss: 0.6045 - accuracy: 0.7679 - val_loss: 0.6005 - val_accuracy: 0.7726 - lr: 1.0000e-06\n",
            "Epoch 37/50\n",
            "704/704 [==============================] - 84s 119ms/step - loss: 0.6050 - accuracy: 0.7673 - val_loss: 0.6106 - val_accuracy: 0.7670 - lr: 1.0000e-06\n",
            "Epoch 38/50\n",
            "704/704 [==============================] - 84s 119ms/step - loss: 0.6004 - accuracy: 0.7695 - val_loss: 0.6046 - val_accuracy: 0.7690 - lr: 1.0000e-06\n",
            "Epoch 39/50\n",
            "704/704 [==============================] - 86s 122ms/step - loss: 0.5992 - accuracy: 0.7692 - val_loss: 0.5963 - val_accuracy: 0.7748 - lr: 1.0000e-06\n",
            "Epoch 40/50\n",
            "704/704 [==============================] - 85s 120ms/step - loss: 0.5970 - accuracy: 0.7708 - val_loss: 0.6029 - val_accuracy: 0.7701 - lr: 1.0000e-06\n",
            "Epoch 41/50\n",
            "704/704 [==============================] - 86s 122ms/step - loss: 0.5964 - accuracy: 0.7706 - val_loss: 0.6034 - val_accuracy: 0.7707 - lr: 1.0000e-06\n",
            "Epoch 42/50\n",
            "704/704 [==============================] - 86s 122ms/step - loss: 0.5934 - accuracy: 0.7718 - val_loss: 0.5900 - val_accuracy: 0.7752 - lr: 1.0000e-06\n",
            "Epoch 43/50\n",
            "704/704 [==============================] - 84s 119ms/step - loss: 0.5924 - accuracy: 0.7721 - val_loss: 0.6249 - val_accuracy: 0.7617 - lr: 1.0000e-06\n",
            "Epoch 44/50\n",
            "704/704 [==============================] - 86s 123ms/step - loss: 0.5898 - accuracy: 0.7728 - val_loss: 0.5883 - val_accuracy: 0.7770 - lr: 1.0000e-06\n",
            "Epoch 45/50\n",
            "704/704 [==============================] - 86s 123ms/step - loss: 0.5895 - accuracy: 0.7725 - val_loss: 0.5849 - val_accuracy: 0.7785 - lr: 1.0000e-06\n",
            "Epoch 46/50\n",
            "704/704 [==============================] - 84s 119ms/step - loss: 0.5866 - accuracy: 0.7738 - val_loss: 0.5839 - val_accuracy: 0.7775 - lr: 1.0000e-06\n",
            "Epoch 47/50\n",
            "704/704 [==============================] - 85s 121ms/step - loss: 0.5841 - accuracy: 0.7752 - val_loss: 0.6048 - val_accuracy: 0.7684 - lr: 1.0000e-06\n",
            "Epoch 48/50\n",
            "704/704 [==============================] - 83s 118ms/step - loss: 0.5834 - accuracy: 0.7748 - val_loss: 0.5831 - val_accuracy: 0.7774 - lr: 1.0000e-06\n",
            "Epoch 49/50\n",
            "704/704 [==============================] - 83s 118ms/step - loss: 0.5822 - accuracy: 0.7757 - val_loss: 0.5898 - val_accuracy: 0.7742 - lr: 1.0000e-06\n",
            "Epoch 50/50\n",
            "704/704 [==============================] - 83s 118ms/step - loss: 0.5782 - accuracy: 0.7772 - val_loss: 0.5916 - val_accuracy: 0.7767 - lr: 1.0000e-06\n"
          ]
        },
        {
          "output_type": "execute_result",
          "data": {
            "text/plain": [
              "<keras.callbacks.History at 0x7ff43541a990>"
            ]
          },
          "metadata": {},
          "execution_count": 38
        }
      ]
    },
    {
      "cell_type": "markdown",
      "metadata": {
        "id": "ynPpMwJkS0yf"
      },
      "source": [
        "# **Evaluate Model**"
      ]
    },
    {
      "cell_type": "code",
      "metadata": {
        "id": "jgZuICxoOkSG"
      },
      "source": [
        "metrics = pd.DataFrame(model.history.history)"
      ],
      "execution_count": null,
      "outputs": []
    },
    {
      "cell_type": "code",
      "metadata": {
        "id": "Y9qm1q6US6zl",
        "colab": {
          "base_uri": "https://localhost:8080/",
          "height": 1000
        },
        "outputId": "7c51b252-66b3-49c8-f66e-a960e09519fb"
      },
      "source": [
        "metrics"
      ],
      "execution_count": null,
      "outputs": [
        {
          "output_type": "execute_result",
          "data": {
            "text/html": [
              "<div>\n",
              "<style scoped>\n",
              "    .dataframe tbody tr th:only-of-type {\n",
              "        vertical-align: middle;\n",
              "    }\n",
              "\n",
              "    .dataframe tbody tr th {\n",
              "        vertical-align: top;\n",
              "    }\n",
              "\n",
              "    .dataframe thead th {\n",
              "        text-align: right;\n",
              "    }\n",
              "</style>\n",
              "<table border=\"1\" class=\"dataframe\">\n",
              "  <thead>\n",
              "    <tr style=\"text-align: right;\">\n",
              "      <th></th>\n",
              "      <th>loss</th>\n",
              "      <th>accuracy</th>\n",
              "      <th>val_loss</th>\n",
              "      <th>val_accuracy</th>\n",
              "      <th>lr</th>\n",
              "    </tr>\n",
              "  </thead>\n",
              "  <tbody>\n",
              "    <tr>\n",
              "      <th>0</th>\n",
              "      <td>1.727989</td>\n",
              "      <td>0.334548</td>\n",
              "      <td>1.567761</td>\n",
              "      <td>0.387445</td>\n",
              "      <td>1.000000e-05</td>\n",
              "    </tr>\n",
              "    <tr>\n",
              "      <th>1</th>\n",
              "      <td>1.525908</td>\n",
              "      <td>0.410907</td>\n",
              "      <td>1.493910</td>\n",
              "      <td>0.428629</td>\n",
              "      <td>1.000000e-05</td>\n",
              "    </tr>\n",
              "    <tr>\n",
              "      <th>2</th>\n",
              "      <td>1.465037</td>\n",
              "      <td>0.445086</td>\n",
              "      <td>1.440295</td>\n",
              "      <td>0.460316</td>\n",
              "      <td>1.000000e-05</td>\n",
              "    </tr>\n",
              "    <tr>\n",
              "      <th>3</th>\n",
              "      <td>1.389603</td>\n",
              "      <td>0.482177</td>\n",
              "      <td>1.352463</td>\n",
              "      <td>0.505598</td>\n",
              "      <td>1.000000e-05</td>\n",
              "    </tr>\n",
              "    <tr>\n",
              "      <th>4</th>\n",
              "      <td>1.311701</td>\n",
              "      <td>0.508312</td>\n",
              "      <td>1.241490</td>\n",
              "      <td>0.534986</td>\n",
              "      <td>1.000000e-05</td>\n",
              "    </tr>\n",
              "    <tr>\n",
              "      <th>5</th>\n",
              "      <td>1.197294</td>\n",
              "      <td>0.552236</td>\n",
              "      <td>1.124254</td>\n",
              "      <td>0.588065</td>\n",
              "      <td>1.000000e-05</td>\n",
              "    </tr>\n",
              "    <tr>\n",
              "      <th>6</th>\n",
              "      <td>1.097774</td>\n",
              "      <td>0.591715</td>\n",
              "      <td>1.284272</td>\n",
              "      <td>0.511895</td>\n",
              "      <td>1.000000e-05</td>\n",
              "    </tr>\n",
              "    <tr>\n",
              "      <th>7</th>\n",
              "      <td>1.030468</td>\n",
              "      <td>0.616383</td>\n",
              "      <td>1.051063</td>\n",
              "      <td>0.599460</td>\n",
              "      <td>1.000000e-05</td>\n",
              "    </tr>\n",
              "    <tr>\n",
              "      <th>8</th>\n",
              "      <td>0.982913</td>\n",
              "      <td>0.632761</td>\n",
              "      <td>1.337881</td>\n",
              "      <td>0.486905</td>\n",
              "      <td>1.000000e-05</td>\n",
              "    </tr>\n",
              "    <tr>\n",
              "      <th>9</th>\n",
              "      <td>0.933104</td>\n",
              "      <td>0.652540</td>\n",
              "      <td>0.994437</td>\n",
              "      <td>0.614854</td>\n",
              "      <td>1.000000e-05</td>\n",
              "    </tr>\n",
              "    <tr>\n",
              "      <th>10</th>\n",
              "      <td>0.907574</td>\n",
              "      <td>0.658496</td>\n",
              "      <td>0.881653</td>\n",
              "      <td>0.665434</td>\n",
              "      <td>1.000000e-05</td>\n",
              "    </tr>\n",
              "    <tr>\n",
              "      <th>11</th>\n",
              "      <td>0.879406</td>\n",
              "      <td>0.666396</td>\n",
              "      <td>0.921165</td>\n",
              "      <td>0.646641</td>\n",
              "      <td>1.000000e-05</td>\n",
              "    </tr>\n",
              "    <tr>\n",
              "      <th>12</th>\n",
              "      <td>0.847896</td>\n",
              "      <td>0.676330</td>\n",
              "      <td>0.942171</td>\n",
              "      <td>0.629948</td>\n",
              "      <td>1.000000e-05</td>\n",
              "    </tr>\n",
              "    <tr>\n",
              "      <th>13</th>\n",
              "      <td>0.834136</td>\n",
              "      <td>0.681375</td>\n",
              "      <td>0.845360</td>\n",
              "      <td>0.668832</td>\n",
              "      <td>1.000000e-05</td>\n",
              "    </tr>\n",
              "    <tr>\n",
              "      <th>14</th>\n",
              "      <td>0.809075</td>\n",
              "      <td>0.691397</td>\n",
              "      <td>0.800730</td>\n",
              "      <td>0.694022</td>\n",
              "      <td>1.000000e-05</td>\n",
              "    </tr>\n",
              "    <tr>\n",
              "      <th>15</th>\n",
              "      <td>0.785233</td>\n",
              "      <td>0.701098</td>\n",
              "      <td>1.137678</td>\n",
              "      <td>0.569472</td>\n",
              "      <td>1.000000e-05</td>\n",
              "    </tr>\n",
              "    <tr>\n",
              "      <th>16</th>\n",
              "      <td>0.764667</td>\n",
              "      <td>0.708265</td>\n",
              "      <td>0.714147</td>\n",
              "      <td>0.729608</td>\n",
              "      <td>1.000000e-05</td>\n",
              "    </tr>\n",
              "    <tr>\n",
              "      <th>17</th>\n",
              "      <td>0.745089</td>\n",
              "      <td>0.715887</td>\n",
              "      <td>0.739058</td>\n",
              "      <td>0.717113</td>\n",
              "      <td>1.000000e-05</td>\n",
              "    </tr>\n",
              "    <tr>\n",
              "      <th>18</th>\n",
              "      <td>0.724640</td>\n",
              "      <td>0.722877</td>\n",
              "      <td>0.721413</td>\n",
              "      <td>0.725810</td>\n",
              "      <td>1.000000e-05</td>\n",
              "    </tr>\n",
              "    <tr>\n",
              "      <th>19</th>\n",
              "      <td>0.706070</td>\n",
              "      <td>0.729588</td>\n",
              "      <td>0.749338</td>\n",
              "      <td>0.723411</td>\n",
              "      <td>1.000000e-05</td>\n",
              "    </tr>\n",
              "    <tr>\n",
              "      <th>20</th>\n",
              "      <td>0.643007</td>\n",
              "      <td>0.754178</td>\n",
              "      <td>0.638252</td>\n",
              "      <td>0.759596</td>\n",
              "      <td>1.000000e-06</td>\n",
              "    </tr>\n",
              "    <tr>\n",
              "      <th>21</th>\n",
              "      <td>0.638762</td>\n",
              "      <td>0.755634</td>\n",
              "      <td>0.643127</td>\n",
              "      <td>0.753599</td>\n",
              "      <td>1.000000e-06</td>\n",
              "    </tr>\n",
              "    <tr>\n",
              "      <th>22</th>\n",
              "      <td>0.636134</td>\n",
              "      <td>0.755667</td>\n",
              "      <td>0.637303</td>\n",
              "      <td>0.756797</td>\n",
              "      <td>1.000000e-06</td>\n",
              "    </tr>\n",
              "    <tr>\n",
              "      <th>23</th>\n",
              "      <td>0.632406</td>\n",
              "      <td>0.756789</td>\n",
              "      <td>0.639842</td>\n",
              "      <td>0.755898</td>\n",
              "      <td>1.000000e-06</td>\n",
              "    </tr>\n",
              "    <tr>\n",
              "      <th>24</th>\n",
              "      <td>0.629373</td>\n",
              "      <td>0.758500</td>\n",
              "      <td>0.637753</td>\n",
              "      <td>0.756597</td>\n",
              "      <td>1.000000e-06</td>\n",
              "    </tr>\n",
              "    <tr>\n",
              "      <th>25</th>\n",
              "      <td>0.627499</td>\n",
              "      <td>0.759056</td>\n",
              "      <td>0.630724</td>\n",
              "      <td>0.757297</td>\n",
              "      <td>1.000000e-06</td>\n",
              "    </tr>\n",
              "    <tr>\n",
              "      <th>26</th>\n",
              "      <td>0.624937</td>\n",
              "      <td>0.759389</td>\n",
              "      <td>0.631404</td>\n",
              "      <td>0.758696</td>\n",
              "      <td>1.000000e-06</td>\n",
              "    </tr>\n",
              "    <tr>\n",
              "      <th>27</th>\n",
              "      <td>0.621026</td>\n",
              "      <td>0.760934</td>\n",
              "      <td>0.630270</td>\n",
              "      <td>0.759096</td>\n",
              "      <td>1.000000e-06</td>\n",
              "    </tr>\n",
              "    <tr>\n",
              "      <th>28</th>\n",
              "      <td>0.621412</td>\n",
              "      <td>0.760978</td>\n",
              "      <td>0.625674</td>\n",
              "      <td>0.759196</td>\n",
              "      <td>1.000000e-06</td>\n",
              "    </tr>\n",
              "    <tr>\n",
              "      <th>29</th>\n",
              "      <td>0.617298</td>\n",
              "      <td>0.762323</td>\n",
              "      <td>0.618389</td>\n",
              "      <td>0.766293</td>\n",
              "      <td>1.000000e-06</td>\n",
              "    </tr>\n",
              "    <tr>\n",
              "      <th>30</th>\n",
              "      <td>0.615512</td>\n",
              "      <td>0.763389</td>\n",
              "      <td>0.619798</td>\n",
              "      <td>0.762195</td>\n",
              "      <td>1.000000e-06</td>\n",
              "    </tr>\n",
              "    <tr>\n",
              "      <th>31</th>\n",
              "      <td>0.614402</td>\n",
              "      <td>0.763356</td>\n",
              "      <td>0.645745</td>\n",
              "      <td>0.753699</td>\n",
              "      <td>1.000000e-06</td>\n",
              "    </tr>\n",
              "    <tr>\n",
              "      <th>32</th>\n",
              "      <td>0.612249</td>\n",
              "      <td>0.764701</td>\n",
              "      <td>0.612620</td>\n",
              "      <td>0.766693</td>\n",
              "      <td>1.000000e-06</td>\n",
              "    </tr>\n",
              "    <tr>\n",
              "      <th>33</th>\n",
              "      <td>0.609743</td>\n",
              "      <td>0.765578</td>\n",
              "      <td>0.610451</td>\n",
              "      <td>0.768293</td>\n",
              "      <td>1.000000e-06</td>\n",
              "    </tr>\n",
              "    <tr>\n",
              "      <th>34</th>\n",
              "      <td>0.606802</td>\n",
              "      <td>0.765834</td>\n",
              "      <td>0.618805</td>\n",
              "      <td>0.765994</td>\n",
              "      <td>1.000000e-06</td>\n",
              "    </tr>\n",
              "    <tr>\n",
              "      <th>35</th>\n",
              "      <td>0.604477</td>\n",
              "      <td>0.767923</td>\n",
              "      <td>0.600505</td>\n",
              "      <td>0.772591</td>\n",
              "      <td>1.000000e-06</td>\n",
              "    </tr>\n",
              "    <tr>\n",
              "      <th>36</th>\n",
              "      <td>0.605043</td>\n",
              "      <td>0.767290</td>\n",
              "      <td>0.610568</td>\n",
              "      <td>0.766993</td>\n",
              "      <td>1.000000e-06</td>\n",
              "    </tr>\n",
              "    <tr>\n",
              "      <th>37</th>\n",
              "      <td>0.600443</td>\n",
              "      <td>0.769456</td>\n",
              "      <td>0.604605</td>\n",
              "      <td>0.768992</td>\n",
              "      <td>1.000000e-06</td>\n",
              "    </tr>\n",
              "    <tr>\n",
              "      <th>38</th>\n",
              "      <td>0.599196</td>\n",
              "      <td>0.769212</td>\n",
              "      <td>0.596298</td>\n",
              "      <td>0.774790</td>\n",
              "      <td>1.000000e-06</td>\n",
              "    </tr>\n",
              "    <tr>\n",
              "      <th>39</th>\n",
              "      <td>0.596987</td>\n",
              "      <td>0.770756</td>\n",
              "      <td>0.602899</td>\n",
              "      <td>0.770092</td>\n",
              "      <td>1.000000e-06</td>\n",
              "    </tr>\n",
              "    <tr>\n",
              "      <th>40</th>\n",
              "      <td>0.596446</td>\n",
              "      <td>0.770568</td>\n",
              "      <td>0.603356</td>\n",
              "      <td>0.770692</td>\n",
              "      <td>1.000000e-06</td>\n",
              "    </tr>\n",
              "    <tr>\n",
              "      <th>41</th>\n",
              "      <td>0.593426</td>\n",
              "      <td>0.771812</td>\n",
              "      <td>0.589951</td>\n",
              "      <td>0.775190</td>\n",
              "      <td>1.000000e-06</td>\n",
              "    </tr>\n",
              "    <tr>\n",
              "      <th>42</th>\n",
              "      <td>0.592421</td>\n",
              "      <td>0.772123</td>\n",
              "      <td>0.624893</td>\n",
              "      <td>0.761695</td>\n",
              "      <td>1.000000e-06</td>\n",
              "    </tr>\n",
              "    <tr>\n",
              "      <th>43</th>\n",
              "      <td>0.589821</td>\n",
              "      <td>0.772845</td>\n",
              "      <td>0.588263</td>\n",
              "      <td>0.776989</td>\n",
              "      <td>1.000000e-06</td>\n",
              "    </tr>\n",
              "    <tr>\n",
              "      <th>44</th>\n",
              "      <td>0.589451</td>\n",
              "      <td>0.772490</td>\n",
              "      <td>0.584928</td>\n",
              "      <td>0.778489</td>\n",
              "      <td>1.000000e-06</td>\n",
              "    </tr>\n",
              "    <tr>\n",
              "      <th>45</th>\n",
              "      <td>0.586619</td>\n",
              "      <td>0.773845</td>\n",
              "      <td>0.583892</td>\n",
              "      <td>0.777489</td>\n",
              "      <td>1.000000e-06</td>\n",
              "    </tr>\n",
              "    <tr>\n",
              "      <th>46</th>\n",
              "      <td>0.584112</td>\n",
              "      <td>0.775212</td>\n",
              "      <td>0.604752</td>\n",
              "      <td>0.768393</td>\n",
              "      <td>1.000000e-06</td>\n",
              "    </tr>\n",
              "    <tr>\n",
              "      <th>47</th>\n",
              "      <td>0.583416</td>\n",
              "      <td>0.774812</td>\n",
              "      <td>0.583111</td>\n",
              "      <td>0.777389</td>\n",
              "      <td>1.000000e-06</td>\n",
              "    </tr>\n",
              "    <tr>\n",
              "      <th>48</th>\n",
              "      <td>0.582193</td>\n",
              "      <td>0.775701</td>\n",
              "      <td>0.589806</td>\n",
              "      <td>0.774190</td>\n",
              "      <td>1.000000e-06</td>\n",
              "    </tr>\n",
              "    <tr>\n",
              "      <th>49</th>\n",
              "      <td>0.578249</td>\n",
              "      <td>0.777157</td>\n",
              "      <td>0.591560</td>\n",
              "      <td>0.776689</td>\n",
              "      <td>1.000000e-06</td>\n",
              "    </tr>\n",
              "  </tbody>\n",
              "</table>\n",
              "</div>"
            ],
            "text/plain": [
              "        loss  accuracy  val_loss  val_accuracy            lr\n",
              "0   1.727989  0.334548  1.567761      0.387445  1.000000e-05\n",
              "1   1.525908  0.410907  1.493910      0.428629  1.000000e-05\n",
              "2   1.465037  0.445086  1.440295      0.460316  1.000000e-05\n",
              "3   1.389603  0.482177  1.352463      0.505598  1.000000e-05\n",
              "4   1.311701  0.508312  1.241490      0.534986  1.000000e-05\n",
              "5   1.197294  0.552236  1.124254      0.588065  1.000000e-05\n",
              "6   1.097774  0.591715  1.284272      0.511895  1.000000e-05\n",
              "7   1.030468  0.616383  1.051063      0.599460  1.000000e-05\n",
              "8   0.982913  0.632761  1.337881      0.486905  1.000000e-05\n",
              "9   0.933104  0.652540  0.994437      0.614854  1.000000e-05\n",
              "10  0.907574  0.658496  0.881653      0.665434  1.000000e-05\n",
              "11  0.879406  0.666396  0.921165      0.646641  1.000000e-05\n",
              "12  0.847896  0.676330  0.942171      0.629948  1.000000e-05\n",
              "13  0.834136  0.681375  0.845360      0.668832  1.000000e-05\n",
              "14  0.809075  0.691397  0.800730      0.694022  1.000000e-05\n",
              "15  0.785233  0.701098  1.137678      0.569472  1.000000e-05\n",
              "16  0.764667  0.708265  0.714147      0.729608  1.000000e-05\n",
              "17  0.745089  0.715887  0.739058      0.717113  1.000000e-05\n",
              "18  0.724640  0.722877  0.721413      0.725810  1.000000e-05\n",
              "19  0.706070  0.729588  0.749338      0.723411  1.000000e-05\n",
              "20  0.643007  0.754178  0.638252      0.759596  1.000000e-06\n",
              "21  0.638762  0.755634  0.643127      0.753599  1.000000e-06\n",
              "22  0.636134  0.755667  0.637303      0.756797  1.000000e-06\n",
              "23  0.632406  0.756789  0.639842      0.755898  1.000000e-06\n",
              "24  0.629373  0.758500  0.637753      0.756597  1.000000e-06\n",
              "25  0.627499  0.759056  0.630724      0.757297  1.000000e-06\n",
              "26  0.624937  0.759389  0.631404      0.758696  1.000000e-06\n",
              "27  0.621026  0.760934  0.630270      0.759096  1.000000e-06\n",
              "28  0.621412  0.760978  0.625674      0.759196  1.000000e-06\n",
              "29  0.617298  0.762323  0.618389      0.766293  1.000000e-06\n",
              "30  0.615512  0.763389  0.619798      0.762195  1.000000e-06\n",
              "31  0.614402  0.763356  0.645745      0.753699  1.000000e-06\n",
              "32  0.612249  0.764701  0.612620      0.766693  1.000000e-06\n",
              "33  0.609743  0.765578  0.610451      0.768293  1.000000e-06\n",
              "34  0.606802  0.765834  0.618805      0.765994  1.000000e-06\n",
              "35  0.604477  0.767923  0.600505      0.772591  1.000000e-06\n",
              "36  0.605043  0.767290  0.610568      0.766993  1.000000e-06\n",
              "37  0.600443  0.769456  0.604605      0.768992  1.000000e-06\n",
              "38  0.599196  0.769212  0.596298      0.774790  1.000000e-06\n",
              "39  0.596987  0.770756  0.602899      0.770092  1.000000e-06\n",
              "40  0.596446  0.770568  0.603356      0.770692  1.000000e-06\n",
              "41  0.593426  0.771812  0.589951      0.775190  1.000000e-06\n",
              "42  0.592421  0.772123  0.624893      0.761695  1.000000e-06\n",
              "43  0.589821  0.772845  0.588263      0.776989  1.000000e-06\n",
              "44  0.589451  0.772490  0.584928      0.778489  1.000000e-06\n",
              "45  0.586619  0.773845  0.583892      0.777489  1.000000e-06\n",
              "46  0.584112  0.775212  0.604752      0.768393  1.000000e-06\n",
              "47  0.583416  0.774812  0.583111      0.777389  1.000000e-06\n",
              "48  0.582193  0.775701  0.589806      0.774190  1.000000e-06\n",
              "49  0.578249  0.777157  0.591560      0.776689  1.000000e-06"
            ]
          },
          "metadata": {},
          "execution_count": 40
        }
      ]
    },
    {
      "cell_type": "code",
      "metadata": {
        "id": "iIqKYIHCS7Ri",
        "colab": {
          "base_uri": "https://localhost:8080/"
        },
        "outputId": "f6be788c-b846-4ba2-a11d-1b941717e934"
      },
      "source": [
        "metrics.columns"
      ],
      "execution_count": null,
      "outputs": [
        {
          "output_type": "execute_result",
          "data": {
            "text/plain": [
              "Index(['loss', 'accuracy', 'val_loss', 'val_accuracy', 'lr'], dtype='object')"
            ]
          },
          "metadata": {},
          "execution_count": 41
        }
      ]
    },
    {
      "cell_type": "code",
      "metadata": {
        "id": "ocjst9KkS87_",
        "colab": {
          "base_uri": "https://localhost:8080/",
          "height": 286
        },
        "outputId": "7301f834-084f-4457-e981-9d2bb0196f1e"
      },
      "source": [
        "metrics[['accuracy', 'val_accuracy']].plot()"
      ],
      "execution_count": null,
      "outputs": [
        {
          "output_type": "execute_result",
          "data": {
            "text/plain": [
              "<matplotlib.axes._subplots.AxesSubplot at 0x7ff435387110>"
            ]
          },
          "metadata": {},
          "execution_count": 42
        },
        {
          "output_type": "display_data",
          "data": {
            "image/png": "[encoded data removed]",
            "text/plain": [
              "<Figure size 432x288 with 1 Axes>"
            ]
          },
          "metadata": {
            "needs_background": "light"
          }
        }
      ]
    },
    {
      "cell_type": "code",
      "metadata": {
        "id": "PKdTr7TkTDGB",
        "colab": {
          "base_uri": "https://localhost:8080/",
          "height": 282
        },
        "outputId": "2d036943-9e97-48e2-9516-230d02c51685"
      },
      "source": [
        "metrics[['loss', 'val_loss']].plot()"
      ],
      "execution_count": null,
      "outputs": [
        {
          "output_type": "execute_result",
          "data": {
            "text/plain": [
              "<matplotlib.axes._subplots.AxesSubplot at 0x7ff43515fed0>"
            ]
          },
          "metadata": {},
          "execution_count": 43
        },
        {
          "output_type": "display_data",
          "data": {
            "image/png": "[encoded data removed]",
            "text/plain": [
              "<Figure size 432x288 with 1 Axes>"
            ]
          },
          "metadata": {
            "needs_background": "light"
          }
        }
      ]
    },
    {
      "cell_type": "code",
      "metadata": {
        "id": "w395JCBBwEEY"
      },
      "source": [
        "model.save('mymodel_vgg16.h5')"
      ],
      "execution_count": null,
      "outputs": []
    },
    {
      "cell_type": "markdown",
      "metadata": {
        "id": "3Jcm7eelip4v"
      },
      "source": [
        "# **Predicting**"
      ]
    },
    {
      "cell_type": "code",
      "metadata": {
        "id": "l80hqqzLmpa8"
      },
      "source": [
        "from sklearn.metrics import classification_report, confusion_matrix"
      ],
      "execution_count": null,
      "outputs": []
    },
    {
      "cell_type": "code",
      "metadata": {
        "id": "DSXOUm8pitLM"
      },
      "source": [
        "model = tf.keras.models.load_model('mymodel_vgg16.h5')"
      ],
      "execution_count": 20,
      "outputs": []
    },
    {
      "cell_type": "code",
      "metadata": {
        "id": "NYXVwPdHixAU"
      },
      "source": [
        "y_pred = model.predict(x_test_resized)\n",
        "y_pred = np.argmax(y_pred,axis=1)"
      ],
      "execution_count": 23,
      "outputs": []
    },
    {
      "cell_type": "code",
      "metadata": {
        "colab": {
          "base_uri": "https://localhost:8080/"
        },
        "id": "-u3dbGGhj0mH",
        "outputId": "c6a5e723-a4b0-4332-eaa0-a4a2605cd81a"
      },
      "source": [
        "print(classification_report(y_pred, y_test))"
      ],
      "execution_count": 28,
      "outputs": [
        {
          "output_type": "stream",
          "name": "stdout",
          "text": [
            "              precision    recall  f1-score   support\n",
            "\n",
            "           0       0.90      0.89      0.90      1353\n",
            "           1       1.00      0.87      0.93       972\n",
            "           2       0.65      0.38      0.48       579\n",
            "           3       0.75      0.95      0.83       499\n",
            "           4       0.81      0.86      0.83       974\n",
            "           5       0.64      0.66      0.65       566\n",
            "           6       0.55      0.73      0.63       558\n",
            "           7       0.39      0.56      0.46       293\n",
            "           8       0.82      0.73      0.78      1386\n",
            "\n",
            "    accuracy                           0.77      7180\n",
            "   macro avg       0.72      0.74      0.72      7180\n",
            "weighted avg       0.79      0.77      0.77      7180\n",
            "\n"
          ]
        }
      ]
    },
    {
      "cell_type": "code",
      "metadata": {
        "colab": {
          "base_uri": "https://localhost:8080/"
        },
        "id": "UDrhjthWj4BL",
        "outputId": "bdadd84b-29a3-4111-9118-7fbbc247b1e3"
      },
      "source": [
        "print(confusion_matrix(y_pred, y_test))"
      ],
      "execution_count": 29,
      "outputs": [
        {
          "output_type": "stream",
          "name": "stdout",
          "text": [
            "[[1206    0    9    0   78   55    1    4    0]\n",
            " [  15  847    0    0  108    0    0    2    0]\n",
            " [   0    0  219   42    0  120   15  103   80]\n",
            " [   0    0    0  473    0    0   19    1    6]\n",
            " [  29    0    0    1  837    7   76    6   18]\n",
            " [  86    0   19    3    1  376   11   50   20]\n",
            " [   0    0    0   58    5    0  410    1   84]\n",
            " [   0    0   86    1    3   29    2  164    8]\n",
            " [   2    0    6   56    3    5  207   90 1017]]\n"
          ]
        }
      ]
    },
    {
      "cell_type": "code",
      "metadata": {
        "id": "Lhsik1HXkhQJ"
      },
      "source": [
        ""
      ],
      "execution_count": null,
      "outputs": []
    }
  ]
}